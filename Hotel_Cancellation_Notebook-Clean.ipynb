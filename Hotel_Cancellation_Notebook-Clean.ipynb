{
 "cells": [
  {
   "cell_type": "markdown",
   "metadata": {
    "toc": true
   },
   "source": [
    "<h1>Table of Contents<span class=\"tocSkip\"></span></h1>\n",
    "<div class=\"toc\"><ul class=\"toc-item\"><li><span><a href=\"#Business-Understanding\" data-toc-modified-id=\"Business-Understanding-1\"><span class=\"toc-item-num\">1&nbsp;&nbsp;</span>Business Understanding</a></span></li><li><span><a href=\"#The-Data\" data-toc-modified-id=\"The-Data-2\"><span class=\"toc-item-num\">2&nbsp;&nbsp;</span>The Data</a></span><ul class=\"toc-item\"><li><ul class=\"toc-item\"><li><span><a href=\"#Adding-new-feature-total_stay\" data-toc-modified-id=\"Adding-new-feature-total_stay-2.0.1\"><span class=\"toc-item-num\">2.0.1&nbsp;&nbsp;</span>Adding new feature <code>total_stay</code></a></span></li></ul></li><li><span><a href=\"#Changing-dtype-for-use-later-on-with-scaling.\" data-toc-modified-id=\"Changing-dtype-for-use-later-on-with-scaling.-2.1\"><span class=\"toc-item-num\">2.1&nbsp;&nbsp;</span>Changing dtype for use later on with scaling.</a></span></li><li><span><a href=\"#Data-Visualizations\" data-toc-modified-id=\"Data-Visualizations-2.2\"><span class=\"toc-item-num\">2.2&nbsp;&nbsp;</span>Data Visualizations</a></span><ul class=\"toc-item\"><li><span><a href=\"#Plotting-the-Ratio-of-Cancellations-to-total-bookings-for-each-feature\" data-toc-modified-id=\"Plotting-the-Ratio-of-Cancellations-to-total-bookings-for-each-feature-2.2.1\"><span class=\"toc-item-num\">2.2.1&nbsp;&nbsp;</span>Plotting the Ratio of Cancellations to total bookings for each feature</a></span></li><li><span><a href=\"#Plotting-the-Ratio-of-Cancellations-to-total-bookings-for-each-feature-with-len->-12\" data-toc-modified-id=\"Plotting-the-Ratio-of-Cancellations-to-total-bookings-for-each-feature-with-len->-12-2.2.2\"><span class=\"toc-item-num\">2.2.2&nbsp;&nbsp;</span>Plotting the Ratio of Cancellations to total bookings for each feature with len &gt; 12</a></span></li></ul></li><li><span><a href=\"#No.-of-Weeknights\" data-toc-modified-id=\"No.-of-Weeknights-2.3\"><span class=\"toc-item-num\">2.3&nbsp;&nbsp;</span>No. of Weeknights</a></span><ul class=\"toc-item\"><li><span><a href=\"#Weeknights-proportional\" data-toc-modified-id=\"Weeknights-proportional-2.3.1\"><span class=\"toc-item-num\">2.3.1&nbsp;&nbsp;</span>Weeknights proportional</a></span></li></ul></li><li><span><a href=\"#Booking-Lead-Time\" data-toc-modified-id=\"Booking-Lead-Time-2.4\"><span class=\"toc-item-num\">2.4&nbsp;&nbsp;</span>Booking Lead Time</a></span><ul class=\"toc-item\"><li><ul class=\"toc-item\"><li><span><a href=\"#Probably-delete-this,-buckets-don't-tell-as-good-of-a-story\" data-toc-modified-id=\"Probably-delete-this,-buckets-don't-tell-as-good-of-a-story-2.4.0.1\"><span class=\"toc-item-num\">2.4.0.1&nbsp;&nbsp;</span>Probably delete this, buckets don't tell as good of a story</a></span></li></ul></li><li><span><a href=\"#Lead-time-proportional\" data-toc-modified-id=\"Lead-time-proportional-2.4.1\"><span class=\"toc-item-num\">2.4.1&nbsp;&nbsp;</span>Lead time proportional</a></span><ul class=\"toc-item\"><li><span><a href=\"#Adding-a-simple-moving-average-for-10-periods\" data-toc-modified-id=\"Adding-a-simple-moving-average-for-10-periods-2.4.1.1\"><span class=\"toc-item-num\">2.4.1.1&nbsp;&nbsp;</span>Adding a simple moving average for 10 periods</a></span></li><li><span><a href=\"#Binning-it,-proabably-delete,-doesnt-tell-a-good-story\" data-toc-modified-id=\"Binning-it,-proabably-delete,-doesnt-tell-a-good-story-2.4.1.2\"><span class=\"toc-item-num\">2.4.1.2&nbsp;&nbsp;</span>Binning it, proabably delete, doesnt tell a good story</a></span></li></ul></li></ul></li><li><span><a href=\"#Arrival-Date\" data-toc-modified-id=\"Arrival-Date-2.5\"><span class=\"toc-item-num\">2.5&nbsp;&nbsp;</span>Arrival Date</a></span></li><li><span><a href=\"#no_of_previous_bookings_not_canceled\" data-toc-modified-id=\"no_of_previous_bookings_not_canceled-2.6\"><span class=\"toc-item-num\">2.6&nbsp;&nbsp;</span>no_of_previous_bookings_not_canceled</a></span></li><li><span><a href=\"#avg_price_per_room\" data-toc-modified-id=\"avg_price_per_room-2.7\"><span class=\"toc-item-num\">2.7&nbsp;&nbsp;</span>avg_price_per_room</a></span><ul class=\"toc-item\"><li><span><a href=\"#Binning-to-see-if-it-clears-things-up\" data-toc-modified-id=\"Binning-to-see-if-it-clears-things-up-2.7.1\"><span class=\"toc-item-num\">2.7.1&nbsp;&nbsp;</span>Binning to see if it clears things up</a></span></li><li><span><a href=\"#Proportional\" data-toc-modified-id=\"Proportional-2.7.2\"><span class=\"toc-item-num\">2.7.2&nbsp;&nbsp;</span>Proportional</a></span></li></ul></li><li><span><a href=\"#Value-Counts-of-string-cols\" data-toc-modified-id=\"Value-Counts-of-string-cols-2.8\"><span class=\"toc-item-num\">2.8&nbsp;&nbsp;</span>Value Counts of string cols</a></span><ul class=\"toc-item\"><li><span><a href=\"#Let's-take-a-look-at-a-breakdown-of-the-target-var.\" data-toc-modified-id=\"Let's-take-a-look-at-a-breakdown-of-the-target-var.-2.8.1\"><span class=\"toc-item-num\">2.8.1&nbsp;&nbsp;</span>Let's take a look at a breakdown of the target var.</a></span></li></ul></li><li><span><a href=\"#OHE-Data\" data-toc-modified-id=\"OHE-Data-2.9\"><span class=\"toc-item-num\">2.9&nbsp;&nbsp;</span>OHE Data</a></span></li></ul></li><li><span><a href=\"#Setting-up-a-pipeline\" data-toc-modified-id=\"Setting-up-a-pipeline-3\"><span class=\"toc-item-num\">3&nbsp;&nbsp;</span>Setting up a pipeline</a></span></li><li><span><a href=\"#Try-some-basic-models\" data-toc-modified-id=\"Try-some-basic-models-4\"><span class=\"toc-item-num\">4&nbsp;&nbsp;</span>Try some basic models</a></span><ul class=\"toc-item\"><li><span><a href=\"#First-lets-split-the-data\" data-toc-modified-id=\"First-lets-split-the-data-4.1\"><span class=\"toc-item-num\">4.1&nbsp;&nbsp;</span>First lets split the data</a></span></li><li><span><a href=\"#Dummy-Model\" data-toc-modified-id=\"Dummy-Model-4.2\"><span class=\"toc-item-num\">4.2&nbsp;&nbsp;</span>Dummy Model</a></span></li><li><span><a href=\"#Logistic-Regression\" data-toc-modified-id=\"Logistic-Regression-4.3\"><span class=\"toc-item-num\">4.3&nbsp;&nbsp;</span>Logistic Regression</a></span></li><li><span><a href=\"#XGBoost\" data-toc-modified-id=\"XGBoost-4.4\"><span class=\"toc-item-num\">4.4&nbsp;&nbsp;</span>XGBoost</a></span></li><li><span><a href=\"#XGB-Random-Forest\" data-toc-modified-id=\"XGB-Random-Forest-4.5\"><span class=\"toc-item-num\">4.5&nbsp;&nbsp;</span>XGB Random Forest</a></span></li><li><span><a href=\"#Random-Forest\" data-toc-modified-id=\"Random-Forest-4.6\"><span class=\"toc-item-num\">4.6&nbsp;&nbsp;</span>Random Forest</a></span></li></ul></li><li><span><a href=\"#Saving-Functions-just-in-case-changes-need-made\" data-toc-modified-id=\"Saving-Functions-just-in-case-changes-need-made-5\"><span class=\"toc-item-num\">5&nbsp;&nbsp;</span>Saving Functions just in case changes need made</a></span></li></ul></div>"
   ]
  },
  {
   "cell_type": "code",
   "execution_count": 1,
   "metadata": {
    "ExecuteTime": {
     "end_time": "2023-03-14T18:10:15.271364Z",
     "start_time": "2023-03-14T18:10:14.893996Z"
    }
   },
   "outputs": [],
   "source": [
    "# Basic imports\n",
    "import pandas as pd\n",
    "import matplotlib.pyplot as plt\n",
    "import seaborn as sns\n",
    "sns.set_theme()\n",
    "%matplotlib inline\n",
    "\n",
    "# Modeling imports\n",
    "from sklearn.preprocessing import OneHotEncoder, StandardScaler\n",
    "from sklearn.pipeline import Pipeline\n",
    "from sklearn.compose import ColumnTransformer,  make_column_selector as selector\n",
    "from sklearn.dummy import DummyClassifier\n",
    "from sklearn.model_selection import train_test_split\n",
    "from sklearn.linear_model import LogisticRegression\n",
    "from sklearn.metrics import classification_report, plot_confusion_matrix, \\\n",
    "                            accuracy_score, roc_auc_score, precision_score, \\\n",
    "                            recall_score, f1_score\n",
    "\n",
    "from sklearn.svm import SVC, NuSVC, LinearSVC\n",
    "from sklearn.ensemble import RandomForestClassifier\n",
    "\n",
    "from xgboost import XGBClassifier, XGBRFClassifier\n",
    "\n",
    "# Import warning blocker for convergence warning\n",
    "# from warnings import simplefilter\n",
    "# from sklearn.exceptions import ConvergenceWarning\n",
    "# simplefilter(\"ignore\", category=ConvergenceWarning)\n",
    "\n",
    "# import custom scoring function\n",
    "from functions import score_model"
   ]
  },
  {
   "cell_type": "markdown",
   "metadata": {},
   "source": [
    "Data Source: https://www.kaggle.com/datasets/ahsan81/hotel-reservations-classification-dataset?resource=download"
   ]
  },
  {
   "cell_type": "markdown",
   "metadata": {},
   "source": [
    "Things to do: \n",
    "\n",
    "**Short-term**\n",
    "- Do some plotting in EDA to make it prettier\n",
    "- Format the EDA portion to make it prettier\n",
    "- Check business understanding to ensure modeling needs are being met\n",
    "- Find hotel data date range and add to intro\n",
    "\n",
    "**Long-term**\n",
    "- ~~Put Function in a functions doc to make it prettier~~\n",
    "- Put it into production with Streamlit\n",
    "\n",
    "\n",
    "\n",
    "**Next**\n",
    "- ~~GO THROUGH DICTIONARY AND REMOVE CATEGORIES THAT ARE TOO BIG~~\n",
    "    - ~~THEN PLOT THEM~~\n",
    "- Find a way to plot remaining cols (group together in categories?)\n",
    "- ~~maybe engineer a feature `tot_num_days` for total days of stay?~~\n",
    "- Standard Scaler\n",
    "\n",
    "\n",
    "\n",
    "- It would be cool if we had a column for when the cancellation was in relation to either booking date or stay date. Are these last minute cancellations or are they being done far in advance?"
   ]
  },
  {
   "cell_type": "markdown",
   "metadata": {},
   "source": [
    "![hotel_intro](./Images/Hotel_intro.jpg)"
   ]
  },
  {
   "cell_type": "markdown",
   "metadata": {},
   "source": [
    "# Business Understanding"
   ]
  },
  {
   "cell_type": "markdown",
   "metadata": {},
   "source": [
    "Hotels are often plagued with last minutes cancellations as people's plans change, schedules conflict, or if a better price was found elsewhere. Research from Avvio.com [shows](https://www.avvio.com/2022-cancellation-rate-trends/) that revenue lost due to  hotel room cancellations increased 33% from 2019 to 2022.\n",
    "\n",
    "The goal of this analysis is to use past information about a particular guest (i.e. have they cancelled in the past?), along with information about their stay and requests (i.e. room type, length of stay), to predict whether the guest is likely to cancel their reservation or not show up at all. \n",
    "\n",
    "Being able to predict whether a guest is likely to cancel would be a huge benefit to the hotel. Having an idea of potential cancellations would allow management to better plan for staffing, food budgets, and other commodities that depend on guest levels. \n",
    "\n",
    "Precision is important in this analysis as we want to minimize the number of false positives (when the model predicts that a guest will cancel but the guest does not actually cancel) to ensure a high level of customer service for guests. "
   ]
  },
  {
   "cell_type": "markdown",
   "metadata": {},
   "source": [
    "# The Data"
   ]
  },
  {
   "cell_type": "markdown",
   "metadata": {},
   "source": [
    "Importing the data and running preliminary descriptive analysis shows that there are 36,275 data entries. There are no null values in the dataset. There are a total of 19 columns including a unique identifier column `Booking_ID` and the target column `booking_status`.\n",
    "\n",
    "The dataset features are primarily numerical with three object columns: `type_of_meal_plan`, `room_type_reserved`, `market_segment_type`.\n",
    "\n",
    "\n",
    "Notable missing features:\n",
    "- Hotel rating/stars\n",
    "- Hotel Location\n",
    "- Size of hotel/number of rooms the hotel has\n",
    "\n",
    "\n",
    "\n",
    "The average hotel stay is for two adult guests with no children for a long weekend (1 week night and 2 weekend nights) booked about 3 months in advance. The average hotel room price is about $103."
   ]
  },
  {
   "cell_type": "code",
   "execution_count": 2,
   "metadata": {
    "ExecuteTime": {
     "end_time": "2023-03-14T18:10:20.994590Z",
     "start_time": "2023-03-14T18:10:20.956039Z"
    }
   },
   "outputs": [],
   "source": [
    "df = pd.read_csv('./Data/Hotel Reservations.csv')"
   ]
  },
  {
   "cell_type": "code",
   "execution_count": 3,
   "metadata": {
    "ExecuteTime": {
     "end_time": "2023-03-14T18:10:22.157125Z",
     "start_time": "2023-03-14T18:10:22.059021Z"
    }
   },
   "outputs": [
    {
     "data": {
      "text/html": [
       "<div>\n",
       "<style scoped>\n",
       "    .dataframe tbody tr th:only-of-type {\n",
       "        vertical-align: middle;\n",
       "    }\n",
       "\n",
       "    .dataframe tbody tr th {\n",
       "        vertical-align: top;\n",
       "    }\n",
       "\n",
       "    .dataframe thead th {\n",
       "        text-align: right;\n",
       "    }\n",
       "</style>\n",
       "<table border=\"1\" class=\"dataframe\">\n",
       "  <thead>\n",
       "    <tr style=\"text-align: right;\">\n",
       "      <th></th>\n",
       "      <th>Booking_ID</th>\n",
       "      <th>no_of_adults</th>\n",
       "      <th>no_of_children</th>\n",
       "      <th>no_of_weekend_nights</th>\n",
       "      <th>no_of_week_nights</th>\n",
       "      <th>type_of_meal_plan</th>\n",
       "      <th>required_car_parking_space</th>\n",
       "      <th>room_type_reserved</th>\n",
       "      <th>lead_time</th>\n",
       "      <th>arrival_year</th>\n",
       "      <th>arrival_month</th>\n",
       "      <th>arrival_date</th>\n",
       "      <th>market_segment_type</th>\n",
       "      <th>repeated_guest</th>\n",
       "      <th>no_of_previous_cancellations</th>\n",
       "      <th>no_of_previous_bookings_not_canceled</th>\n",
       "      <th>avg_price_per_room</th>\n",
       "      <th>no_of_special_requests</th>\n",
       "      <th>booking_status</th>\n",
       "    </tr>\n",
       "  </thead>\n",
       "  <tbody>\n",
       "    <tr>\n",
       "      <th>0</th>\n",
       "      <td>INN00001</td>\n",
       "      <td>2</td>\n",
       "      <td>0</td>\n",
       "      <td>1</td>\n",
       "      <td>2</td>\n",
       "      <td>Meal Plan 1</td>\n",
       "      <td>0</td>\n",
       "      <td>Room_Type 1</td>\n",
       "      <td>224</td>\n",
       "      <td>2017</td>\n",
       "      <td>10</td>\n",
       "      <td>2</td>\n",
       "      <td>Offline</td>\n",
       "      <td>0</td>\n",
       "      <td>0</td>\n",
       "      <td>0</td>\n",
       "      <td>65.00</td>\n",
       "      <td>0</td>\n",
       "      <td>Not_Canceled</td>\n",
       "    </tr>\n",
       "    <tr>\n",
       "      <th>1</th>\n",
       "      <td>INN00002</td>\n",
       "      <td>2</td>\n",
       "      <td>0</td>\n",
       "      <td>2</td>\n",
       "      <td>3</td>\n",
       "      <td>Not Selected</td>\n",
       "      <td>0</td>\n",
       "      <td>Room_Type 1</td>\n",
       "      <td>5</td>\n",
       "      <td>2018</td>\n",
       "      <td>11</td>\n",
       "      <td>6</td>\n",
       "      <td>Online</td>\n",
       "      <td>0</td>\n",
       "      <td>0</td>\n",
       "      <td>0</td>\n",
       "      <td>106.68</td>\n",
       "      <td>1</td>\n",
       "      <td>Not_Canceled</td>\n",
       "    </tr>\n",
       "    <tr>\n",
       "      <th>2</th>\n",
       "      <td>INN00003</td>\n",
       "      <td>1</td>\n",
       "      <td>0</td>\n",
       "      <td>2</td>\n",
       "      <td>1</td>\n",
       "      <td>Meal Plan 1</td>\n",
       "      <td>0</td>\n",
       "      <td>Room_Type 1</td>\n",
       "      <td>1</td>\n",
       "      <td>2018</td>\n",
       "      <td>2</td>\n",
       "      <td>28</td>\n",
       "      <td>Online</td>\n",
       "      <td>0</td>\n",
       "      <td>0</td>\n",
       "      <td>0</td>\n",
       "      <td>60.00</td>\n",
       "      <td>0</td>\n",
       "      <td>Canceled</td>\n",
       "    </tr>\n",
       "  </tbody>\n",
       "</table>\n",
       "</div>"
      ],
      "text/plain": [
       "  Booking_ID  no_of_adults  no_of_children  no_of_weekend_nights  \\\n",
       "0   INN00001             2               0                     1   \n",
       "1   INN00002             2               0                     2   \n",
       "2   INN00003             1               0                     2   \n",
       "\n",
       "   no_of_week_nights type_of_meal_plan  required_car_parking_space  \\\n",
       "0                  2       Meal Plan 1                           0   \n",
       "1                  3      Not Selected                           0   \n",
       "2                  1       Meal Plan 1                           0   \n",
       "\n",
       "  room_type_reserved  lead_time  arrival_year  arrival_month  arrival_date  \\\n",
       "0        Room_Type 1        224          2017             10             2   \n",
       "1        Room_Type 1          5          2018             11             6   \n",
       "2        Room_Type 1          1          2018              2            28   \n",
       "\n",
       "  market_segment_type  repeated_guest  no_of_previous_cancellations  \\\n",
       "0             Offline               0                             0   \n",
       "1              Online               0                             0   \n",
       "2              Online               0                             0   \n",
       "\n",
       "   no_of_previous_bookings_not_canceled  avg_price_per_room  \\\n",
       "0                                     0               65.00   \n",
       "1                                     0              106.68   \n",
       "2                                     0               60.00   \n",
       "\n",
       "   no_of_special_requests booking_status  \n",
       "0                       0   Not_Canceled  \n",
       "1                       1   Not_Canceled  \n",
       "2                       0       Canceled  "
      ]
     },
     "execution_count": 3,
     "metadata": {},
     "output_type": "execute_result"
    }
   ],
   "source": [
    "df.head(3)"
   ]
  },
  {
   "cell_type": "code",
   "execution_count": 4,
   "metadata": {
    "ExecuteTime": {
     "end_time": "2023-03-14T18:10:22.831554Z",
     "start_time": "2023-03-14T18:10:22.803509Z"
    }
   },
   "outputs": [
    {
     "data": {
      "text/html": [
       "<div>\n",
       "<style scoped>\n",
       "    .dataframe tbody tr th:only-of-type {\n",
       "        vertical-align: middle;\n",
       "    }\n",
       "\n",
       "    .dataframe tbody tr th {\n",
       "        vertical-align: top;\n",
       "    }\n",
       "\n",
       "    .dataframe thead th {\n",
       "        text-align: right;\n",
       "    }\n",
       "</style>\n",
       "<table border=\"1\" class=\"dataframe\">\n",
       "  <thead>\n",
       "    <tr style=\"text-align: right;\">\n",
       "      <th></th>\n",
       "      <th>no_of_adults</th>\n",
       "      <th>no_of_children</th>\n",
       "      <th>no_of_weekend_nights</th>\n",
       "      <th>no_of_week_nights</th>\n",
       "      <th>required_car_parking_space</th>\n",
       "      <th>lead_time</th>\n",
       "      <th>arrival_year</th>\n",
       "      <th>arrival_month</th>\n",
       "      <th>arrival_date</th>\n",
       "      <th>repeated_guest</th>\n",
       "      <th>no_of_previous_cancellations</th>\n",
       "      <th>no_of_previous_bookings_not_canceled</th>\n",
       "      <th>avg_price_per_room</th>\n",
       "      <th>no_of_special_requests</th>\n",
       "    </tr>\n",
       "  </thead>\n",
       "  <tbody>\n",
       "    <tr>\n",
       "      <th>count</th>\n",
       "      <td>36275.000000</td>\n",
       "      <td>36275.000000</td>\n",
       "      <td>36275.000000</td>\n",
       "      <td>36275.000000</td>\n",
       "      <td>36275.000000</td>\n",
       "      <td>36275.000000</td>\n",
       "      <td>36275.000000</td>\n",
       "      <td>36275.000000</td>\n",
       "      <td>36275.000000</td>\n",
       "      <td>36275.000000</td>\n",
       "      <td>36275.000000</td>\n",
       "      <td>36275.000000</td>\n",
       "      <td>36275.000000</td>\n",
       "      <td>36275.000000</td>\n",
       "    </tr>\n",
       "    <tr>\n",
       "      <th>mean</th>\n",
       "      <td>1.844962</td>\n",
       "      <td>0.105279</td>\n",
       "      <td>0.810724</td>\n",
       "      <td>2.204300</td>\n",
       "      <td>0.030986</td>\n",
       "      <td>85.232557</td>\n",
       "      <td>2017.820427</td>\n",
       "      <td>7.423653</td>\n",
       "      <td>15.596995</td>\n",
       "      <td>0.025637</td>\n",
       "      <td>0.023349</td>\n",
       "      <td>0.153411</td>\n",
       "      <td>103.423539</td>\n",
       "      <td>0.619655</td>\n",
       "    </tr>\n",
       "    <tr>\n",
       "      <th>std</th>\n",
       "      <td>0.518715</td>\n",
       "      <td>0.402648</td>\n",
       "      <td>0.870644</td>\n",
       "      <td>1.410905</td>\n",
       "      <td>0.173281</td>\n",
       "      <td>85.930817</td>\n",
       "      <td>0.383836</td>\n",
       "      <td>3.069894</td>\n",
       "      <td>8.740447</td>\n",
       "      <td>0.158053</td>\n",
       "      <td>0.368331</td>\n",
       "      <td>1.754171</td>\n",
       "      <td>35.089424</td>\n",
       "      <td>0.786236</td>\n",
       "    </tr>\n",
       "    <tr>\n",
       "      <th>min</th>\n",
       "      <td>0.000000</td>\n",
       "      <td>0.000000</td>\n",
       "      <td>0.000000</td>\n",
       "      <td>0.000000</td>\n",
       "      <td>0.000000</td>\n",
       "      <td>0.000000</td>\n",
       "      <td>2017.000000</td>\n",
       "      <td>1.000000</td>\n",
       "      <td>1.000000</td>\n",
       "      <td>0.000000</td>\n",
       "      <td>0.000000</td>\n",
       "      <td>0.000000</td>\n",
       "      <td>0.000000</td>\n",
       "      <td>0.000000</td>\n",
       "    </tr>\n",
       "    <tr>\n",
       "      <th>25%</th>\n",
       "      <td>2.000000</td>\n",
       "      <td>0.000000</td>\n",
       "      <td>0.000000</td>\n",
       "      <td>1.000000</td>\n",
       "      <td>0.000000</td>\n",
       "      <td>17.000000</td>\n",
       "      <td>2018.000000</td>\n",
       "      <td>5.000000</td>\n",
       "      <td>8.000000</td>\n",
       "      <td>0.000000</td>\n",
       "      <td>0.000000</td>\n",
       "      <td>0.000000</td>\n",
       "      <td>80.300000</td>\n",
       "      <td>0.000000</td>\n",
       "    </tr>\n",
       "    <tr>\n",
       "      <th>50%</th>\n",
       "      <td>2.000000</td>\n",
       "      <td>0.000000</td>\n",
       "      <td>1.000000</td>\n",
       "      <td>2.000000</td>\n",
       "      <td>0.000000</td>\n",
       "      <td>57.000000</td>\n",
       "      <td>2018.000000</td>\n",
       "      <td>8.000000</td>\n",
       "      <td>16.000000</td>\n",
       "      <td>0.000000</td>\n",
       "      <td>0.000000</td>\n",
       "      <td>0.000000</td>\n",
       "      <td>99.450000</td>\n",
       "      <td>0.000000</td>\n",
       "    </tr>\n",
       "    <tr>\n",
       "      <th>75%</th>\n",
       "      <td>2.000000</td>\n",
       "      <td>0.000000</td>\n",
       "      <td>2.000000</td>\n",
       "      <td>3.000000</td>\n",
       "      <td>0.000000</td>\n",
       "      <td>126.000000</td>\n",
       "      <td>2018.000000</td>\n",
       "      <td>10.000000</td>\n",
       "      <td>23.000000</td>\n",
       "      <td>0.000000</td>\n",
       "      <td>0.000000</td>\n",
       "      <td>0.000000</td>\n",
       "      <td>120.000000</td>\n",
       "      <td>1.000000</td>\n",
       "    </tr>\n",
       "    <tr>\n",
       "      <th>max</th>\n",
       "      <td>4.000000</td>\n",
       "      <td>10.000000</td>\n",
       "      <td>7.000000</td>\n",
       "      <td>17.000000</td>\n",
       "      <td>1.000000</td>\n",
       "      <td>443.000000</td>\n",
       "      <td>2018.000000</td>\n",
       "      <td>12.000000</td>\n",
       "      <td>31.000000</td>\n",
       "      <td>1.000000</td>\n",
       "      <td>13.000000</td>\n",
       "      <td>58.000000</td>\n",
       "      <td>540.000000</td>\n",
       "      <td>5.000000</td>\n",
       "    </tr>\n",
       "  </tbody>\n",
       "</table>\n",
       "</div>"
      ],
      "text/plain": [
       "       no_of_adults  no_of_children  no_of_weekend_nights  no_of_week_nights  \\\n",
       "count  36275.000000    36275.000000          36275.000000       36275.000000   \n",
       "mean       1.844962        0.105279              0.810724           2.204300   \n",
       "std        0.518715        0.402648              0.870644           1.410905   \n",
       "min        0.000000        0.000000              0.000000           0.000000   \n",
       "25%        2.000000        0.000000              0.000000           1.000000   \n",
       "50%        2.000000        0.000000              1.000000           2.000000   \n",
       "75%        2.000000        0.000000              2.000000           3.000000   \n",
       "max        4.000000       10.000000              7.000000          17.000000   \n",
       "\n",
       "       required_car_parking_space     lead_time  arrival_year  arrival_month  \\\n",
       "count                36275.000000  36275.000000  36275.000000   36275.000000   \n",
       "mean                     0.030986     85.232557   2017.820427       7.423653   \n",
       "std                      0.173281     85.930817      0.383836       3.069894   \n",
       "min                      0.000000      0.000000   2017.000000       1.000000   \n",
       "25%                      0.000000     17.000000   2018.000000       5.000000   \n",
       "50%                      0.000000     57.000000   2018.000000       8.000000   \n",
       "75%                      0.000000    126.000000   2018.000000      10.000000   \n",
       "max                      1.000000    443.000000   2018.000000      12.000000   \n",
       "\n",
       "       arrival_date  repeated_guest  no_of_previous_cancellations  \\\n",
       "count  36275.000000    36275.000000                  36275.000000   \n",
       "mean      15.596995        0.025637                      0.023349   \n",
       "std        8.740447        0.158053                      0.368331   \n",
       "min        1.000000        0.000000                      0.000000   \n",
       "25%        8.000000        0.000000                      0.000000   \n",
       "50%       16.000000        0.000000                      0.000000   \n",
       "75%       23.000000        0.000000                      0.000000   \n",
       "max       31.000000        1.000000                     13.000000   \n",
       "\n",
       "       no_of_previous_bookings_not_canceled  avg_price_per_room  \\\n",
       "count                          36275.000000        36275.000000   \n",
       "mean                               0.153411          103.423539   \n",
       "std                                1.754171           35.089424   \n",
       "min                                0.000000            0.000000   \n",
       "25%                                0.000000           80.300000   \n",
       "50%                                0.000000           99.450000   \n",
       "75%                                0.000000          120.000000   \n",
       "max                               58.000000          540.000000   \n",
       "\n",
       "       no_of_special_requests  \n",
       "count            36275.000000  \n",
       "mean                 0.619655  \n",
       "std                  0.786236  \n",
       "min                  0.000000  \n",
       "25%                  0.000000  \n",
       "50%                  0.000000  \n",
       "75%                  1.000000  \n",
       "max                  5.000000  "
      ]
     },
     "execution_count": 4,
     "metadata": {},
     "output_type": "execute_result"
    }
   ],
   "source": [
    "df.describe()"
   ]
  },
  {
   "cell_type": "code",
   "execution_count": 5,
   "metadata": {
    "ExecuteTime": {
     "end_time": "2023-03-14T18:10:23.901146Z",
     "start_time": "2023-03-14T18:10:23.883552Z"
    }
   },
   "outputs": [
    {
     "name": "stdout",
     "output_type": "stream",
     "text": [
      "<class 'pandas.core.frame.DataFrame'>\n",
      "RangeIndex: 36275 entries, 0 to 36274\n",
      "Data columns (total 19 columns):\n",
      " #   Column                                Non-Null Count  Dtype  \n",
      "---  ------                                --------------  -----  \n",
      " 0   Booking_ID                            36275 non-null  object \n",
      " 1   no_of_adults                          36275 non-null  int64  \n",
      " 2   no_of_children                        36275 non-null  int64  \n",
      " 3   no_of_weekend_nights                  36275 non-null  int64  \n",
      " 4   no_of_week_nights                     36275 non-null  int64  \n",
      " 5   type_of_meal_plan                     36275 non-null  object \n",
      " 6   required_car_parking_space            36275 non-null  int64  \n",
      " 7   room_type_reserved                    36275 non-null  object \n",
      " 8   lead_time                             36275 non-null  int64  \n",
      " 9   arrival_year                          36275 non-null  int64  \n",
      " 10  arrival_month                         36275 non-null  int64  \n",
      " 11  arrival_date                          36275 non-null  int64  \n",
      " 12  market_segment_type                   36275 non-null  object \n",
      " 13  repeated_guest                        36275 non-null  int64  \n",
      " 14  no_of_previous_cancellations          36275 non-null  int64  \n",
      " 15  no_of_previous_bookings_not_canceled  36275 non-null  int64  \n",
      " 16  avg_price_per_room                    36275 non-null  float64\n",
      " 17  no_of_special_requests                36275 non-null  int64  \n",
      " 18  booking_status                        36275 non-null  object \n",
      "dtypes: float64(1), int64(13), object(5)\n",
      "memory usage: 5.3+ MB\n"
     ]
    }
   ],
   "source": [
    "df.info()"
   ]
  },
  {
   "cell_type": "markdown",
   "metadata": {},
   "source": [
    "### Adding new feature `total_stay`"
   ]
  },
  {
   "cell_type": "code",
   "execution_count": 6,
   "metadata": {
    "ExecuteTime": {
     "end_time": "2023-03-14T18:10:26.711716Z",
     "start_time": "2023-03-14T18:10:26.706926Z"
    }
   },
   "outputs": [],
   "source": [
    "df['total_stay'] = df['no_of_week_nights'] + df['no_of_weekend_nights']"
   ]
  },
  {
   "cell_type": "code",
   "execution_count": 7,
   "metadata": {
    "ExecuteTime": {
     "end_time": "2023-03-14T18:10:27.180412Z",
     "start_time": "2023-03-14T18:10:27.163438Z"
    }
   },
   "outputs": [
    {
     "data": {
      "text/html": [
       "<div>\n",
       "<style scoped>\n",
       "    .dataframe tbody tr th:only-of-type {\n",
       "        vertical-align: middle;\n",
       "    }\n",
       "\n",
       "    .dataframe tbody tr th {\n",
       "        vertical-align: top;\n",
       "    }\n",
       "\n",
       "    .dataframe thead th {\n",
       "        text-align: right;\n",
       "    }\n",
       "</style>\n",
       "<table border=\"1\" class=\"dataframe\">\n",
       "  <thead>\n",
       "    <tr style=\"text-align: right;\">\n",
       "      <th></th>\n",
       "      <th>Booking_ID</th>\n",
       "      <th>no_of_adults</th>\n",
       "      <th>no_of_children</th>\n",
       "      <th>no_of_weekend_nights</th>\n",
       "      <th>no_of_week_nights</th>\n",
       "      <th>type_of_meal_plan</th>\n",
       "      <th>required_car_parking_space</th>\n",
       "      <th>room_type_reserved</th>\n",
       "      <th>lead_time</th>\n",
       "      <th>arrival_year</th>\n",
       "      <th>arrival_month</th>\n",
       "      <th>arrival_date</th>\n",
       "      <th>market_segment_type</th>\n",
       "      <th>repeated_guest</th>\n",
       "      <th>no_of_previous_cancellations</th>\n",
       "      <th>no_of_previous_bookings_not_canceled</th>\n",
       "      <th>avg_price_per_room</th>\n",
       "      <th>no_of_special_requests</th>\n",
       "      <th>booking_status</th>\n",
       "      <th>total_stay</th>\n",
       "    </tr>\n",
       "  </thead>\n",
       "  <tbody>\n",
       "    <tr>\n",
       "      <th>0</th>\n",
       "      <td>INN00001</td>\n",
       "      <td>2</td>\n",
       "      <td>0</td>\n",
       "      <td>1</td>\n",
       "      <td>2</td>\n",
       "      <td>Meal Plan 1</td>\n",
       "      <td>0</td>\n",
       "      <td>Room_Type 1</td>\n",
       "      <td>224</td>\n",
       "      <td>2017</td>\n",
       "      <td>10</td>\n",
       "      <td>2</td>\n",
       "      <td>Offline</td>\n",
       "      <td>0</td>\n",
       "      <td>0</td>\n",
       "      <td>0</td>\n",
       "      <td>65.00</td>\n",
       "      <td>0</td>\n",
       "      <td>Not_Canceled</td>\n",
       "      <td>3</td>\n",
       "    </tr>\n",
       "    <tr>\n",
       "      <th>1</th>\n",
       "      <td>INN00002</td>\n",
       "      <td>2</td>\n",
       "      <td>0</td>\n",
       "      <td>2</td>\n",
       "      <td>3</td>\n",
       "      <td>Not Selected</td>\n",
       "      <td>0</td>\n",
       "      <td>Room_Type 1</td>\n",
       "      <td>5</td>\n",
       "      <td>2018</td>\n",
       "      <td>11</td>\n",
       "      <td>6</td>\n",
       "      <td>Online</td>\n",
       "      <td>0</td>\n",
       "      <td>0</td>\n",
       "      <td>0</td>\n",
       "      <td>106.68</td>\n",
       "      <td>1</td>\n",
       "      <td>Not_Canceled</td>\n",
       "      <td>5</td>\n",
       "    </tr>\n",
       "    <tr>\n",
       "      <th>2</th>\n",
       "      <td>INN00003</td>\n",
       "      <td>1</td>\n",
       "      <td>0</td>\n",
       "      <td>2</td>\n",
       "      <td>1</td>\n",
       "      <td>Meal Plan 1</td>\n",
       "      <td>0</td>\n",
       "      <td>Room_Type 1</td>\n",
       "      <td>1</td>\n",
       "      <td>2018</td>\n",
       "      <td>2</td>\n",
       "      <td>28</td>\n",
       "      <td>Online</td>\n",
       "      <td>0</td>\n",
       "      <td>0</td>\n",
       "      <td>0</td>\n",
       "      <td>60.00</td>\n",
       "      <td>0</td>\n",
       "      <td>Canceled</td>\n",
       "      <td>3</td>\n",
       "    </tr>\n",
       "    <tr>\n",
       "      <th>3</th>\n",
       "      <td>INN00004</td>\n",
       "      <td>2</td>\n",
       "      <td>0</td>\n",
       "      <td>0</td>\n",
       "      <td>2</td>\n",
       "      <td>Meal Plan 1</td>\n",
       "      <td>0</td>\n",
       "      <td>Room_Type 1</td>\n",
       "      <td>211</td>\n",
       "      <td>2018</td>\n",
       "      <td>5</td>\n",
       "      <td>20</td>\n",
       "      <td>Online</td>\n",
       "      <td>0</td>\n",
       "      <td>0</td>\n",
       "      <td>0</td>\n",
       "      <td>100.00</td>\n",
       "      <td>0</td>\n",
       "      <td>Canceled</td>\n",
       "      <td>2</td>\n",
       "    </tr>\n",
       "    <tr>\n",
       "      <th>4</th>\n",
       "      <td>INN00005</td>\n",
       "      <td>2</td>\n",
       "      <td>0</td>\n",
       "      <td>1</td>\n",
       "      <td>1</td>\n",
       "      <td>Not Selected</td>\n",
       "      <td>0</td>\n",
       "      <td>Room_Type 1</td>\n",
       "      <td>48</td>\n",
       "      <td>2018</td>\n",
       "      <td>4</td>\n",
       "      <td>11</td>\n",
       "      <td>Online</td>\n",
       "      <td>0</td>\n",
       "      <td>0</td>\n",
       "      <td>0</td>\n",
       "      <td>94.50</td>\n",
       "      <td>0</td>\n",
       "      <td>Canceled</td>\n",
       "      <td>2</td>\n",
       "    </tr>\n",
       "  </tbody>\n",
       "</table>\n",
       "</div>"
      ],
      "text/plain": [
       "  Booking_ID  no_of_adults  no_of_children  no_of_weekend_nights  \\\n",
       "0   INN00001             2               0                     1   \n",
       "1   INN00002             2               0                     2   \n",
       "2   INN00003             1               0                     2   \n",
       "3   INN00004             2               0                     0   \n",
       "4   INN00005             2               0                     1   \n",
       "\n",
       "   no_of_week_nights type_of_meal_plan  required_car_parking_space  \\\n",
       "0                  2       Meal Plan 1                           0   \n",
       "1                  3      Not Selected                           0   \n",
       "2                  1       Meal Plan 1                           0   \n",
       "3                  2       Meal Plan 1                           0   \n",
       "4                  1      Not Selected                           0   \n",
       "\n",
       "  room_type_reserved  lead_time  arrival_year  arrival_month  arrival_date  \\\n",
       "0        Room_Type 1        224          2017             10             2   \n",
       "1        Room_Type 1          5          2018             11             6   \n",
       "2        Room_Type 1          1          2018              2            28   \n",
       "3        Room_Type 1        211          2018              5            20   \n",
       "4        Room_Type 1         48          2018              4            11   \n",
       "\n",
       "  market_segment_type  repeated_guest  no_of_previous_cancellations  \\\n",
       "0             Offline               0                             0   \n",
       "1              Online               0                             0   \n",
       "2              Online               0                             0   \n",
       "3              Online               0                             0   \n",
       "4              Online               0                             0   \n",
       "\n",
       "   no_of_previous_bookings_not_canceled  avg_price_per_room  \\\n",
       "0                                     0               65.00   \n",
       "1                                     0              106.68   \n",
       "2                                     0               60.00   \n",
       "3                                     0              100.00   \n",
       "4                                     0               94.50   \n",
       "\n",
       "   no_of_special_requests booking_status  total_stay  \n",
       "0                       0   Not_Canceled           3  \n",
       "1                       1   Not_Canceled           5  \n",
       "2                       0       Canceled           3  \n",
       "3                       0       Canceled           2  \n",
       "4                       0       Canceled           2  "
      ]
     },
     "execution_count": 7,
     "metadata": {},
     "output_type": "execute_result"
    }
   ],
   "source": [
    "df.head()"
   ]
  },
  {
   "cell_type": "markdown",
   "metadata": {},
   "source": [
    "## Changing dtype for use later on with scaling. "
   ]
  },
  {
   "cell_type": "markdown",
   "metadata": {},
   "source": [
    "I only want to scale continuous features and will convert them to float type to select just those features later on."
   ]
  },
  {
   "cell_type": "code",
   "execution_count": 8,
   "metadata": {
    "ExecuteTime": {
     "end_time": "2023-03-14T18:11:25.511134Z",
     "start_time": "2023-03-14T18:11:25.506879Z"
    }
   },
   "outputs": [],
   "source": [
    "cols_to_float = ['no_of_weekend_nights', 'no_of_week_nights', 'lead_time', \n",
    "                 'no_of_previous_cancellations', 'no_of_previous_bookings_not_canceled',\n",
    "                 'avg_price_per_room', 'no_of_special_requests', 'total_stay']"
   ]
  },
  {
   "cell_type": "code",
   "execution_count": 9,
   "metadata": {
    "ExecuteTime": {
     "end_time": "2023-03-14T18:11:26.028127Z",
     "start_time": "2023-03-14T18:11:26.019334Z"
    }
   },
   "outputs": [],
   "source": [
    "for col in cols_to_float:\n",
    "    df[col] = df[col].astype(float)"
   ]
  },
  {
   "cell_type": "code",
   "execution_count": 10,
   "metadata": {
    "ExecuteTime": {
     "end_time": "2023-03-14T18:11:27.078273Z",
     "start_time": "2023-03-14T18:11:27.067212Z"
    }
   },
   "outputs": [
    {
     "name": "stdout",
     "output_type": "stream",
     "text": [
      "<class 'pandas.core.frame.DataFrame'>\n",
      "RangeIndex: 36275 entries, 0 to 36274\n",
      "Data columns (total 20 columns):\n",
      " #   Column                                Non-Null Count  Dtype  \n",
      "---  ------                                --------------  -----  \n",
      " 0   Booking_ID                            36275 non-null  object \n",
      " 1   no_of_adults                          36275 non-null  int64  \n",
      " 2   no_of_children                        36275 non-null  int64  \n",
      " 3   no_of_weekend_nights                  36275 non-null  float64\n",
      " 4   no_of_week_nights                     36275 non-null  float64\n",
      " 5   type_of_meal_plan                     36275 non-null  object \n",
      " 6   required_car_parking_space            36275 non-null  int64  \n",
      " 7   room_type_reserved                    36275 non-null  object \n",
      " 8   lead_time                             36275 non-null  float64\n",
      " 9   arrival_year                          36275 non-null  int64  \n",
      " 10  arrival_month                         36275 non-null  int64  \n",
      " 11  arrival_date                          36275 non-null  int64  \n",
      " 12  market_segment_type                   36275 non-null  object \n",
      " 13  repeated_guest                        36275 non-null  int64  \n",
      " 14  no_of_previous_cancellations          36275 non-null  float64\n",
      " 15  no_of_previous_bookings_not_canceled  36275 non-null  float64\n",
      " 16  avg_price_per_room                    36275 non-null  float64\n",
      " 17  no_of_special_requests                36275 non-null  float64\n",
      " 18  booking_status                        36275 non-null  object \n",
      " 19  total_stay                            36275 non-null  float64\n",
      "dtypes: float64(8), int64(7), object(5)\n",
      "memory usage: 5.5+ MB\n"
     ]
    }
   ],
   "source": [
    "df.info()"
   ]
  },
  {
   "cell_type": "markdown",
   "metadata": {},
   "source": [
    "## Data Visualizations"
   ]
  },
  {
   "cell_type": "code",
   "execution_count": 11,
   "metadata": {
    "ExecuteTime": {
     "end_time": "2023-03-14T18:11:28.496036Z",
     "start_time": "2023-03-14T18:11:28.491668Z"
    }
   },
   "outputs": [],
   "source": [
    "plot_df_cols = [col for col in df.columns if col not in ['Booking_ID', 'booking_status']]"
   ]
  },
  {
   "cell_type": "code",
   "execution_count": 12,
   "metadata": {
    "ExecuteTime": {
     "end_time": "2023-03-14T18:11:29.089102Z",
     "start_time": "2023-03-14T18:11:29.003031Z"
    }
   },
   "outputs": [],
   "source": [
    "# setting up an empty dictionary to store data\n",
    "plot_df_dict = {}\n",
    "\n",
    "# creating a dictionary with dataframes of each col and booking status\n",
    "for i, col in enumerate(plot_df_cols):\n",
    "    # creating temp df for each column and the percent of cancel/non-cancel\n",
    "    temp_df = df[[col, 'booking_status']].value_counts(normalize=True).unstack()\n",
    "    # getting rid of column name\n",
    "    temp_df.columns.name = None\n",
    "    # setting any frames with nan to zero\n",
    "    temp_df.fillna(0, inplace=True)\n",
    "    # adding the new df to the dictionary with the column name\n",
    "    plot_df_dict[col] = temp_df"
   ]
  },
  {
   "cell_type": "code",
   "execution_count": 13,
   "metadata": {
    "ExecuteTime": {
     "end_time": "2023-03-14T18:11:29.635694Z",
     "start_time": "2023-03-14T18:11:29.627184Z"
    }
   },
   "outputs": [],
   "source": [
    "# Removing any dataframes with more than 12 rows to better visualize\n",
    "new_plot_df_dict = {}\n",
    "for k, v in plot_df_dict.items():\n",
    "    if len(v)<=12:\n",
    "        new_plot_df_dict[k] = v"
   ]
  },
  {
   "cell_type": "markdown",
   "metadata": {},
   "source": [
    "### Plotting the Ratio of Cancellations to total bookings for each feature "
   ]
  },
  {
   "cell_type": "markdown",
   "metadata": {},
   "source": [
    "**Each feature plotted here has 12 or less categories. Any features with more categories or continuous data are plotted later on.**"
   ]
  },
  {
   "cell_type": "markdown",
   "metadata": {},
   "source": [
    "Things of note:\n",
    "\n",
    "- `no_of_adults`: Singe adults and groups of 4 have the lowest cancellation rates\n",
    "- `no_of_children`: Doesnt appear to have much variation between the groups. While 10 children doesnt have any cancellations, there are very rarely groups with 10 children\n",
    "- `no_of_weekend_nights`: We can see that 0 and 1 weekend (two weekend nights) have the lowest cancellation rates, as more weekend nights are added, the cancellation rate increases \n",
    "- `type_of_meal_plan`: Meal plan 2 is the outlier here with almost half of all guests who selected that plan having cancelled their reservation. Without know more about the meal plan, its tough to say how to interpret it: could it be family style meals, vegetarian meals, or something else?\n",
    "- `required_car_parking_space`: Those who request a car space are only likely to cancel at a rate of about 10% while those who do not require a parking space are likely to cancel about a third of the time.\n",
    "- `room_type_reserved`: Similar to meal plan, its difficult to infer too much out of the data without knowing more about the rooms. We can see that those who book room type 6 have the highest cancellation rate (above 40%) while those booking room 7 have the lowest cancellation rate (about 23%). Is this confirming data that we already have (family rooms vs rooms for an individual) or giving us more information?\n",
    "- `arrival_year`: confirms the statistic that cancellation rates are on the rise. Only about 15% of guests in the dataset cancelled their reservation in 2017 while about 35% cancelled in 2018.\n",
    "- `arrival_month`: We can see that winter months have the lowest cancellations and summer months have the highest. This makes sense as people tend to travel in winter months more often because of holidays and would be more likely to stick with their reservations. Summer travel could be largely based on vacations rather than holidays and thus more flexible and likely for cancellation.\n",
    "- `market_segment_type`: This largely makes sense, those with complementary stays are highly unlikely to cancel. Online booking is the easiest method to book and cancel a reservation and has the highest number of cancellations. The corporate segment is also one to note, those booking business trips are much less likely to cancel than any other paid booking.\n",
    "- `repeated_guests`: Guests who have stayed with the hotel before are far less likely to cancel their reservation (only about 2%) while about a third of first time guests cancel their reservations. \n",
    "- `no_of_previous_cancellations`: This one is a little surprising, despite the outlier of 13 previous cancellations, guests who have cancelled in the past are actually less likely to cancel than guests who have not previously cancelled. It could be that the guest still needed to make the trip but needed to cancel and reschedule for a different date.\n",
    "- `no_of_special_requests`: This clearly shows how cancellations are reduced with the more special requests a guest makes. About 43% of guests without special requests end up cancelling their reservation. Making the requests could confirm intent that the guest truly intends to stay and they had the foresight to make requests ahead of time."
   ]
  },
  {
   "cell_type": "code",
   "execution_count": 14,
   "metadata": {
    "ExecuteTime": {
     "end_time": "2023-03-14T18:11:36.019748Z",
     "start_time": "2023-03-14T18:11:34.123000Z"
    }
   },
   "outputs": [
    {
     "data": {
      "image/png": "[encoded data removed]",
      "text/plain": [
       "<Figure size 720x1584 with 12 Axes>"
      ]
     },
     "metadata": {
      "needs_background": "light"
     },
     "output_type": "display_data"
    }
   ],
   "source": [
    "# setting up a chart to plot all of the data\n",
    "fig, ax = plt.subplots(nrows=6, ncols=2, figsize=(10,22))\n",
    "\n",
    "# plotting the ratio of cancellations to total bookings in each category\n",
    "for i, (key, value) in enumerate(new_plot_df_dict.items()):\n",
    "    row=i//2\n",
    "    col= i%2\n",
    "    temp_ax = ax[row, col]\n",
    "    temp_ax.set_title(key)\n",
    "    \n",
    "    plot_df = (value['Canceled']/(value['Canceled'] +value['Not_Canceled']))\n",
    "    \n",
    "    plot_df.plot(kind='bar', ax=temp_ax, rot=30)\n",
    "    fig.suptitle('Cancellation Rates', size='40', y=1.0)\n",
    "    fig.tight_layout()"
   ]
  },
  {
   "cell_type": "markdown",
   "metadata": {},
   "source": [
    "### Plotting the Ratio of Cancellations to total bookings for each feature with len > 12"
   ]
  },
  {
   "cell_type": "code",
   "execution_count": 15,
   "metadata": {
    "ExecuteTime": {
     "end_time": "2023-03-14T18:11:37.156322Z",
     "start_time": "2023-03-14T18:11:37.147808Z"
    }
   },
   "outputs": [],
   "source": [
    "long_plot_dict = {}\n",
    "for key, value in plot_df_dict.items():\n",
    "    if len(value) > 12:\n",
    "        long_plot_dict[key] = value"
   ]
  },
  {
   "cell_type": "code",
   "execution_count": 16,
   "metadata": {
    "ExecuteTime": {
     "end_time": "2023-03-14T18:11:37.656548Z",
     "start_time": "2023-03-14T18:11:37.650491Z"
    }
   },
   "outputs": [
    {
     "data": {
      "text/plain": [
       "['no_of_week_nights',\n",
       " 'lead_time',\n",
       " 'arrival_date',\n",
       " 'no_of_previous_bookings_not_canceled',\n",
       " 'avg_price_per_room',\n",
       " 'total_stay']"
      ]
     },
     "execution_count": 16,
     "metadata": {},
     "output_type": "execute_result"
    }
   ],
   "source": [
    "list(long_plot_dict.keys())"
   ]
  },
  {
   "cell_type": "markdown",
   "metadata": {},
   "source": [
    "## No. of Weeknights"
   ]
  },
  {
   "cell_type": "code",
   "execution_count": 17,
   "metadata": {
    "ExecuteTime": {
     "end_time": "2023-03-14T18:11:38.919485Z",
     "start_time": "2023-03-14T18:11:38.914646Z"
    }
   },
   "outputs": [],
   "source": [
    "week_nights_df = long_plot_dict['no_of_week_nights']"
   ]
  },
  {
   "cell_type": "markdown",
   "metadata": {},
   "source": [
    "### Weeknights proportional"
   ]
  },
  {
   "cell_type": "code",
   "execution_count": 18,
   "metadata": {
    "ExecuteTime": {
     "end_time": "2023-03-14T18:11:51.060771Z",
     "start_time": "2023-03-14T18:11:51.050738Z"
    }
   },
   "outputs": [],
   "source": [
    "prop_week_nights_df = (week_nights_df['Canceled']/\n",
    "                           (week_nights_df['Canceled'] \n",
    "                            +week_nights_df['Not_Canceled']))"
   ]
  },
  {
   "cell_type": "code",
   "execution_count": 21,
   "metadata": {
    "ExecuteTime": {
     "end_time": "2023-03-14T18:13:35.935046Z",
     "start_time": "2023-03-14T18:13:35.818396Z"
    }
   },
   "outputs": [
    {
     "data": {
      "image/png": "[encoded data removed]",
      "text/plain": [
       "<Figure size 1080x1080 with 1 Axes>"
      ]
     },
     "metadata": {
      "needs_background": "light"
     },
     "output_type": "display_data"
    }
   ],
   "source": [
    "fig, ax = plt.subplots(figsize=(15,15))\n",
    "prop_week_nights_df.plot(ax=ax)\n",
    "ax.set_title('Cancelation rate for # weeknights')\n",
    "ax.set_ylabel('Cancellation Rate');"
   ]
  },
  {
   "cell_type": "markdown",
   "metadata": {},
   "source": [
    "## Booking Lead Time"
   ]
  },
  {
   "cell_type": "markdown",
   "metadata": {},
   "source": [
    "Looking at lead time between booking and staying:"
   ]
  },
  {
   "cell_type": "code",
   "execution_count": 23,
   "metadata": {
    "ExecuteTime": {
     "end_time": "2023-03-14T18:14:51.454571Z",
     "start_time": "2023-03-14T18:14:51.442018Z"
    }
   },
   "outputs": [],
   "source": [
    "lead_time_df = long_plot_dict['lead_time'].T"
   ]
  },
  {
   "cell_type": "code",
   "execution_count": 27,
   "metadata": {
    "ExecuteTime": {
     "end_time": "2023-03-14T18:16:18.996519Z",
     "start_time": "2023-03-14T18:16:18.865735Z"
    }
   },
   "outputs": [
    {
     "data": {
      "image/png": "[encoded data removed]",
      "text/plain": [
       "<Figure size 1080x1080 with 1 Axes>"
      ]
     },
     "metadata": {
      "needs_background": "light"
     },
     "output_type": "display_data"
    }
   ],
   "source": [
    "fig, ax = plt.subplots(figsize=(15,15))\n",
    "# slicing the dataframe to remove outliers\n",
    "lead_time_df.T.iloc[:-20].plot(ax=ax)\n",
    "ax.set_title('booking lead time')\n",
    "ax.set_ylabel('Percentage');\n",
    "\n",
    "# lead_time_df.T.iloc[:-20].plot(figsize=(15,15));"
   ]
  },
  {
   "cell_type": "markdown",
   "metadata": {},
   "source": [
    "Anything Booked over about 150 days has a higher likelylihood of being canceled than being not canceled. The hotel might look into limiting how far in advance reservations can be made. \n",
    "\n",
    "This makes sense as the further from the date of the stay a room was booked, the more time there is for plans to change."
   ]
  },
  {
   "cell_type": "markdown",
   "metadata": {},
   "source": [
    "#### Probably delete this, buckets don't tell as good of a story"
   ]
  },
  {
   "cell_type": "code",
   "execution_count": 25,
   "metadata": {
    "ExecuteTime": {
     "end_time": "2023-03-14T18:15:11.207104Z",
     "start_time": "2023-03-14T18:15:11.186080Z"
    }
   },
   "outputs": [],
   "source": [
    "clean_lead_df = pd.DataFrame()\n",
    "clean_lead_df['0-3 Months'] = lead_time_df.iloc[:, :91].sum(axis=1)\n",
    "clean_lead_df['4-6 Months'] = lead_time_df.iloc[:, 91:181].sum(axis=1)\n",
    "clean_lead_df['7-9 Months'] = lead_time_df.iloc[:, 181:271].sum(axis=1)\n",
    "clean_lead_df['10 Months+'] = lead_time_df.iloc[:, 271:].sum(axis=1)"
   ]
  },
  {
   "cell_type": "code",
   "execution_count": 26,
   "metadata": {
    "ExecuteTime": {
     "end_time": "2023-03-14T18:15:11.960147Z",
     "start_time": "2023-03-14T18:15:11.873166Z"
    }
   },
   "outputs": [
    {
     "data": {
      "image/png": "[encoded data removed]",
      "text/plain": [
       "<Figure size 432x288 with 1 Axes>"
      ]
     },
     "metadata": {
      "needs_background": "light"
     },
     "output_type": "display_data"
    }
   ],
   "source": [
    "clean_lead_df = clean_lead_df.T\n",
    "clean_lead_df.plot(kind='bar', rot=30);"
   ]
  },
  {
   "cell_type": "markdown",
   "metadata": {},
   "source": [
    "### Lead time proportional"
   ]
  },
  {
   "cell_type": "code",
   "execution_count": 81,
   "metadata": {
    "ExecuteTime": {
     "end_time": "2023-03-14T18:34:25.468840Z",
     "start_time": "2023-03-14T18:34:25.452895Z"
    }
   },
   "outputs": [],
   "source": [
    "prop_lead = (lead_time_df.T['Canceled']/\n",
    "                           (lead_time_df.T['Canceled'] \n",
    "                            +lead_time_df.T['Not_Canceled']))"
   ]
  },
  {
   "cell_type": "markdown",
   "metadata": {},
   "source": [
    "#### Adding a simple moving average for 10 periods"
   ]
  },
  {
   "cell_type": "code",
   "execution_count": 82,
   "metadata": {
    "ExecuteTime": {
     "end_time": "2023-03-14T18:34:26.489825Z",
     "start_time": "2023-03-14T18:34:26.484827Z"
    }
   },
   "outputs": [],
   "source": [
    "prop_lead = pd.DataFrame(prop_lead).rename(columns={0:'lead_time'})"
   ]
  },
  {
   "cell_type": "code",
   "execution_count": 83,
   "metadata": {
    "ExecuteTime": {
     "end_time": "2023-03-14T18:34:26.985931Z",
     "start_time": "2023-03-14T18:34:26.980679Z"
    }
   },
   "outputs": [],
   "source": [
    "prop_lead.index.name = None"
   ]
  },
  {
   "cell_type": "code",
   "execution_count": 84,
   "metadata": {
    "ExecuteTime": {
     "end_time": "2023-03-14T18:34:27.449708Z",
     "start_time": "2023-03-14T18:34:27.444657Z"
    }
   },
   "outputs": [
    {
     "data": {
      "text/html": [
       "<div>\n",
       "<style scoped>\n",
       "    .dataframe tbody tr th:only-of-type {\n",
       "        vertical-align: middle;\n",
       "    }\n",
       "\n",
       "    .dataframe tbody tr th {\n",
       "        vertical-align: top;\n",
       "    }\n",
       "\n",
       "    .dataframe thead th {\n",
       "        text-align: right;\n",
       "    }\n",
       "</style>\n",
       "<table border=\"1\" class=\"dataframe\">\n",
       "  <thead>\n",
       "    <tr style=\"text-align: right;\">\n",
       "      <th></th>\n",
       "      <th>lead_time</th>\n",
       "    </tr>\n",
       "  </thead>\n",
       "  <tbody>\n",
       "    <tr>\n",
       "      <th>0.0</th>\n",
       "      <td>0.052429</td>\n",
       "    </tr>\n",
       "    <tr>\n",
       "      <th>1.0</th>\n",
       "      <td>0.102041</td>\n",
       "    </tr>\n",
       "    <tr>\n",
       "      <th>2.0</th>\n",
       "      <td>0.059098</td>\n",
       "    </tr>\n",
       "    <tr>\n",
       "      <th>3.0</th>\n",
       "      <td>0.090476</td>\n",
       "    </tr>\n",
       "    <tr>\n",
       "      <th>4.0</th>\n",
       "      <td>0.098726</td>\n",
       "    </tr>\n",
       "    <tr>\n",
       "      <th>...</th>\n",
       "      <td>...</td>\n",
       "    </tr>\n",
       "    <tr>\n",
       "      <th>381.0</th>\n",
       "      <td>1.000000</td>\n",
       "    </tr>\n",
       "    <tr>\n",
       "      <th>386.0</th>\n",
       "      <td>0.913043</td>\n",
       "    </tr>\n",
       "    <tr>\n",
       "      <th>418.0</th>\n",
       "      <td>1.000000</td>\n",
       "    </tr>\n",
       "    <tr>\n",
       "      <th>433.0</th>\n",
       "      <td>1.000000</td>\n",
       "    </tr>\n",
       "    <tr>\n",
       "      <th>443.0</th>\n",
       "      <td>1.000000</td>\n",
       "    </tr>\n",
       "  </tbody>\n",
       "</table>\n",
       "<p>352 rows × 1 columns</p>\n",
       "</div>"
      ],
      "text/plain": [
       "       lead_time\n",
       "0.0     0.052429\n",
       "1.0     0.102041\n",
       "2.0     0.059098\n",
       "3.0     0.090476\n",
       "4.0     0.098726\n",
       "...          ...\n",
       "381.0   1.000000\n",
       "386.0   0.913043\n",
       "418.0   1.000000\n",
       "433.0   1.000000\n",
       "443.0   1.000000\n",
       "\n",
       "[352 rows x 1 columns]"
      ]
     },
     "execution_count": 84,
     "metadata": {},
     "output_type": "execute_result"
    }
   ],
   "source": [
    "prop_lead"
   ]
  },
  {
   "cell_type": "code",
   "execution_count": 57,
   "metadata": {
    "ExecuteTime": {
     "end_time": "2023-03-14T18:29:25.200849Z",
     "start_time": "2023-03-14T18:29:25.190820Z"
    }
   },
   "outputs": [],
   "source": [
    "prop_lead = pd.DataFrame(prop_lead).reset_index().drop('lead_time', axis=1).rename(columns={0:'lead_time'})"
   ]
  },
  {
   "cell_type": "code",
   "execution_count": 85,
   "metadata": {
    "ExecuteTime": {
     "end_time": "2023-03-14T18:34:34.322621Z",
     "start_time": "2023-03-14T18:34:34.309597Z"
    }
   },
   "outputs": [],
   "source": [
    "prop_lead['SMA10'] = prop_lead['lead_time'].rolling(10).mean()"
   ]
  },
  {
   "cell_type": "code",
   "execution_count": 86,
   "metadata": {
    "ExecuteTime": {
     "end_time": "2023-03-14T18:34:35.954563Z",
     "start_time": "2023-03-14T18:34:35.941523Z"
    }
   },
   "outputs": [
    {
     "data": {
      "text/html": [
       "<div>\n",
       "<style scoped>\n",
       "    .dataframe tbody tr th:only-of-type {\n",
       "        vertical-align: middle;\n",
       "    }\n",
       "\n",
       "    .dataframe tbody tr th {\n",
       "        vertical-align: top;\n",
       "    }\n",
       "\n",
       "    .dataframe thead th {\n",
       "        text-align: right;\n",
       "    }\n",
       "</style>\n",
       "<table border=\"1\" class=\"dataframe\">\n",
       "  <thead>\n",
       "    <tr style=\"text-align: right;\">\n",
       "      <th></th>\n",
       "      <th>lead_time</th>\n",
       "      <th>SMA10</th>\n",
       "    </tr>\n",
       "  </thead>\n",
       "  <tbody>\n",
       "    <tr>\n",
       "      <th>0.0</th>\n",
       "      <td>0.052429</td>\n",
       "      <td>NaN</td>\n",
       "    </tr>\n",
       "    <tr>\n",
       "      <th>1.0</th>\n",
       "      <td>0.102041</td>\n",
       "      <td>NaN</td>\n",
       "    </tr>\n",
       "    <tr>\n",
       "      <th>2.0</th>\n",
       "      <td>0.059098</td>\n",
       "      <td>NaN</td>\n",
       "    </tr>\n",
       "    <tr>\n",
       "      <th>3.0</th>\n",
       "      <td>0.090476</td>\n",
       "      <td>NaN</td>\n",
       "    </tr>\n",
       "    <tr>\n",
       "      <th>4.0</th>\n",
       "      <td>0.098726</td>\n",
       "      <td>NaN</td>\n",
       "    </tr>\n",
       "    <tr>\n",
       "      <th>...</th>\n",
       "      <td>...</td>\n",
       "      <td>...</td>\n",
       "    </tr>\n",
       "    <tr>\n",
       "      <th>381.0</th>\n",
       "      <td>1.000000</td>\n",
       "      <td>0.816304</td>\n",
       "    </tr>\n",
       "    <tr>\n",
       "      <th>386.0</th>\n",
       "      <td>0.913043</td>\n",
       "      <td>0.807609</td>\n",
       "    </tr>\n",
       "    <tr>\n",
       "      <th>418.0</th>\n",
       "      <td>1.000000</td>\n",
       "      <td>0.907609</td>\n",
       "    </tr>\n",
       "    <tr>\n",
       "      <th>433.0</th>\n",
       "      <td>1.000000</td>\n",
       "      <td>0.907609</td>\n",
       "    </tr>\n",
       "    <tr>\n",
       "      <th>443.0</th>\n",
       "      <td>1.000000</td>\n",
       "      <td>0.907609</td>\n",
       "    </tr>\n",
       "  </tbody>\n",
       "</table>\n",
       "<p>352 rows × 2 columns</p>\n",
       "</div>"
      ],
      "text/plain": [
       "       lead_time     SMA10\n",
       "0.0     0.052429       NaN\n",
       "1.0     0.102041       NaN\n",
       "2.0     0.059098       NaN\n",
       "3.0     0.090476       NaN\n",
       "4.0     0.098726       NaN\n",
       "...          ...       ...\n",
       "381.0   1.000000  0.816304\n",
       "386.0   0.913043  0.807609\n",
       "418.0   1.000000  0.907609\n",
       "433.0   1.000000  0.907609\n",
       "443.0   1.000000  0.907609\n",
       "\n",
       "[352 rows x 2 columns]"
      ]
     },
     "execution_count": 86,
     "metadata": {},
     "output_type": "execute_result"
    }
   ],
   "source": [
    "prop_lead"
   ]
  },
  {
   "cell_type": "code",
   "execution_count": 124,
   "metadata": {
    "ExecuteTime": {
     "end_time": "2023-03-14T18:50:55.132951Z",
     "start_time": "2023-03-14T18:50:55.001302Z"
    }
   },
   "outputs": [
    {
     "data": {
      "image/png": "[encoded data removed]",
      "text/plain": [
       "<Figure size 1080x1080 with 1 Axes>"
      ]
     },
     "metadata": {
      "needs_background": "light"
     },
     "output_type": "display_data"
    }
   ],
   "source": [
    "fig, ax = plt.subplots(figsize=(15,15))\n",
    "# prop_lead['lead_time'].plot(ax=ax)\n",
    "prop_lead['SMA10'].plot(ax=ax, linewidth=4, style='-', label='10-Day Avg'),\n",
    "ax.axvline(150, c='black',  linestyle='-.')\n",
    "ax.axhline(y=prop_lead['SMA10'].iloc[:151].mean(), \n",
    "           xmax=(150/prop_lead.index.max()),\n",
    "          label=f'<150 Mean: {round(prop_lead[\"SMA10\"].iloc[:151].mean(), 2)}',\n",
    "          color='green',\n",
    "          linestyle='--')\n",
    "ax.axhline(y=prop_lead['SMA10'].iloc[151:].mean(), \n",
    "           xmin=(150/prop_lead.index.max()),\n",
    "          label=f'>150 Mean: {round(prop_lead[\"SMA10\"].iloc[151:].mean(), 2)}',\n",
    "          color='red',\n",
    "          linestyle='--')\n",
    "ax.set_title('Cancelation rate for booking lead time')\n",
    "ax.set_ylabel('Cancellation Rate')\n",
    "ax.legend();\n",
    "\n"
   ]
  },
  {
   "cell_type": "markdown",
   "metadata": {},
   "source": [
    "## Arrival Date"
   ]
  },
  {
   "cell_type": "markdown",
   "metadata": {},
   "source": [
    "\n",
    "This is unlikely to have much of an effect on the data as a stand alone but is likely to be worth keeping when crossed with month and other columns."
   ]
  },
  {
   "cell_type": "code",
   "execution_count": 40,
   "metadata": {
    "ExecuteTime": {
     "end_time": "2023-03-14T18:04:16.370240Z",
     "start_time": "2023-03-14T18:04:16.275694Z"
    }
   },
   "outputs": [
    {
     "data": {
      "image/png": "[encoded data removed]",
      "text/plain": [
       "<Figure size 432x288 with 1 Axes>"
      ]
     },
     "metadata": {
      "needs_background": "light"
     },
     "output_type": "display_data"
    }
   ],
   "source": [
    "long_plot_dict['arrival_date'].plot();"
   ]
  },
  {
   "cell_type": "code",
   "execution_count": 41,
   "metadata": {
    "ExecuteTime": {
     "end_time": "2023-03-14T18:04:16.385749Z",
     "start_time": "2023-03-14T18:04:16.371253Z"
    }
   },
   "outputs": [],
   "source": [
    "arrival_day_df = long_plot_dict['arrival_date']"
   ]
  },
  {
   "cell_type": "code",
   "execution_count": 42,
   "metadata": {
    "ExecuteTime": {
     "end_time": "2023-03-14T18:04:16.401271Z",
     "start_time": "2023-03-14T18:04:16.386750Z"
    }
   },
   "outputs": [],
   "source": [
    "arrival_day_df = (arrival_day_df['Canceled']/\n",
    "                           (arrival_day_df['Canceled'] \n",
    "                            +arrival_day_df['Not_Canceled']))"
   ]
  },
  {
   "cell_type": "code",
   "execution_count": 43,
   "metadata": {
    "ExecuteTime": {
     "end_time": "2023-03-14T18:04:16.492892Z",
     "start_time": "2023-03-14T18:04:16.402272Z"
    }
   },
   "outputs": [
    {
     "data": {
      "image/png": "[encoded data removed]",
      "text/plain": [
       "<Figure size 432x288 with 1 Axes>"
      ]
     },
     "metadata": {
      "needs_background": "light"
     },
     "output_type": "display_data"
    }
   ],
   "source": [
    "arrival_day_df.plot();"
   ]
  },
  {
   "cell_type": "markdown",
   "metadata": {},
   "source": [
    "## no_of_previous_bookings_not_canceled"
   ]
  },
  {
   "cell_type": "markdown",
   "metadata": {},
   "source": [
    "## avg_price_per_room"
   ]
  },
  {
   "cell_type": "code",
   "execution_count": 44,
   "metadata": {
    "ExecuteTime": {
     "end_time": "2023-03-14T18:04:16.508402Z",
     "start_time": "2023-03-14T18:04:16.492892Z"
    }
   },
   "outputs": [],
   "source": [
    "price_df = long_plot_dict['avg_price_per_room']"
   ]
  },
  {
   "cell_type": "code",
   "execution_count": 45,
   "metadata": {
    "ExecuteTime": {
     "end_time": "2023-03-14T18:04:16.602709Z",
     "start_time": "2023-03-14T18:04:16.508402Z"
    }
   },
   "outputs": [
    {
     "data": {
      "image/png": "[encoded data removed]",
      "text/plain": [
       "<Figure size 432x288 with 1 Axes>"
      ]
     },
     "metadata": {
      "needs_background": "light"
     },
     "output_type": "display_data"
    }
   ],
   "source": [
    "price_df.plot();"
   ]
  },
  {
   "cell_type": "code",
   "execution_count": 46,
   "metadata": {
    "ExecuteTime": {
     "end_time": "2023-03-14T18:04:16.697333Z",
     "start_time": "2023-03-14T18:04:16.602709Z"
    }
   },
   "outputs": [
    {
     "data": {
      "image/png": "[encoded data removed]",
      "text/plain": [
       "<Figure size 432x288 with 1 Axes>"
      ]
     },
     "metadata": {
      "needs_background": "light"
     },
     "output_type": "display_data"
    }
   ],
   "source": [
    "price_df.reset_index()[:-10].set_index('avg_price_per_room').plot();"
   ]
  },
  {
   "cell_type": "markdown",
   "metadata": {},
   "source": [
    "### Binning to see if it clears things up"
   ]
  },
  {
   "cell_type": "code",
   "execution_count": 47,
   "metadata": {
    "ExecuteTime": {
     "end_time": "2023-03-14T18:04:16.712959Z",
     "start_time": "2023-03-14T18:04:16.697333Z"
    }
   },
   "outputs": [],
   "source": [
    "bin_price_df = price_df.T"
   ]
  },
  {
   "cell_type": "code",
   "execution_count": 48,
   "metadata": {
    "ExecuteTime": {
     "end_time": "2023-03-14T18:04:16.727975Z",
     "start_time": "2023-03-14T18:04:16.713960Z"
    }
   },
   "outputs": [
    {
     "data": {
      "text/html": [
       "<div>\n",
       "<style scoped>\n",
       "    .dataframe tbody tr th:only-of-type {\n",
       "        vertical-align: middle;\n",
       "    }\n",
       "\n",
       "    .dataframe tbody tr th {\n",
       "        vertical-align: top;\n",
       "    }\n",
       "\n",
       "    .dataframe thead th {\n",
       "        text-align: right;\n",
       "    }\n",
       "</style>\n",
       "<table border=\"1\" class=\"dataframe\">\n",
       "  <thead>\n",
       "    <tr style=\"text-align: right;\">\n",
       "      <th>avg_price_per_room</th>\n",
       "      <th>200.00</th>\n",
       "      <th>200.10</th>\n",
       "      <th>200.20</th>\n",
       "      <th>200.33</th>\n",
       "      <th>200.70</th>\n",
       "      <th>200.75</th>\n",
       "      <th>201.00</th>\n",
       "      <th>201.08</th>\n",
       "      <th>201.16</th>\n",
       "      <th>201.25</th>\n",
       "      <th>...</th>\n",
       "      <th>299.33</th>\n",
       "      <th>300.00</th>\n",
       "      <th>306.00</th>\n",
       "      <th>314.10</th>\n",
       "      <th>316.00</th>\n",
       "      <th>332.57</th>\n",
       "      <th>349.63</th>\n",
       "      <th>365.00</th>\n",
       "      <th>375.50</th>\n",
       "      <th>540.00</th>\n",
       "    </tr>\n",
       "  </thead>\n",
       "  <tbody>\n",
       "    <tr>\n",
       "      <th>Canceled</th>\n",
       "      <td>0.000165</td>\n",
       "      <td>0.000000</td>\n",
       "      <td>0.000000</td>\n",
       "      <td>0.000000</td>\n",
       "      <td>0.000028</td>\n",
       "      <td>0.000055</td>\n",
       "      <td>0.000028</td>\n",
       "      <td>0.000000</td>\n",
       "      <td>0.000000</td>\n",
       "      <td>0.000000</td>\n",
       "      <td>...</td>\n",
       "      <td>0.000028</td>\n",
       "      <td>0.000110</td>\n",
       "      <td>0.000028</td>\n",
       "      <td>0.000000</td>\n",
       "      <td>0.000028</td>\n",
       "      <td>0.000000</td>\n",
       "      <td>0.000000</td>\n",
       "      <td>0.000028</td>\n",
       "      <td>0.000000</td>\n",
       "      <td>0.000028</td>\n",
       "    </tr>\n",
       "    <tr>\n",
       "      <th>Not_Canceled</th>\n",
       "      <td>0.000386</td>\n",
       "      <td>0.000028</td>\n",
       "      <td>0.000028</td>\n",
       "      <td>0.000055</td>\n",
       "      <td>0.000000</td>\n",
       "      <td>0.000028</td>\n",
       "      <td>0.000165</td>\n",
       "      <td>0.000028</td>\n",
       "      <td>0.000028</td>\n",
       "      <td>0.000083</td>\n",
       "      <td>...</td>\n",
       "      <td>0.000000</td>\n",
       "      <td>0.000028</td>\n",
       "      <td>0.000028</td>\n",
       "      <td>0.000028</td>\n",
       "      <td>0.000000</td>\n",
       "      <td>0.000028</td>\n",
       "      <td>0.000028</td>\n",
       "      <td>0.000000</td>\n",
       "      <td>0.000028</td>\n",
       "      <td>0.000000</td>\n",
       "    </tr>\n",
       "  </tbody>\n",
       "</table>\n",
       "<p>2 rows × 229 columns</p>\n",
       "</div>"
      ],
      "text/plain": [
       "avg_price_per_room    200.00    200.10    200.20    200.33    200.70  \\\n",
       "Canceled            0.000165  0.000000  0.000000  0.000000  0.000028   \n",
       "Not_Canceled        0.000386  0.000028  0.000028  0.000055  0.000000   \n",
       "\n",
       "avg_price_per_room    200.75    201.00    201.08    201.16    201.25  ...  \\\n",
       "Canceled            0.000055  0.000028  0.000000  0.000000  0.000000  ...   \n",
       "Not_Canceled        0.000028  0.000165  0.000028  0.000028  0.000083  ...   \n",
       "\n",
       "avg_price_per_room    299.33    300.00    306.00    314.10    316.00  \\\n",
       "Canceled            0.000028  0.000110  0.000028  0.000000  0.000028   \n",
       "Not_Canceled        0.000000  0.000028  0.000028  0.000028  0.000000   \n",
       "\n",
       "avg_price_per_room    332.57    349.63    365.00    375.50    540.00  \n",
       "Canceled            0.000000  0.000000  0.000028  0.000000  0.000028  \n",
       "Not_Canceled        0.000028  0.000028  0.000000  0.000028  0.000000  \n",
       "\n",
       "[2 rows x 229 columns]"
      ]
     },
     "execution_count": 48,
     "metadata": {},
     "output_type": "execute_result"
    }
   ],
   "source": [
    "bin_price_df.loc[:, 200:]"
   ]
  },
  {
   "cell_type": "code",
   "execution_count": 49,
   "metadata": {
    "ExecuteTime": {
     "end_time": "2023-03-14T18:04:16.743534Z",
     "start_time": "2023-03-14T18:04:16.727975Z"
    }
   },
   "outputs": [],
   "source": [
    "clean_price_df = pd.DataFrame()\n",
    "clean_price_df['\\$0-\\$50'] = bin_price_df.loc[:, :50].sum(axis=1)\n",
    "clean_price_df['\\$50-\\$100'] = bin_price_df.loc[:, 50:100].sum(axis=1)\n",
    "clean_price_df['\\$100-\\$150'] = bin_price_df.loc[:, 100:150].sum(axis=1)\n",
    "clean_price_df['\\$150-\\$200'] = bin_price_df.loc[:, 150:200].sum(axis=1)\n",
    "clean_price_df['\\$200+'] = bin_price_df.loc[:, 200:].sum(axis=1)"
   ]
  },
  {
   "cell_type": "code",
   "execution_count": 50,
   "metadata": {
    "ExecuteTime": {
     "end_time": "2023-03-14T18:04:16.759068Z",
     "start_time": "2023-03-14T18:04:16.743534Z"
    }
   },
   "outputs": [
    {
     "data": {
      "text/html": [
       "<div>\n",
       "<style scoped>\n",
       "    .dataframe tbody tr th:only-of-type {\n",
       "        vertical-align: middle;\n",
       "    }\n",
       "\n",
       "    .dataframe tbody tr th {\n",
       "        vertical-align: top;\n",
       "    }\n",
       "\n",
       "    .dataframe thead th {\n",
       "        text-align: right;\n",
       "    }\n",
       "</style>\n",
       "<table border=\"1\" class=\"dataframe\">\n",
       "  <thead>\n",
       "    <tr style=\"text-align: right;\">\n",
       "      <th></th>\n",
       "      <th>\\$0-\\$50</th>\n",
       "      <th>\\$50-\\$100</th>\n",
       "      <th>\\$100-\\$150</th>\n",
       "      <th>\\$150-\\$200</th>\n",
       "      <th>\\$200+</th>\n",
       "    </tr>\n",
       "  </thead>\n",
       "  <tbody>\n",
       "    <tr>\n",
       "      <th>Canceled</th>\n",
       "      <td>0.001185</td>\n",
       "      <td>0.132571</td>\n",
       "      <td>0.169400</td>\n",
       "      <td>0.025527</td>\n",
       "      <td>0.006864</td>\n",
       "    </tr>\n",
       "    <tr>\n",
       "      <th>Not_Canceled</th>\n",
       "      <td>0.023873</td>\n",
       "      <td>0.363336</td>\n",
       "      <td>0.237877</td>\n",
       "      <td>0.050420</td>\n",
       "      <td>0.007360</td>\n",
       "    </tr>\n",
       "  </tbody>\n",
       "</table>\n",
       "</div>"
      ],
      "text/plain": [
       "              \\$0-\\$50  \\$50-\\$100  \\$100-\\$150  \\$150-\\$200    \\$200+\n",
       "Canceled      0.001185    0.132571     0.169400     0.025527  0.006864\n",
       "Not_Canceled  0.023873    0.363336     0.237877     0.050420  0.007360"
      ]
     },
     "execution_count": 50,
     "metadata": {},
     "output_type": "execute_result"
    }
   ],
   "source": [
    "clean_price_df"
   ]
  },
  {
   "cell_type": "code",
   "execution_count": 51,
   "metadata": {
    "ExecuteTime": {
     "end_time": "2023-03-14T18:04:16.851729Z",
     "start_time": "2023-03-14T18:04:16.759068Z"
    }
   },
   "outputs": [
    {
     "data": {
      "image/png": "[encoded data removed]",
      "text/plain": [
       "<Figure size 432x288 with 1 Axes>"
      ]
     },
     "metadata": {
      "needs_background": "light"
     },
     "output_type": "display_data"
    }
   ],
   "source": [
    "clean_price_df.T.plot(kind='bar', rot=30);"
   ]
  },
  {
   "cell_type": "markdown",
   "metadata": {},
   "source": [
    "### Proportional"
   ]
  },
  {
   "cell_type": "markdown",
   "metadata": {},
   "source": [
    "**Proportional without binning**"
   ]
  },
  {
   "cell_type": "code",
   "execution_count": 52,
   "metadata": {
    "ExecuteTime": {
     "end_time": "2023-03-14T18:04:16.867237Z",
     "start_time": "2023-03-14T18:04:16.852732Z"
    }
   },
   "outputs": [],
   "source": [
    "prop_price_df = (price_df['Canceled']/\n",
    "                           (price_df['Canceled'] \n",
    "                            +price_df['Not_Canceled']))"
   ]
  },
  {
   "cell_type": "code",
   "execution_count": 53,
   "metadata": {
    "ExecuteTime": {
     "end_time": "2023-03-14T18:04:16.961329Z",
     "start_time": "2023-03-14T18:04:16.868240Z"
    }
   },
   "outputs": [
    {
     "data": {
      "image/png": "[encoded data removed]",
      "text/plain": [
       "<Figure size 432x288 with 1 Axes>"
      ]
     },
     "metadata": {
      "needs_background": "light"
     },
     "output_type": "display_data"
    }
   ],
   "source": [
    "prop_price_df.plot();"
   ]
  },
  {
   "cell_type": "markdown",
   "metadata": {},
   "source": [
    "**Proportional with binning**"
   ]
  },
  {
   "cell_type": "code",
   "execution_count": 54,
   "metadata": {
    "ExecuteTime": {
     "end_time": "2023-03-14T18:04:16.976837Z",
     "start_time": "2023-03-14T18:04:16.962332Z"
    }
   },
   "outputs": [],
   "source": [
    "clean_price_df_t = clean_price_df.T.copy()"
   ]
  },
  {
   "cell_type": "code",
   "execution_count": 55,
   "metadata": {
    "ExecuteTime": {
     "end_time": "2023-03-14T18:04:16.992633Z",
     "start_time": "2023-03-14T18:04:16.977838Z"
    }
   },
   "outputs": [],
   "source": [
    "prop_clean_price_df = (clean_price_df_t['Canceled']/\n",
    "                           (clean_price_df_t['Canceled'] \n",
    "                            +clean_price_df_t['Not_Canceled']))"
   ]
  },
  {
   "cell_type": "code",
   "execution_count": 56,
   "metadata": {
    "ExecuteTime": {
     "end_time": "2023-03-14T18:04:17.069885Z",
     "start_time": "2023-03-14T18:04:16.992633Z"
    }
   },
   "outputs": [
    {
     "data": {
      "image/png": "[encoded data removed]",
      "text/plain": [
       "<Figure size 720x720 with 1 Axes>"
      ]
     },
     "metadata": {
      "needs_background": "light"
     },
     "output_type": "display_data"
    }
   ],
   "source": [
    "fig, ax = plt.subplots(figsize=(10,10))\n",
    "prop_clean_price_df.plot(kind='bar', rot=30, ax=ax)\n",
    "\n",
    "ax.set_title('Hotel Cancellation Rate by Price')\n",
    "ax.set_xlabel('Avg Room Price')\n",
    "ax.set_ylabel('Cancellation Rate');"
   ]
  },
  {
   "cell_type": "markdown",
   "metadata": {},
   "source": [
    "This plot shows that as hotel room prices increase, the likelihood of cancellation increases as well. Maximum cancellations occurred in the highest bucket of room price with prices ranging from \\\\$100-\\$150 coming in at a close second."
   ]
  },
  {
   "cell_type": "markdown",
   "metadata": {},
   "source": [
    "## Value Counts of string cols"
   ]
  },
  {
   "cell_type": "code",
   "execution_count": 57,
   "metadata": {
    "ExecuteTime": {
     "end_time": "2023-03-14T18:04:17.085181Z",
     "start_time": "2023-03-14T18:04:17.070896Z"
    }
   },
   "outputs": [
    {
     "data": {
      "text/plain": [
       "Meal Plan 1     27835\n",
       "Not Selected     5130\n",
       "Meal Plan 2      3305\n",
       "Meal Plan 3         5\n",
       "Name: type_of_meal_plan, dtype: int64"
      ]
     },
     "execution_count": 57,
     "metadata": {},
     "output_type": "execute_result"
    }
   ],
   "source": [
    "df['type_of_meal_plan'].value_counts()"
   ]
  },
  {
   "cell_type": "code",
   "execution_count": 58,
   "metadata": {
    "ExecuteTime": {
     "end_time": "2023-03-14T18:04:17.100177Z",
     "start_time": "2023-03-14T18:04:17.086180Z"
    }
   },
   "outputs": [
    {
     "data": {
      "text/plain": [
       "Room_Type 1    28130\n",
       "Room_Type 4     6057\n",
       "Room_Type 6      966\n",
       "Room_Type 2      692\n",
       "Room_Type 5      265\n",
       "Room_Type 7      158\n",
       "Room_Type 3        7\n",
       "Name: room_type_reserved, dtype: int64"
      ]
     },
     "execution_count": 58,
     "metadata": {},
     "output_type": "execute_result"
    }
   ],
   "source": [
    "df['room_type_reserved'].value_counts()"
   ]
  },
  {
   "cell_type": "code",
   "execution_count": 59,
   "metadata": {
    "ExecuteTime": {
     "end_time": "2023-03-14T18:04:17.115686Z",
     "start_time": "2023-03-14T18:04:17.101183Z"
    }
   },
   "outputs": [
    {
     "data": {
      "text/plain": [
       "Online           23214\n",
       "Offline          10528\n",
       "Corporate         2017\n",
       "Complementary      391\n",
       "Aviation           125\n",
       "Name: market_segment_type, dtype: int64"
      ]
     },
     "execution_count": 59,
     "metadata": {},
     "output_type": "execute_result"
    }
   ],
   "source": [
    "df['market_segment_type'].value_counts()"
   ]
  },
  {
   "cell_type": "markdown",
   "metadata": {},
   "source": [
    "### Let's take a look at a breakdown of the target var."
   ]
  },
  {
   "cell_type": "code",
   "execution_count": 60,
   "metadata": {
    "ExecuteTime": {
     "end_time": "2023-03-14T18:04:17.131207Z",
     "start_time": "2023-03-14T18:04:17.116189Z"
    }
   },
   "outputs": [
    {
     "data": {
      "text/plain": [
       "Not_Canceled    24390\n",
       "Canceled        11885\n",
       "Name: booking_status, dtype: int64"
      ]
     },
     "execution_count": 60,
     "metadata": {},
     "output_type": "execute_result"
    }
   ],
   "source": [
    "df['booking_status'].value_counts()"
   ]
  },
  {
   "cell_type": "markdown",
   "metadata": {},
   "source": [
    "Lets recode these to numerical values.\n",
    "\n",
    "- 0 for not_canceled\n",
    "- 1 for canceled"
   ]
  },
  {
   "cell_type": "code",
   "execution_count": 61,
   "metadata": {
    "ExecuteTime": {
     "end_time": "2023-03-14T18:04:17.146221Z",
     "start_time": "2023-03-14T18:04:17.132207Z"
    }
   },
   "outputs": [],
   "source": [
    "df['booking_status'] = df['booking_status'].map({'Not_Canceled':0, 'Canceled':1})"
   ]
  },
  {
   "cell_type": "code",
   "execution_count": 62,
   "metadata": {
    "ExecuteTime": {
     "end_time": "2023-03-14T18:04:17.161934Z",
     "start_time": "2023-03-14T18:04:17.147221Z"
    }
   },
   "outputs": [
    {
     "data": {
      "text/html": [
       "<div>\n",
       "<style scoped>\n",
       "    .dataframe tbody tr th:only-of-type {\n",
       "        vertical-align: middle;\n",
       "    }\n",
       "\n",
       "    .dataframe tbody tr th {\n",
       "        vertical-align: top;\n",
       "    }\n",
       "\n",
       "    .dataframe thead th {\n",
       "        text-align: right;\n",
       "    }\n",
       "</style>\n",
       "<table border=\"1\" class=\"dataframe\">\n",
       "  <thead>\n",
       "    <tr style=\"text-align: right;\">\n",
       "      <th></th>\n",
       "      <th>Booking_ID</th>\n",
       "      <th>no_of_adults</th>\n",
       "      <th>no_of_children</th>\n",
       "      <th>no_of_weekend_nights</th>\n",
       "      <th>no_of_week_nights</th>\n",
       "      <th>type_of_meal_plan</th>\n",
       "      <th>required_car_parking_space</th>\n",
       "      <th>room_type_reserved</th>\n",
       "      <th>lead_time</th>\n",
       "      <th>arrival_year</th>\n",
       "      <th>arrival_month</th>\n",
       "      <th>arrival_date</th>\n",
       "      <th>market_segment_type</th>\n",
       "      <th>repeated_guest</th>\n",
       "      <th>no_of_previous_cancellations</th>\n",
       "      <th>no_of_previous_bookings_not_canceled</th>\n",
       "      <th>avg_price_per_room</th>\n",
       "      <th>no_of_special_requests</th>\n",
       "      <th>booking_status</th>\n",
       "      <th>total_stay</th>\n",
       "    </tr>\n",
       "  </thead>\n",
       "  <tbody>\n",
       "    <tr>\n",
       "      <th>0</th>\n",
       "      <td>INN00001</td>\n",
       "      <td>2</td>\n",
       "      <td>0</td>\n",
       "      <td>1.0</td>\n",
       "      <td>2.0</td>\n",
       "      <td>Meal Plan 1</td>\n",
       "      <td>0</td>\n",
       "      <td>Room_Type 1</td>\n",
       "      <td>224.0</td>\n",
       "      <td>2017</td>\n",
       "      <td>10</td>\n",
       "      <td>2</td>\n",
       "      <td>Offline</td>\n",
       "      <td>0</td>\n",
       "      <td>0.0</td>\n",
       "      <td>0.0</td>\n",
       "      <td>65.00</td>\n",
       "      <td>0.0</td>\n",
       "      <td>0</td>\n",
       "      <td>3.0</td>\n",
       "    </tr>\n",
       "    <tr>\n",
       "      <th>1</th>\n",
       "      <td>INN00002</td>\n",
       "      <td>2</td>\n",
       "      <td>0</td>\n",
       "      <td>2.0</td>\n",
       "      <td>3.0</td>\n",
       "      <td>Not Selected</td>\n",
       "      <td>0</td>\n",
       "      <td>Room_Type 1</td>\n",
       "      <td>5.0</td>\n",
       "      <td>2018</td>\n",
       "      <td>11</td>\n",
       "      <td>6</td>\n",
       "      <td>Online</td>\n",
       "      <td>0</td>\n",
       "      <td>0.0</td>\n",
       "      <td>0.0</td>\n",
       "      <td>106.68</td>\n",
       "      <td>1.0</td>\n",
       "      <td>0</td>\n",
       "      <td>5.0</td>\n",
       "    </tr>\n",
       "    <tr>\n",
       "      <th>2</th>\n",
       "      <td>INN00003</td>\n",
       "      <td>1</td>\n",
       "      <td>0</td>\n",
       "      <td>2.0</td>\n",
       "      <td>1.0</td>\n",
       "      <td>Meal Plan 1</td>\n",
       "      <td>0</td>\n",
       "      <td>Room_Type 1</td>\n",
       "      <td>1.0</td>\n",
       "      <td>2018</td>\n",
       "      <td>2</td>\n",
       "      <td>28</td>\n",
       "      <td>Online</td>\n",
       "      <td>0</td>\n",
       "      <td>0.0</td>\n",
       "      <td>0.0</td>\n",
       "      <td>60.00</td>\n",
       "      <td>0.0</td>\n",
       "      <td>1</td>\n",
       "      <td>3.0</td>\n",
       "    </tr>\n",
       "    <tr>\n",
       "      <th>3</th>\n",
       "      <td>INN00004</td>\n",
       "      <td>2</td>\n",
       "      <td>0</td>\n",
       "      <td>0.0</td>\n",
       "      <td>2.0</td>\n",
       "      <td>Meal Plan 1</td>\n",
       "      <td>0</td>\n",
       "      <td>Room_Type 1</td>\n",
       "      <td>211.0</td>\n",
       "      <td>2018</td>\n",
       "      <td>5</td>\n",
       "      <td>20</td>\n",
       "      <td>Online</td>\n",
       "      <td>0</td>\n",
       "      <td>0.0</td>\n",
       "      <td>0.0</td>\n",
       "      <td>100.00</td>\n",
       "      <td>0.0</td>\n",
       "      <td>1</td>\n",
       "      <td>2.0</td>\n",
       "    </tr>\n",
       "    <tr>\n",
       "      <th>4</th>\n",
       "      <td>INN00005</td>\n",
       "      <td>2</td>\n",
       "      <td>0</td>\n",
       "      <td>1.0</td>\n",
       "      <td>1.0</td>\n",
       "      <td>Not Selected</td>\n",
       "      <td>0</td>\n",
       "      <td>Room_Type 1</td>\n",
       "      <td>48.0</td>\n",
       "      <td>2018</td>\n",
       "      <td>4</td>\n",
       "      <td>11</td>\n",
       "      <td>Online</td>\n",
       "      <td>0</td>\n",
       "      <td>0.0</td>\n",
       "      <td>0.0</td>\n",
       "      <td>94.50</td>\n",
       "      <td>0.0</td>\n",
       "      <td>1</td>\n",
       "      <td>2.0</td>\n",
       "    </tr>\n",
       "    <tr>\n",
       "      <th>...</th>\n",
       "      <td>...</td>\n",
       "      <td>...</td>\n",
       "      <td>...</td>\n",
       "      <td>...</td>\n",
       "      <td>...</td>\n",
       "      <td>...</td>\n",
       "      <td>...</td>\n",
       "      <td>...</td>\n",
       "      <td>...</td>\n",
       "      <td>...</td>\n",
       "      <td>...</td>\n",
       "      <td>...</td>\n",
       "      <td>...</td>\n",
       "      <td>...</td>\n",
       "      <td>...</td>\n",
       "      <td>...</td>\n",
       "      <td>...</td>\n",
       "      <td>...</td>\n",
       "      <td>...</td>\n",
       "      <td>...</td>\n",
       "    </tr>\n",
       "    <tr>\n",
       "      <th>36270</th>\n",
       "      <td>INN36271</td>\n",
       "      <td>3</td>\n",
       "      <td>0</td>\n",
       "      <td>2.0</td>\n",
       "      <td>6.0</td>\n",
       "      <td>Meal Plan 1</td>\n",
       "      <td>0</td>\n",
       "      <td>Room_Type 4</td>\n",
       "      <td>85.0</td>\n",
       "      <td>2018</td>\n",
       "      <td>8</td>\n",
       "      <td>3</td>\n",
       "      <td>Online</td>\n",
       "      <td>0</td>\n",
       "      <td>0.0</td>\n",
       "      <td>0.0</td>\n",
       "      <td>167.80</td>\n",
       "      <td>1.0</td>\n",
       "      <td>0</td>\n",
       "      <td>8.0</td>\n",
       "    </tr>\n",
       "    <tr>\n",
       "      <th>36271</th>\n",
       "      <td>INN36272</td>\n",
       "      <td>2</td>\n",
       "      <td>0</td>\n",
       "      <td>1.0</td>\n",
       "      <td>3.0</td>\n",
       "      <td>Meal Plan 1</td>\n",
       "      <td>0</td>\n",
       "      <td>Room_Type 1</td>\n",
       "      <td>228.0</td>\n",
       "      <td>2018</td>\n",
       "      <td>10</td>\n",
       "      <td>17</td>\n",
       "      <td>Online</td>\n",
       "      <td>0</td>\n",
       "      <td>0.0</td>\n",
       "      <td>0.0</td>\n",
       "      <td>90.95</td>\n",
       "      <td>2.0</td>\n",
       "      <td>1</td>\n",
       "      <td>4.0</td>\n",
       "    </tr>\n",
       "    <tr>\n",
       "      <th>36272</th>\n",
       "      <td>INN36273</td>\n",
       "      <td>2</td>\n",
       "      <td>0</td>\n",
       "      <td>2.0</td>\n",
       "      <td>6.0</td>\n",
       "      <td>Meal Plan 1</td>\n",
       "      <td>0</td>\n",
       "      <td>Room_Type 1</td>\n",
       "      <td>148.0</td>\n",
       "      <td>2018</td>\n",
       "      <td>7</td>\n",
       "      <td>1</td>\n",
       "      <td>Online</td>\n",
       "      <td>0</td>\n",
       "      <td>0.0</td>\n",
       "      <td>0.0</td>\n",
       "      <td>98.39</td>\n",
       "      <td>2.0</td>\n",
       "      <td>0</td>\n",
       "      <td>8.0</td>\n",
       "    </tr>\n",
       "    <tr>\n",
       "      <th>36273</th>\n",
       "      <td>INN36274</td>\n",
       "      <td>2</td>\n",
       "      <td>0</td>\n",
       "      <td>0.0</td>\n",
       "      <td>3.0</td>\n",
       "      <td>Not Selected</td>\n",
       "      <td>0</td>\n",
       "      <td>Room_Type 1</td>\n",
       "      <td>63.0</td>\n",
       "      <td>2018</td>\n",
       "      <td>4</td>\n",
       "      <td>21</td>\n",
       "      <td>Online</td>\n",
       "      <td>0</td>\n",
       "      <td>0.0</td>\n",
       "      <td>0.0</td>\n",
       "      <td>94.50</td>\n",
       "      <td>0.0</td>\n",
       "      <td>1</td>\n",
       "      <td>3.0</td>\n",
       "    </tr>\n",
       "    <tr>\n",
       "      <th>36274</th>\n",
       "      <td>INN36275</td>\n",
       "      <td>2</td>\n",
       "      <td>0</td>\n",
       "      <td>1.0</td>\n",
       "      <td>2.0</td>\n",
       "      <td>Meal Plan 1</td>\n",
       "      <td>0</td>\n",
       "      <td>Room_Type 1</td>\n",
       "      <td>207.0</td>\n",
       "      <td>2018</td>\n",
       "      <td>12</td>\n",
       "      <td>30</td>\n",
       "      <td>Offline</td>\n",
       "      <td>0</td>\n",
       "      <td>0.0</td>\n",
       "      <td>0.0</td>\n",
       "      <td>161.67</td>\n",
       "      <td>0.0</td>\n",
       "      <td>0</td>\n",
       "      <td>3.0</td>\n",
       "    </tr>\n",
       "  </tbody>\n",
       "</table>\n",
       "<p>36275 rows × 20 columns</p>\n",
       "</div>"
      ],
      "text/plain": [
       "      Booking_ID  no_of_adults  no_of_children  no_of_weekend_nights  \\\n",
       "0       INN00001             2               0                   1.0   \n",
       "1       INN00002             2               0                   2.0   \n",
       "2       INN00003             1               0                   2.0   \n",
       "3       INN00004             2               0                   0.0   \n",
       "4       INN00005             2               0                   1.0   \n",
       "...          ...           ...             ...                   ...   \n",
       "36270   INN36271             3               0                   2.0   \n",
       "36271   INN36272             2               0                   1.0   \n",
       "36272   INN36273             2               0                   2.0   \n",
       "36273   INN36274             2               0                   0.0   \n",
       "36274   INN36275             2               0                   1.0   \n",
       "\n",
       "       no_of_week_nights type_of_meal_plan  required_car_parking_space  \\\n",
       "0                    2.0       Meal Plan 1                           0   \n",
       "1                    3.0      Not Selected                           0   \n",
       "2                    1.0       Meal Plan 1                           0   \n",
       "3                    2.0       Meal Plan 1                           0   \n",
       "4                    1.0      Not Selected                           0   \n",
       "...                  ...               ...                         ...   \n",
       "36270                6.0       Meal Plan 1                           0   \n",
       "36271                3.0       Meal Plan 1                           0   \n",
       "36272                6.0       Meal Plan 1                           0   \n",
       "36273                3.0      Not Selected                           0   \n",
       "36274                2.0       Meal Plan 1                           0   \n",
       "\n",
       "      room_type_reserved  lead_time  arrival_year  arrival_month  \\\n",
       "0            Room_Type 1      224.0          2017             10   \n",
       "1            Room_Type 1        5.0          2018             11   \n",
       "2            Room_Type 1        1.0          2018              2   \n",
       "3            Room_Type 1      211.0          2018              5   \n",
       "4            Room_Type 1       48.0          2018              4   \n",
       "...                  ...        ...           ...            ...   \n",
       "36270        Room_Type 4       85.0          2018              8   \n",
       "36271        Room_Type 1      228.0          2018             10   \n",
       "36272        Room_Type 1      148.0          2018              7   \n",
       "36273        Room_Type 1       63.0          2018              4   \n",
       "36274        Room_Type 1      207.0          2018             12   \n",
       "\n",
       "       arrival_date market_segment_type  repeated_guest  \\\n",
       "0                 2             Offline               0   \n",
       "1                 6              Online               0   \n",
       "2                28              Online               0   \n",
       "3                20              Online               0   \n",
       "4                11              Online               0   \n",
       "...             ...                 ...             ...   \n",
       "36270             3              Online               0   \n",
       "36271            17              Online               0   \n",
       "36272             1              Online               0   \n",
       "36273            21              Online               0   \n",
       "36274            30             Offline               0   \n",
       "\n",
       "       no_of_previous_cancellations  no_of_previous_bookings_not_canceled  \\\n",
       "0                               0.0                                   0.0   \n",
       "1                               0.0                                   0.0   \n",
       "2                               0.0                                   0.0   \n",
       "3                               0.0                                   0.0   \n",
       "4                               0.0                                   0.0   \n",
       "...                             ...                                   ...   \n",
       "36270                           0.0                                   0.0   \n",
       "36271                           0.0                                   0.0   \n",
       "36272                           0.0                                   0.0   \n",
       "36273                           0.0                                   0.0   \n",
       "36274                           0.0                                   0.0   \n",
       "\n",
       "       avg_price_per_room  no_of_special_requests  booking_status  total_stay  \n",
       "0                   65.00                     0.0               0         3.0  \n",
       "1                  106.68                     1.0               0         5.0  \n",
       "2                   60.00                     0.0               1         3.0  \n",
       "3                  100.00                     0.0               1         2.0  \n",
       "4                   94.50                     0.0               1         2.0  \n",
       "...                   ...                     ...             ...         ...  \n",
       "36270              167.80                     1.0               0         8.0  \n",
       "36271               90.95                     2.0               1         4.0  \n",
       "36272               98.39                     2.0               0         8.0  \n",
       "36273               94.50                     0.0               1         3.0  \n",
       "36274              161.67                     0.0               0         3.0  \n",
       "\n",
       "[36275 rows x 20 columns]"
      ]
     },
     "execution_count": 62,
     "metadata": {},
     "output_type": "execute_result"
    }
   ],
   "source": [
    "df"
   ]
  },
  {
   "cell_type": "markdown",
   "metadata": {},
   "source": [
    "## OHE Data"
   ]
  },
  {
   "cell_type": "markdown",
   "metadata": {},
   "source": [
    "These are all categorical and will be very easy to OHE. Lets go ahead and do that real quick.\n",
    "\n",
    "I am dropping the first column from each OHE. This results in meal plan 1, room type 1, and aviation segment."
   ]
  },
  {
   "cell_type": "code",
   "execution_count": 63,
   "metadata": {
    "ExecuteTime": {
     "end_time": "2023-03-14T18:04:17.176875Z",
     "start_time": "2023-03-14T18:04:17.162936Z"
    }
   },
   "outputs": [],
   "source": [
    "# ohe = OneHotEncoder(drop='first', sparse=False)"
   ]
  },
  {
   "cell_type": "code",
   "execution_count": 64,
   "metadata": {
    "ExecuteTime": {
     "end_time": "2023-03-14T18:04:17.192891Z",
     "start_time": "2023-03-14T18:04:17.177876Z"
    }
   },
   "outputs": [],
   "source": [
    "# cat_cols = df[['type_of_meal_plan', 'room_type_reserved', 'market_segment_type']]"
   ]
  },
  {
   "cell_type": "code",
   "execution_count": 65,
   "metadata": {
    "ExecuteTime": {
     "end_time": "2023-03-14T18:04:17.208398Z",
     "start_time": "2023-03-14T18:04:17.193893Z"
    }
   },
   "outputs": [],
   "source": [
    "# ohe_transformed = ohe.fit_transform(cat_cols)"
   ]
  },
  {
   "cell_type": "code",
   "execution_count": 66,
   "metadata": {
    "ExecuteTime": {
     "end_time": "2023-03-14T18:04:17.223920Z",
     "start_time": "2023-03-14T18:04:17.208398Z"
    }
   },
   "outputs": [],
   "source": [
    "# cols = ohe.get_feature_names()\n",
    "# cols"
   ]
  },
  {
   "cell_type": "code",
   "execution_count": 67,
   "metadata": {
    "ExecuteTime": {
     "end_time": "2023-03-14T18:04:17.239978Z",
     "start_time": "2023-03-14T18:04:17.224920Z"
    }
   },
   "outputs": [],
   "source": [
    "# ohe_df = pd.DataFrame(ohe_transformed, columns=cols)"
   ]
  },
  {
   "cell_type": "code",
   "execution_count": 68,
   "metadata": {
    "ExecuteTime": {
     "end_time": "2023-03-14T18:04:17.317949Z",
     "start_time": "2023-03-14T18:04:17.304935Z"
    }
   },
   "outputs": [],
   "source": [
    "# ohe_df"
   ]
  },
  {
   "cell_type": "code",
   "execution_count": 69,
   "metadata": {
    "ExecuteTime": {
     "end_time": "2023-03-14T18:04:17.333381Z",
     "start_time": "2023-03-14T18:04:17.319949Z"
    }
   },
   "outputs": [],
   "source": [
    "# full_df = pd.concat([df.drop(cat_cols, axis=1), ohe_df], axis=1)"
   ]
  },
  {
   "cell_type": "code",
   "execution_count": 70,
   "metadata": {
    "ExecuteTime": {
     "end_time": "2023-03-14T18:04:17.348537Z",
     "start_time": "2023-03-14T18:04:17.334382Z"
    }
   },
   "outputs": [],
   "source": [
    "# full_df"
   ]
  },
  {
   "cell_type": "code",
   "execution_count": 71,
   "metadata": {
    "ExecuteTime": {
     "end_time": "2023-03-14T18:04:17.364561Z",
     "start_time": "2023-03-14T18:04:17.348537Z"
    }
   },
   "outputs": [],
   "source": [
    "# full_df.info()"
   ]
  },
  {
   "cell_type": "markdown",
   "metadata": {},
   "source": [
    "# Setting up a pipeline"
   ]
  },
  {
   "cell_type": "code",
   "execution_count": 72,
   "metadata": {
    "ExecuteTime": {
     "end_time": "2023-03-14T18:04:17.380059Z",
     "start_time": "2023-03-14T18:04:17.365562Z"
    }
   },
   "outputs": [],
   "source": [
    "float_pipe = Pipeline([\n",
    "    ('ss', StandardScaler())\n",
    "])"
   ]
  },
  {
   "cell_type": "code",
   "execution_count": 73,
   "metadata": {
    "ExecuteTime": {
     "end_time": "2023-03-14T18:04:17.395577Z",
     "start_time": "2023-03-14T18:04:17.381063Z"
    }
   },
   "outputs": [],
   "source": [
    "cat_pipe = Pipeline([\n",
    "    ('ohe', OneHotEncoder(drop='first', sparse=False))\n",
    "])"
   ]
  },
  {
   "cell_type": "code",
   "execution_count": 74,
   "metadata": {
    "ExecuteTime": {
     "end_time": "2023-03-14T18:04:17.411092Z",
     "start_time": "2023-03-14T18:04:17.396577Z"
    }
   },
   "outputs": [],
   "source": [
    "ColTrans = ColumnTransformer(transformers=[\n",
    "    ('float_pip', float_pipe, selector(dtype_include=float)),\n",
    "    ('cat_pipe', cat_pipe, selector(dtype_include=object))\n",
    "], remainder='passthrough')"
   ]
  },
  {
   "cell_type": "markdown",
   "metadata": {},
   "source": [
    "# Try some basic models"
   ]
  },
  {
   "cell_type": "code",
   "execution_count": 75,
   "metadata": {
    "ExecuteTime": {
     "end_time": "2023-03-14T18:04:17.426876Z",
     "start_time": "2023-03-14T18:04:17.412094Z"
    }
   },
   "outputs": [],
   "source": [
    "# Reseting plot theme so that confusion matrix looks normal\n",
    "sns.reset_orig()\n",
    "%matplotlib inline"
   ]
  },
  {
   "cell_type": "markdown",
   "metadata": {},
   "source": [
    "## First lets split the data"
   ]
  },
  {
   "cell_type": "code",
   "execution_count": 76,
   "metadata": {
    "ExecuteTime": {
     "end_time": "2023-03-14T18:04:17.442896Z",
     "start_time": "2023-03-14T18:04:17.426876Z"
    }
   },
   "outputs": [
    {
     "name": "stdout",
     "output_type": "stream",
     "text": [
      "<class 'pandas.core.frame.DataFrame'>\n",
      "RangeIndex: 36275 entries, 0 to 36274\n",
      "Data columns (total 20 columns):\n",
      " #   Column                                Non-Null Count  Dtype  \n",
      "---  ------                                --------------  -----  \n",
      " 0   Booking_ID                            36275 non-null  object \n",
      " 1   no_of_adults                          36275 non-null  int64  \n",
      " 2   no_of_children                        36275 non-null  int64  \n",
      " 3   no_of_weekend_nights                  36275 non-null  float64\n",
      " 4   no_of_week_nights                     36275 non-null  float64\n",
      " 5   type_of_meal_plan                     36275 non-null  object \n",
      " 6   required_car_parking_space            36275 non-null  int64  \n",
      " 7   room_type_reserved                    36275 non-null  object \n",
      " 8   lead_time                             36275 non-null  float64\n",
      " 9   arrival_year                          36275 non-null  int64  \n",
      " 10  arrival_month                         36275 non-null  int64  \n",
      " 11  arrival_date                          36275 non-null  int64  \n",
      " 12  market_segment_type                   36275 non-null  object \n",
      " 13  repeated_guest                        36275 non-null  int64  \n",
      " 14  no_of_previous_cancellations          36275 non-null  float64\n",
      " 15  no_of_previous_bookings_not_canceled  36275 non-null  float64\n",
      " 16  avg_price_per_room                    36275 non-null  float64\n",
      " 17  no_of_special_requests                36275 non-null  float64\n",
      " 18  booking_status                        36275 non-null  int64  \n",
      " 19  total_stay                            36275 non-null  float64\n",
      "dtypes: float64(8), int64(8), object(4)\n",
      "memory usage: 5.5+ MB\n"
     ]
    }
   ],
   "source": [
    "df.info()"
   ]
  },
  {
   "cell_type": "code",
   "execution_count": 77,
   "metadata": {
    "ExecuteTime": {
     "end_time": "2023-03-14T18:04:17.458417Z",
     "start_time": "2023-03-14T18:04:17.443896Z"
    }
   },
   "outputs": [],
   "source": [
    "X = df.drop(['Booking_ID', 'booking_status'], axis=1)\n",
    "y = df['booking_status']"
   ]
  },
  {
   "cell_type": "code",
   "execution_count": 78,
   "metadata": {
    "ExecuteTime": {
     "end_time": "2023-03-14T18:04:17.474056Z",
     "start_time": "2023-03-14T18:04:17.458417Z"
    }
   },
   "outputs": [],
   "source": [
    "X_train, X_test, y_train, y_test = train_test_split(X, y, random_state=42)"
   ]
  },
  {
   "cell_type": "code",
   "execution_count": 79,
   "metadata": {
    "ExecuteTime": {
     "end_time": "2023-03-14T18:04:17.490077Z",
     "start_time": "2023-03-14T18:04:17.474056Z"
    }
   },
   "outputs": [],
   "source": [
    "score_card = pd.DataFrame(columns=['Name', 'Accuracy', 'Precision', 'Recall', \n",
    "                                   'F1 Score', 'ROC/AUC Score'])"
   ]
  },
  {
   "cell_type": "markdown",
   "metadata": {},
   "source": [
    "## Dummy Model"
   ]
  },
  {
   "cell_type": "code",
   "execution_count": 80,
   "metadata": {
    "ExecuteTime": {
     "end_time": "2023-03-14T18:04:17.505179Z",
     "start_time": "2023-03-14T18:04:17.491082Z"
    }
   },
   "outputs": [],
   "source": [
    "dummy_model = Pipeline([\n",
    "    ('ColTrans', ColTrans),\n",
    "    ('dummy', DummyClassifier(strategy='most_frequent', random_state=42))\n",
    "])"
   ]
  },
  {
   "cell_type": "code",
   "execution_count": 81,
   "metadata": {
    "ExecuteTime": {
     "end_time": "2023-03-14T18:04:17.520901Z",
     "start_time": "2023-03-14T18:04:17.506182Z"
    }
   },
   "outputs": [],
   "source": [
    "dummy_model = DummyClassifier(strategy='most_frequent', random_state=42)"
   ]
  },
  {
   "cell_type": "code",
   "execution_count": 85,
   "metadata": {
    "ExecuteTime": {
     "end_time": "2023-03-14T18:04:24.210340Z",
     "start_time": "2023-03-14T18:04:24.037018Z"
    }
   },
   "outputs": [
    {
     "data": {
      "image/png": "[encoded data removed]",
      "text/plain": [
       "<Figure size 864x432 with 4 Axes>"
      ]
     },
     "metadata": {
      "needs_background": "light"
     },
     "output_type": "display_data"
    }
   ],
   "source": [
    "score_card = score_model(dummy_model, \n",
    "                         'Dummy Model',\n",
    "                         score_card,\n",
    "                         X_train,\n",
    "                         X_test,\n",
    "                         y_train,\n",
    "                         y_test)"
   ]
  },
  {
   "cell_type": "code",
   "execution_count": 86,
   "metadata": {
    "ExecuteTime": {
     "end_time": "2023-03-14T18:04:25.062903Z",
     "start_time": "2023-03-14T18:04:25.044881Z"
    }
   },
   "outputs": [
    {
     "data": {
      "text/html": [
       "<div>\n",
       "<style scoped>\n",
       "    .dataframe tbody tr th:only-of-type {\n",
       "        vertical-align: middle;\n",
       "    }\n",
       "\n",
       "    .dataframe tbody tr th {\n",
       "        vertical-align: top;\n",
       "    }\n",
       "\n",
       "    .dataframe thead th {\n",
       "        text-align: right;\n",
       "    }\n",
       "</style>\n",
       "<table border=\"1\" class=\"dataframe\">\n",
       "  <thead>\n",
       "    <tr style=\"text-align: right;\">\n",
       "      <th></th>\n",
       "      <th>Name</th>\n",
       "      <th>Accuracy</th>\n",
       "      <th>Precision</th>\n",
       "      <th>Recall</th>\n",
       "      <th>F1 Score</th>\n",
       "      <th>ROC/AUC Score</th>\n",
       "    </tr>\n",
       "  </thead>\n",
       "  <tbody>\n",
       "    <tr>\n",
       "      <th>0</th>\n",
       "      <td>Dummy Model</td>\n",
       "      <td>0.666336</td>\n",
       "      <td>0.0</td>\n",
       "      <td>0.0</td>\n",
       "      <td>0.0</td>\n",
       "      <td>0.5</td>\n",
       "    </tr>\n",
       "  </tbody>\n",
       "</table>\n",
       "</div>"
      ],
      "text/plain": [
       "          Name  Accuracy  Precision  Recall  F1 Score  ROC/AUC Score\n",
       "0  Dummy Model  0.666336        0.0     0.0       0.0            0.5"
      ]
     },
     "execution_count": 86,
     "metadata": {},
     "output_type": "execute_result"
    }
   ],
   "source": [
    "score_card"
   ]
  },
  {
   "cell_type": "code",
   "execution_count": 87,
   "metadata": {
    "ExecuteTime": {
     "end_time": "2023-03-14T18:04:33.872143Z",
     "start_time": "2023-03-14T18:04:33.860633Z"
    }
   },
   "outputs": [
    {
     "data": {
      "text/plain": [
       "0    0.666336\n",
       "1    0.333664\n",
       "Name: booking_status, dtype: float64"
      ]
     },
     "execution_count": 87,
     "metadata": {},
     "output_type": "execute_result"
    }
   ],
   "source": [
    "y_test.value_counts(normalize=True)"
   ]
  },
  {
   "cell_type": "markdown",
   "metadata": {},
   "source": [
    "OK, dummy model is predicting as expected. Let's try some other models."
   ]
  },
  {
   "cell_type": "markdown",
   "metadata": {},
   "source": [
    "## Logistic Regression"
   ]
  },
  {
   "cell_type": "code",
   "execution_count": 88,
   "metadata": {
    "ExecuteTime": {
     "end_time": "2023-03-14T18:04:35.345210Z",
     "start_time": "2023-03-14T18:04:35.332610Z"
    }
   },
   "outputs": [],
   "source": [
    "log_reg = Pipeline([\n",
    "    ('ColTrans', ColTrans),\n",
    "    ('logreg', LogisticRegression(random_state=42))\n",
    "])"
   ]
  },
  {
   "cell_type": "code",
   "execution_count": 89,
   "metadata": {
    "ExecuteTime": {
     "end_time": "2023-03-14T18:04:36.533319Z",
     "start_time": "2023-03-14T18:04:36.212602Z"
    }
   },
   "outputs": [
    {
     "name": "stderr",
     "output_type": "stream",
     "text": [
      "C:\\Users\\nacnu\\anaconda3\\envs\\learn-env\\lib\\site-packages\\sklearn\\linear_model\\_logistic.py:762: ConvergenceWarning: lbfgs failed to converge (status=1):\n",
      "STOP: TOTAL NO. of ITERATIONS REACHED LIMIT.\n",
      "\n",
      "Increase the number of iterations (max_iter) or scale the data as shown in:\n",
      "    https://scikit-learn.org/stable/modules/preprocessing.html\n",
      "Please also refer to the documentation for alternative solver options:\n",
      "    https://scikit-learn.org/stable/modules/linear_model.html#logistic-regression\n",
      "  n_iter_i = _check_optimize_result(\n"
     ]
    },
    {
     "data": {
      "image/png": "[encoded data removed]",
      "text/plain": [
       "<Figure size 864x432 with 4 Axes>"
      ]
     },
     "metadata": {
      "needs_background": "light"
     },
     "output_type": "display_data"
    }
   ],
   "source": [
    "score_card = score_model(log_reg, \n",
    "                        'Logistic Regression',\n",
    "                        score_card,\n",
    "                        X_train,\n",
    "                        X_test,\n",
    "                        y_train,\n",
    "                        y_test)"
   ]
  },
  {
   "cell_type": "code",
   "execution_count": 90,
   "metadata": {
    "ExecuteTime": {
     "end_time": "2023-03-14T18:04:37.712073Z",
     "start_time": "2023-03-14T18:04:37.701516Z"
    }
   },
   "outputs": [
    {
     "data": {
      "text/html": [
       "<div>\n",
       "<style scoped>\n",
       "    .dataframe tbody tr th:only-of-type {\n",
       "        vertical-align: middle;\n",
       "    }\n",
       "\n",
       "    .dataframe tbody tr th {\n",
       "        vertical-align: top;\n",
       "    }\n",
       "\n",
       "    .dataframe thead th {\n",
       "        text-align: right;\n",
       "    }\n",
       "</style>\n",
       "<table border=\"1\" class=\"dataframe\">\n",
       "  <thead>\n",
       "    <tr style=\"text-align: right;\">\n",
       "      <th></th>\n",
       "      <th>Name</th>\n",
       "      <th>Accuracy</th>\n",
       "      <th>Precision</th>\n",
       "      <th>Recall</th>\n",
       "      <th>F1 Score</th>\n",
       "      <th>ROC/AUC Score</th>\n",
       "    </tr>\n",
       "  </thead>\n",
       "  <tbody>\n",
       "    <tr>\n",
       "      <th>0</th>\n",
       "      <td>Dummy Model</td>\n",
       "      <td>0.666336</td>\n",
       "      <td>0.000000</td>\n",
       "      <td>0.000000</td>\n",
       "      <td>0.000000</td>\n",
       "      <td>0.500000</td>\n",
       "    </tr>\n",
       "    <tr>\n",
       "      <th>1</th>\n",
       "      <td>Logistic Regression</td>\n",
       "      <td>0.799096</td>\n",
       "      <td>0.737008</td>\n",
       "      <td>0.618638</td>\n",
       "      <td>0.672655</td>\n",
       "      <td>0.754049</td>\n",
       "    </tr>\n",
       "  </tbody>\n",
       "</table>\n",
       "</div>"
      ],
      "text/plain": [
       "                  Name  Accuracy  Precision    Recall  F1 Score  ROC/AUC Score\n",
       "0          Dummy Model  0.666336   0.000000  0.000000  0.000000       0.500000\n",
       "1  Logistic Regression  0.799096   0.737008  0.618638  0.672655       0.754049"
      ]
     },
     "execution_count": 90,
     "metadata": {},
     "output_type": "execute_result"
    }
   ],
   "source": [
    "score_card"
   ]
  },
  {
   "cell_type": "markdown",
   "metadata": {},
   "source": [
    "## XGBoost"
   ]
  },
  {
   "attachments": {
    "image.png": {
     "image/png": "[encoded data removed]"
    }
   },
   "cell_type": "markdown",
   "metadata": {},
   "source": [
    "XGB performed much better before setting up a pipeline...\n",
    "![image.png](attachment:image.png)"
   ]
  },
  {
   "cell_type": "code",
   "execution_count": 91,
   "metadata": {
    "ExecuteTime": {
     "end_time": "2023-03-14T18:04:39.858195Z",
     "start_time": "2023-03-14T18:04:39.852211Z"
    }
   },
   "outputs": [],
   "source": [
    "xgb_model = Pipeline([\n",
    "    ('ColTrans', ColTrans),\n",
    "    ('xgb', XGBClassifier(random_state=42))\n",
    "])"
   ]
  },
  {
   "cell_type": "code",
   "execution_count": 92,
   "metadata": {
    "ExecuteTime": {
     "end_time": "2023-03-14T18:04:41.560149Z",
     "start_time": "2023-03-14T18:04:40.804776Z"
    }
   },
   "outputs": [
    {
     "data": {
      "image/png": "[encoded data removed]",
      "text/plain": [
       "<Figure size 864x432 with 4 Axes>"
      ]
     },
     "metadata": {
      "needs_background": "light"
     },
     "output_type": "display_data"
    }
   ],
   "source": [
    "score_card = score_model(xgb_model, \n",
    "                         'XGBoost',\n",
    "                         score_card,\n",
    "                         X_train,\n",
    "                         X_test,\n",
    "                         y_train,\n",
    "                         y_test)"
   ]
  },
  {
   "cell_type": "code",
   "execution_count": 93,
   "metadata": {
    "ExecuteTime": {
     "end_time": "2023-03-14T18:04:44.155629Z",
     "start_time": "2023-03-14T18:04:44.149123Z"
    }
   },
   "outputs": [
    {
     "data": {
      "text/html": [
       "<div>\n",
       "<style scoped>\n",
       "    .dataframe tbody tr th:only-of-type {\n",
       "        vertical-align: middle;\n",
       "    }\n",
       "\n",
       "    .dataframe tbody tr th {\n",
       "        vertical-align: top;\n",
       "    }\n",
       "\n",
       "    .dataframe thead th {\n",
       "        text-align: right;\n",
       "    }\n",
       "</style>\n",
       "<table border=\"1\" class=\"dataframe\">\n",
       "  <thead>\n",
       "    <tr style=\"text-align: right;\">\n",
       "      <th></th>\n",
       "      <th>Name</th>\n",
       "      <th>Accuracy</th>\n",
       "      <th>Precision</th>\n",
       "      <th>Recall</th>\n",
       "      <th>F1 Score</th>\n",
       "      <th>ROC/AUC Score</th>\n",
       "    </tr>\n",
       "  </thead>\n",
       "  <tbody>\n",
       "    <tr>\n",
       "      <th>0</th>\n",
       "      <td>Dummy Model</td>\n",
       "      <td>0.666336</td>\n",
       "      <td>0.000000</td>\n",
       "      <td>0.000000</td>\n",
       "      <td>0.000000</td>\n",
       "      <td>0.500000</td>\n",
       "    </tr>\n",
       "    <tr>\n",
       "      <th>1</th>\n",
       "      <td>Logistic Regression</td>\n",
       "      <td>0.799096</td>\n",
       "      <td>0.737008</td>\n",
       "      <td>0.618638</td>\n",
       "      <td>0.672655</td>\n",
       "      <td>0.754049</td>\n",
       "    </tr>\n",
       "    <tr>\n",
       "      <th>2</th>\n",
       "      <td>XGBoost</td>\n",
       "      <td>0.894806</td>\n",
       "      <td>0.868946</td>\n",
       "      <td>0.806345</td>\n",
       "      <td>0.836476</td>\n",
       "      <td>0.872724</td>\n",
       "    </tr>\n",
       "  </tbody>\n",
       "</table>\n",
       "</div>"
      ],
      "text/plain": [
       "                  Name  Accuracy  Precision    Recall  F1 Score  ROC/AUC Score\n",
       "0          Dummy Model  0.666336   0.000000  0.000000  0.000000       0.500000\n",
       "1  Logistic Regression  0.799096   0.737008  0.618638  0.672655       0.754049\n",
       "2              XGBoost  0.894806   0.868946  0.806345  0.836476       0.872724"
      ]
     },
     "execution_count": 93,
     "metadata": {},
     "output_type": "execute_result"
    }
   ],
   "source": [
    "score_card"
   ]
  },
  {
   "cell_type": "markdown",
   "metadata": {},
   "source": [
    "## XGB Random Forest"
   ]
  },
  {
   "cell_type": "code",
   "execution_count": 94,
   "metadata": {
    "ExecuteTime": {
     "end_time": "2023-03-14T18:04:49.220155Z",
     "start_time": "2023-03-14T18:04:49.205079Z"
    }
   },
   "outputs": [],
   "source": [
    "xgbrf_model = Pipeline([\n",
    "    ('ColTrans', ColTrans),\n",
    "    ('xgbrf', XGBRFClassifier(random_state=42))\n",
    "])"
   ]
  },
  {
   "cell_type": "code",
   "execution_count": 97,
   "metadata": {
    "ExecuteTime": {
     "end_time": "2023-03-14T18:05:03.515994Z",
     "start_time": "2023-03-14T18:05:02.860961Z"
    }
   },
   "outputs": [
    {
     "data": {
      "image/png": "[encoded data removed]",
      "text/plain": [
       "<Figure size 864x432 with 4 Axes>"
      ]
     },
     "metadata": {
      "needs_background": "light"
     },
     "output_type": "display_data"
    }
   ],
   "source": [
    "score_card = score_model(xgbrf_model, \n",
    "                         'XGB Random Forest',\n",
    "                         score_card,\n",
    "                         X_train,\n",
    "                         X_test,\n",
    "                         y_train,\n",
    "                         y_test)"
   ]
  },
  {
   "cell_type": "code",
   "execution_count": 98,
   "metadata": {
    "ExecuteTime": {
     "end_time": "2023-03-14T18:05:05.202070Z",
     "start_time": "2023-03-14T18:05:05.188005Z"
    }
   },
   "outputs": [
    {
     "data": {
      "text/html": [
       "<div>\n",
       "<style scoped>\n",
       "    .dataframe tbody tr th:only-of-type {\n",
       "        vertical-align: middle;\n",
       "    }\n",
       "\n",
       "    .dataframe tbody tr th {\n",
       "        vertical-align: top;\n",
       "    }\n",
       "\n",
       "    .dataframe thead th {\n",
       "        text-align: right;\n",
       "    }\n",
       "</style>\n",
       "<table border=\"1\" class=\"dataframe\">\n",
       "  <thead>\n",
       "    <tr style=\"text-align: right;\">\n",
       "      <th></th>\n",
       "      <th>Name</th>\n",
       "      <th>Accuracy</th>\n",
       "      <th>Precision</th>\n",
       "      <th>Recall</th>\n",
       "      <th>F1 Score</th>\n",
       "      <th>ROC/AUC Score</th>\n",
       "    </tr>\n",
       "  </thead>\n",
       "  <tbody>\n",
       "    <tr>\n",
       "      <th>0</th>\n",
       "      <td>Dummy Model</td>\n",
       "      <td>0.666336</td>\n",
       "      <td>0.000000</td>\n",
       "      <td>0.000000</td>\n",
       "      <td>0.000000</td>\n",
       "      <td>0.500000</td>\n",
       "    </tr>\n",
       "    <tr>\n",
       "      <th>1</th>\n",
       "      <td>Logistic Regression</td>\n",
       "      <td>0.799096</td>\n",
       "      <td>0.737008</td>\n",
       "      <td>0.618638</td>\n",
       "      <td>0.672655</td>\n",
       "      <td>0.754049</td>\n",
       "    </tr>\n",
       "    <tr>\n",
       "      <th>2</th>\n",
       "      <td>XGBoost</td>\n",
       "      <td>0.894806</td>\n",
       "      <td>0.868946</td>\n",
       "      <td>0.806345</td>\n",
       "      <td>0.836476</td>\n",
       "      <td>0.872724</td>\n",
       "    </tr>\n",
       "    <tr>\n",
       "      <th>3</th>\n",
       "      <td>XGB Random Forest</td>\n",
       "      <td>0.853236</td>\n",
       "      <td>0.826338</td>\n",
       "      <td>0.709187</td>\n",
       "      <td>0.763294</td>\n",
       "      <td>0.817278</td>\n",
       "    </tr>\n",
       "  </tbody>\n",
       "</table>\n",
       "</div>"
      ],
      "text/plain": [
       "                  Name  Accuracy  Precision    Recall  F1 Score  ROC/AUC Score\n",
       "0          Dummy Model  0.666336   0.000000  0.000000  0.000000       0.500000\n",
       "1  Logistic Regression  0.799096   0.737008  0.618638  0.672655       0.754049\n",
       "2              XGBoost  0.894806   0.868946  0.806345  0.836476       0.872724\n",
       "3    XGB Random Forest  0.853236   0.826338  0.709187  0.763294       0.817278"
      ]
     },
     "execution_count": 98,
     "metadata": {},
     "output_type": "execute_result"
    }
   ],
   "source": [
    "score_card"
   ]
  },
  {
   "cell_type": "markdown",
   "metadata": {},
   "source": [
    "## Random Forest"
   ]
  },
  {
   "cell_type": "code",
   "execution_count": 99,
   "metadata": {
    "ExecuteTime": {
     "end_time": "2023-03-14T18:06:18.557240Z",
     "start_time": "2023-03-14T18:06:18.540735Z"
    }
   },
   "outputs": [],
   "source": [
    "rf_model = Pipeline([\n",
    "    ('ColTrans', ColTrans),\n",
    "    ('rf', RandomForestClassifier(random_state=42))\n",
    "])"
   ]
  },
  {
   "cell_type": "code",
   "execution_count": 100,
   "metadata": {
    "ExecuteTime": {
     "end_time": "2023-03-14T18:06:22.114763Z",
     "start_time": "2023-03-14T18:06:19.860400Z"
    }
   },
   "outputs": [
    {
     "data": {
      "image/png": "[encoded data removed]",
      "text/plain": [
       "<Figure size 864x432 with 4 Axes>"
      ]
     },
     "metadata": {
      "needs_background": "light"
     },
     "output_type": "display_data"
    }
   ],
   "source": [
    "score_card = score_model(rf_model, \n",
    "                         'Random Forest',\n",
    "                         score_card,\n",
    "                         X_train,\n",
    "                         X_test,\n",
    "                         y_train,\n",
    "                         y_test)"
   ]
  },
  {
   "cell_type": "code",
   "execution_count": 101,
   "metadata": {
    "ExecuteTime": {
     "end_time": "2023-03-14T18:06:34.922799Z",
     "start_time": "2023-03-14T18:06:34.908396Z"
    }
   },
   "outputs": [
    {
     "data": {
      "text/html": [
       "<div>\n",
       "<style scoped>\n",
       "    .dataframe tbody tr th:only-of-type {\n",
       "        vertical-align: middle;\n",
       "    }\n",
       "\n",
       "    .dataframe tbody tr th {\n",
       "        vertical-align: top;\n",
       "    }\n",
       "\n",
       "    .dataframe thead th {\n",
       "        text-align: right;\n",
       "    }\n",
       "</style>\n",
       "<table border=\"1\" class=\"dataframe\">\n",
       "  <thead>\n",
       "    <tr style=\"text-align: right;\">\n",
       "      <th></th>\n",
       "      <th>Name</th>\n",
       "      <th>Accuracy</th>\n",
       "      <th>Precision</th>\n",
       "      <th>Recall</th>\n",
       "      <th>F1 Score</th>\n",
       "      <th>ROC/AUC Score</th>\n",
       "    </tr>\n",
       "  </thead>\n",
       "  <tbody>\n",
       "    <tr>\n",
       "      <th>0</th>\n",
       "      <td>Dummy Model</td>\n",
       "      <td>0.666336</td>\n",
       "      <td>0.000000</td>\n",
       "      <td>0.000000</td>\n",
       "      <td>0.000000</td>\n",
       "      <td>0.500000</td>\n",
       "    </tr>\n",
       "    <tr>\n",
       "      <th>1</th>\n",
       "      <td>Logistic Regression</td>\n",
       "      <td>0.799096</td>\n",
       "      <td>0.737008</td>\n",
       "      <td>0.618638</td>\n",
       "      <td>0.672655</td>\n",
       "      <td>0.754049</td>\n",
       "    </tr>\n",
       "    <tr>\n",
       "      <th>2</th>\n",
       "      <td>XGBoost</td>\n",
       "      <td>0.894806</td>\n",
       "      <td>0.868946</td>\n",
       "      <td>0.806345</td>\n",
       "      <td>0.836476</td>\n",
       "      <td>0.872724</td>\n",
       "    </tr>\n",
       "    <tr>\n",
       "      <th>3</th>\n",
       "      <td>XGB Random Forest</td>\n",
       "      <td>0.853236</td>\n",
       "      <td>0.826338</td>\n",
       "      <td>0.709187</td>\n",
       "      <td>0.763294</td>\n",
       "      <td>0.817278</td>\n",
       "    </tr>\n",
       "    <tr>\n",
       "      <th>4</th>\n",
       "      <td>Random Forest</td>\n",
       "      <td>0.902966</td>\n",
       "      <td>0.885694</td>\n",
       "      <td>0.814276</td>\n",
       "      <td>0.848485</td>\n",
       "      <td>0.880827</td>\n",
       "    </tr>\n",
       "  </tbody>\n",
       "</table>\n",
       "</div>"
      ],
      "text/plain": [
       "                  Name  Accuracy  Precision    Recall  F1 Score  ROC/AUC Score\n",
       "0          Dummy Model  0.666336   0.000000  0.000000  0.000000       0.500000\n",
       "1  Logistic Regression  0.799096   0.737008  0.618638  0.672655       0.754049\n",
       "2              XGBoost  0.894806   0.868946  0.806345  0.836476       0.872724\n",
       "3    XGB Random Forest  0.853236   0.826338  0.709187  0.763294       0.817278\n",
       "4        Random Forest  0.902966   0.885694  0.814276  0.848485       0.880827"
      ]
     },
     "execution_count": 101,
     "metadata": {},
     "output_type": "execute_result"
    }
   ],
   "source": [
    "score_card"
   ]
  },
  {
   "cell_type": "code",
   "execution_count": null,
   "metadata": {},
   "outputs": [],
   "source": []
  },
  {
   "cell_type": "code",
   "execution_count": null,
   "metadata": {},
   "outputs": [],
   "source": []
  },
  {
   "cell_type": "code",
   "execution_count": null,
   "metadata": {},
   "outputs": [],
   "source": []
  },
  {
   "cell_type": "code",
   "execution_count": null,
   "metadata": {},
   "outputs": [],
   "source": []
  },
  {
   "cell_type": "code",
   "execution_count": null,
   "metadata": {},
   "outputs": [],
   "source": []
  },
  {
   "cell_type": "code",
   "execution_count": null,
   "metadata": {},
   "outputs": [],
   "source": []
  },
  {
   "cell_type": "code",
   "execution_count": null,
   "metadata": {},
   "outputs": [],
   "source": []
  },
  {
   "cell_type": "code",
   "execution_count": null,
   "metadata": {},
   "outputs": [],
   "source": []
  },
  {
   "cell_type": "code",
   "execution_count": null,
   "metadata": {},
   "outputs": [],
   "source": []
  },
  {
   "cell_type": "code",
   "execution_count": null,
   "metadata": {},
   "outputs": [],
   "source": []
  },
  {
   "cell_type": "code",
   "execution_count": null,
   "metadata": {},
   "outputs": [],
   "source": []
  },
  {
   "cell_type": "code",
   "execution_count": null,
   "metadata": {},
   "outputs": [],
   "source": []
  },
  {
   "cell_type": "code",
   "execution_count": null,
   "metadata": {},
   "outputs": [],
   "source": []
  },
  {
   "cell_type": "code",
   "execution_count": null,
   "metadata": {},
   "outputs": [],
   "source": []
  },
  {
   "cell_type": "markdown",
   "metadata": {},
   "source": [
    "# Saving Functions just in case changes need made"
   ]
  },
  {
   "cell_type": "code",
   "execution_count": null,
   "metadata": {
    "ExecuteTime": {
     "end_time": "2023-03-13T21:29:16.480530Z",
     "start_time": "2023-03-13T21:29:15.153Z"
    }
   },
   "outputs": [],
   "source": [
    "# Making a function to automate results\n",
    "def score_model(model, \n",
    "                model_name, \n",
    "                X_train=X_train, \n",
    "                X_test=X_test, \n",
    "                y_train=y_train, \n",
    "                y_test=y_test,\n",
    "                normalize=None):\n",
    "    \n",
    "    '''\n",
    "    Input an sklearn model and model name (string).\n",
    "    Returns a Confusion Matrix and classification Reports for\n",
    "    train and test sets.    \n",
    "    '''\n",
    "    \n",
    "    #Check if model is already fit\n",
    "    try:\n",
    "        check_is_fitted(model)\n",
    "        fit = True\n",
    "    except:\n",
    "        fit = False\n",
    "    \n",
    "    #fit the model\n",
    "    if fit == False:\n",
    "        model.fit(X_train, y_train)\n",
    "    \n",
    "    # setting up the plot\n",
    "    fig, ax = plt.subplots(1,2, figsize=(12,6))\n",
    "    fig.suptitle(f'{model_name} Results', size=25)\n",
    "    \n",
    "    \n",
    "    #Train Confusion Matrix\n",
    "    plot_confusion_matrix(model, \n",
    "                          X_train, \n",
    "                          y_train, \n",
    "                          ax=ax[0], \n",
    "                          normalize=normalize)\n",
    "    ax[0].set_title('Train Results', size=15)\n",
    "\n",
    "    # Test Confusion Matrix\n",
    "    plot_confusion_matrix(model, \n",
    "                          X_test, \n",
    "                          y_test, \n",
    "                          ax=ax[1],\n",
    "                          normalize=normalize)\n",
    "    ax[1].set_title('Test Results', size=15)\n",
    "\n",
    "\n",
    "    # Classification Reports\n",
    "    # Train\n",
    "    train_scores = classification_report(y_train, model.predict(X_train))\n",
    "    print('Train Report:\\n')\n",
    "    print(train_scores)\n",
    "    \n",
    "    # Test\n",
    "    test_scores = classification_report(y_test, model.predict(X_test))\n",
    "    print('Test Report:\\n')\n",
    "    print(test_scores)"
   ]
  }
 ],
 "metadata": {
  "kernelspec": {
   "display_name": "Python (learn-env)",
   "language": "python",
   "name": "learn-env"
  },
  "language_info": {
   "codemirror_mode": {
    "name": "ipython",
    "version": 3
   },
   "file_extension": ".py",
   "mimetype": "text/x-python",
   "name": "python",
   "nbconvert_exporter": "python",
   "pygments_lexer": "ipython3",
   "version": "3.8.5"
  },
  "toc": {
   "base_numbering": 1,
   "nav_menu": {},
   "number_sections": true,
   "sideBar": false,
   "skip_h1_title": false,
   "title_cell": "Table of Contents",
   "title_sidebar": "Contents",
   "toc_cell": true,
   "toc_position": {},
   "toc_section_display": true,
   "toc_window_display": false
  },
  "varInspector": {
   "cols": {
    "lenName": 16,
    "lenType": 16,
    "lenVar": 40
   },
   "kernels_config": {
    "python": {
     "delete_cmd_postfix": "",
     "delete_cmd_prefix": "del ",
     "library": "var_list.py",
     "varRefreshCmd": "print(var_dic_list())"
    },
    "r": {
     "delete_cmd_postfix": ") ",
     "delete_cmd_prefix": "rm(",
     "library": "var_list.r",
     "varRefreshCmd": "cat(var_dic_list()) "
    }
   },
   "types_to_exclude": [
    "module",
    "function",
    "builtin_function_or_method",
    "instance",
    "_Feature"
   ],
   "window_display": false
  }
 },
 "nbformat": 4,
 "nbformat_minor": 4
}
