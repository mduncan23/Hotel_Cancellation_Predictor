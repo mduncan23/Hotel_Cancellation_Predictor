{
 "cells": [
  {
   "cell_type": "markdown",
   "metadata": {
    "toc": true
   },
   "source": [
    "<h1>Table of Contents<span class=\"tocSkip\"></span></h1>\n",
    "<div class=\"toc\"><ul class=\"toc-item\"><li><span><a href=\"#Business-Understanding\" data-toc-modified-id=\"Business-Understanding-1\"><span class=\"toc-item-num\">1&nbsp;&nbsp;</span>Business Understanding</a></span></li><li><span><a href=\"#The-Data\" data-toc-modified-id=\"The-Data-2\"><span class=\"toc-item-num\">2&nbsp;&nbsp;</span>The Data</a></span><ul class=\"toc-item\"><li><ul class=\"toc-item\"><li><span><a href=\"#Adding-new-feature-total_stay\" data-toc-modified-id=\"Adding-new-feature-total_stay-2.0.1\"><span class=\"toc-item-num\">2.0.1&nbsp;&nbsp;</span>Adding new feature <code>total_stay</code></a></span></li></ul></li><li><span><a href=\"#Changing-dtype-for-use-later-on-with-scaling.\" data-toc-modified-id=\"Changing-dtype-for-use-later-on-with-scaling.-2.1\"><span class=\"toc-item-num\">2.1&nbsp;&nbsp;</span>Changing dtype for use later on with scaling.</a></span></li><li><span><a href=\"#Data-Visualizations\" data-toc-modified-id=\"Data-Visualizations-2.2\"><span class=\"toc-item-num\">2.2&nbsp;&nbsp;</span>Data Visualizations</a></span><ul class=\"toc-item\"><li><span><a href=\"#Plotting-the-Ratio-of-Cancellations-to-total-bookings-for-each-feature\" data-toc-modified-id=\"Plotting-the-Ratio-of-Cancellations-to-total-bookings-for-each-feature-2.2.1\"><span class=\"toc-item-num\">2.2.1&nbsp;&nbsp;</span>Plotting the Ratio of Cancellations to total bookings for each feature</a></span></li><li><span><a href=\"#Plotting-the-Ratio-of-Cancellations-to-total-bookings-for-each-feature-with-len->-12\" data-toc-modified-id=\"Plotting-the-Ratio-of-Cancellations-to-total-bookings-for-each-feature-with-len->-12-2.2.2\"><span class=\"toc-item-num\">2.2.2&nbsp;&nbsp;</span>Plotting the Ratio of Cancellations to total bookings for each feature with len &gt; 12</a></span></li></ul></li><li><span><a href=\"#No.-of-Weeknights\" data-toc-modified-id=\"No.-of-Weeknights-2.3\"><span class=\"toc-item-num\">2.3&nbsp;&nbsp;</span>No. of Weeknights</a></span><ul class=\"toc-item\"><li><span><a href=\"#Weeknights-proportional\" data-toc-modified-id=\"Weeknights-proportional-2.3.1\"><span class=\"toc-item-num\">2.3.1&nbsp;&nbsp;</span>Weeknights proportional</a></span></li></ul></li><li><span><a href=\"#Booking-Lead-Time\" data-toc-modified-id=\"Booking-Lead-Time-2.4\"><span class=\"toc-item-num\">2.4&nbsp;&nbsp;</span>Booking Lead Time</a></span><ul class=\"toc-item\"><li><ul class=\"toc-item\"><li><span><a href=\"#Probably-delete-this,-buckets-don't-tell-as-good-of-a-story\" data-toc-modified-id=\"Probably-delete-this,-buckets-don't-tell-as-good-of-a-story-2.4.0.1\"><span class=\"toc-item-num\">2.4.0.1&nbsp;&nbsp;</span>Probably delete this, buckets don't tell as good of a story</a></span></li></ul></li><li><span><a href=\"#Lead-time-proportional\" data-toc-modified-id=\"Lead-time-proportional-2.4.1\"><span class=\"toc-item-num\">2.4.1&nbsp;&nbsp;</span>Lead time proportional</a></span><ul class=\"toc-item\"><li><span><a href=\"#Adding-a-simple-moving-average-for-10-periods\" data-toc-modified-id=\"Adding-a-simple-moving-average-for-10-periods-2.4.1.1\"><span class=\"toc-item-num\">2.4.1.1&nbsp;&nbsp;</span>Adding a simple moving average for 10 periods</a></span></li></ul></li></ul></li><li><span><a href=\"#Arrival-Date\" data-toc-modified-id=\"Arrival-Date-2.5\"><span class=\"toc-item-num\">2.5&nbsp;&nbsp;</span>Arrival Date</a></span></li><li><span><a href=\"#no_of_previous_bookings_not_canceled\" data-toc-modified-id=\"no_of_previous_bookings_not_canceled-2.6\"><span class=\"toc-item-num\">2.6&nbsp;&nbsp;</span>no_of_previous_bookings_not_canceled</a></span></li><li><span><a href=\"#avg_price_per_room\" data-toc-modified-id=\"avg_price_per_room-2.7\"><span class=\"toc-item-num\">2.7&nbsp;&nbsp;</span>avg_price_per_room</a></span><ul class=\"toc-item\"><li><span><a href=\"#Binning-to-see-if-it-clears-things-up\" data-toc-modified-id=\"Binning-to-see-if-it-clears-things-up-2.7.1\"><span class=\"toc-item-num\">2.7.1&nbsp;&nbsp;</span>Binning to see if it clears things up</a></span></li><li><span><a href=\"#Proportional\" data-toc-modified-id=\"Proportional-2.7.2\"><span class=\"toc-item-num\">2.7.2&nbsp;&nbsp;</span>Proportional</a></span></li></ul></li><li><span><a href=\"#Value-Counts-of-string-cols\" data-toc-modified-id=\"Value-Counts-of-string-cols-2.8\"><span class=\"toc-item-num\">2.8&nbsp;&nbsp;</span>Value Counts of string cols</a></span><ul class=\"toc-item\"><li><span><a href=\"#Let's-take-a-look-at-a-breakdown-of-the-target-var.\" data-toc-modified-id=\"Let's-take-a-look-at-a-breakdown-of-the-target-var.-2.8.1\"><span class=\"toc-item-num\">2.8.1&nbsp;&nbsp;</span>Let's take a look at a breakdown of the target var.</a></span></li></ul></li></ul></li><li><span><a href=\"#Setting-up-a-pipeline\" data-toc-modified-id=\"Setting-up-a-pipeline-3\"><span class=\"toc-item-num\">3&nbsp;&nbsp;</span>Setting up a pipeline</a></span></li><li><span><a href=\"#Try-some-basic-models\" data-toc-modified-id=\"Try-some-basic-models-4\"><span class=\"toc-item-num\">4&nbsp;&nbsp;</span>Try some basic models</a></span><ul class=\"toc-item\"><li><span><a href=\"#First-lets-split-the-data\" data-toc-modified-id=\"First-lets-split-the-data-4.1\"><span class=\"toc-item-num\">4.1&nbsp;&nbsp;</span>First lets split the data</a></span></li><li><span><a href=\"#Dummy-Model\" data-toc-modified-id=\"Dummy-Model-4.2\"><span class=\"toc-item-num\">4.2&nbsp;&nbsp;</span>Dummy Model</a></span></li><li><span><a href=\"#Logistic-Regression\" data-toc-modified-id=\"Logistic-Regression-4.3\"><span class=\"toc-item-num\">4.3&nbsp;&nbsp;</span>Logistic Regression</a></span></li><li><span><a href=\"#Trying-something-new\" data-toc-modified-id=\"Trying-something-new-4.4\"><span class=\"toc-item-num\">4.4&nbsp;&nbsp;</span>Trying something new</a></span></li><li><span><a href=\"#XGBoost\" data-toc-modified-id=\"XGBoost-4.5\"><span class=\"toc-item-num\">4.5&nbsp;&nbsp;</span>XGBoost</a></span><ul class=\"toc-item\"><li><span><a href=\"#Cross-Val-Results\" data-toc-modified-id=\"Cross-Val-Results-4.5.1\"><span class=\"toc-item-num\">4.5.1&nbsp;&nbsp;</span>Cross-Val Results</a></span></li></ul></li><li><span><a href=\"#Trying-something-new\" data-toc-modified-id=\"Trying-something-new-4.6\"><span class=\"toc-item-num\">4.6&nbsp;&nbsp;</span>Trying something new</a></span></li><li><span><a href=\"#XGB-Random-Forest\" data-toc-modified-id=\"XGB-Random-Forest-4.7\"><span class=\"toc-item-num\">4.7&nbsp;&nbsp;</span>XGB Random Forest</a></span></li><li><span><a href=\"#Random-Forest\" data-toc-modified-id=\"Random-Forest-4.8\"><span class=\"toc-item-num\">4.8&nbsp;&nbsp;</span>Random Forest</a></span></li><li><span><a href=\"#SVC\" data-toc-modified-id=\"SVC-4.9\"><span class=\"toc-item-num\">4.9&nbsp;&nbsp;</span>SVC</a></span><ul class=\"toc-item\"><li><span><a href=\"#SVC-Gridsearch\" data-toc-modified-id=\"SVC-Gridsearch-4.9.1\"><span class=\"toc-item-num\">4.9.1&nbsp;&nbsp;</span>SVC Gridsearch</a></span></li><li><span><a href=\"#SVC-GridSearch-2\" data-toc-modified-id=\"SVC-GridSearch-2-4.9.2\"><span class=\"toc-item-num\">4.9.2&nbsp;&nbsp;</span>SVC GridSearch 2</a></span></li><li><span><a href=\"#Saving-best-GS-to-Scorecard\" data-toc-modified-id=\"Saving-best-GS-to-Scorecard-4.9.3\"><span class=\"toc-item-num\">4.9.3&nbsp;&nbsp;</span>Saving best GS to Scorecard</a></span></li></ul></li><li><span><a href=\"#NuSVC\" data-toc-modified-id=\"NuSVC-4.10\"><span class=\"toc-item-num\">4.10&nbsp;&nbsp;</span>NuSVC</a></span><ul class=\"toc-item\"><li><span><a href=\"#GridSearch-NuSVC\" data-toc-modified-id=\"GridSearch-NuSVC-4.10.1\"><span class=\"toc-item-num\">4.10.1&nbsp;&nbsp;</span>GridSearch NuSVC</a></span></li></ul></li><li><span><a href=\"#Deep-Learning/Neural-Network\" data-toc-modified-id=\"Deep-Learning/Neural-Network-4.11\"><span class=\"toc-item-num\">4.11&nbsp;&nbsp;</span>Deep Learning/Neural Network</a></span></li></ul></li><li><span><a href=\"#Saving-Functions-just-in-case-changes-need-made\" data-toc-modified-id=\"Saving-Functions-just-in-case-changes-need-made-5\"><span class=\"toc-item-num\">5&nbsp;&nbsp;</span>Saving Functions just in case changes need made</a></span></li></ul></div>"
   ]
  },
  {
   "cell_type": "code",
   "execution_count": 3,
   "metadata": {
    "ExecuteTime": {
     "end_time": "2023-03-31T20:07:02.868461Z",
     "start_time": "2023-03-31T20:07:02.850789Z"
    }
   },
   "outputs": [],
   "source": [
    "# Basic imports\n",
    "import pandas as pd\n",
    "import matplotlib.pyplot as plt\n",
    "import seaborn as sns\n",
    "import numpy as np\n",
    "sns.set_theme()\n",
    "%matplotlib inline\n",
    "\n",
    "# Modeling imports\n",
    "from sklearn.preprocessing import OneHotEncoder, StandardScaler\n",
    "from sklearn.pipeline import Pipeline\n",
    "from sklearn.compose import ColumnTransformer,  make_column_selector as selector\n",
    "from sklearn.dummy import DummyClassifier\n",
    "from sklearn.model_selection import train_test_split, cross_validate, learning_curve\n",
    "from sklearn.linear_model import LogisticRegression\n",
    "from sklearn.metrics import classification_report, ConfusionMatrixDisplay, \\\n",
    "                            accuracy_score, roc_auc_score, precision_score, \\\n",
    "                            recall_score, f1_score\n",
    "\n",
    "from sklearn.svm import SVC, NuSVC, LinearSVC\n",
    "from sklearn.ensemble import RandomForestClassifier\n",
    "\n",
    "from xgboost import XGBClassifier, XGBRFClassifier\n",
    "\n",
    "# Import warning blocker for convergence warning\n",
    "# from warnings import simplefilter\n",
    "# from sklearn.exceptions import ConvergenceWarning\n",
    "# simplefilter(\"ignore\", category=ConvergenceWarning)\n",
    "\n",
    "# import custom scoring function\n",
    "from functions_keras import score_model, cv_score"
   ]
  },
  {
   "cell_type": "markdown",
   "metadata": {},
   "source": [
    "Data Source: https://www.kaggle.com/datasets/ahsan81/hotel-reservations-classification-dataset?resource=download"
   ]
  },
  {
   "cell_type": "markdown",
   "metadata": {},
   "source": [
    "Things to do: \n",
    "\n",
    "**Short-term**\n",
    "- Do some plotting in EDA to make it prettier\n",
    "- Format the EDA portion to make it prettier\n",
    "- Check business understanding to ensure modeling needs are being met\n",
    "- Find hotel data date range and add to intro\n",
    "\n",
    "**Long-term**\n",
    "- ~~Put Function in a functions doc to make it prettier~~\n",
    "- Put it into production with Streamlit\n",
    "\n",
    "\n",
    "\n",
    "**Next**\n",
    "- ~~GO THROUGH DICTIONARY AND REMOVE CATEGORIES THAT ARE TOO BIG~~\n",
    "    - ~~THEN PLOT THEM~~\n",
    "- Find a way to plot remaining cols (group together in categories?)\n",
    "- ~~maybe engineer a feature `tot_num_days` for total days of stay?~~\n",
    "- ~~Standard Scaler~~\n",
    "\n",
    "- try Bayes Gridsearch\n",
    "\n",
    "- It would be cool if we had a column for when the cancellation was in relation to either booking date or stay date. Are these last minute cancellations or are they being done far in advance?"
   ]
  },
  {
   "cell_type": "markdown",
   "metadata": {},
   "source": [
    "![hotel_intro](./Images/Hotel_intro.jpg)"
   ]
  },
  {
   "cell_type": "markdown",
   "metadata": {},
   "source": [
    "# Business Understanding"
   ]
  },
  {
   "cell_type": "markdown",
   "metadata": {},
   "source": [
    "Hotels are often plagued with last minutes cancellations as people's plans change, schedules conflict, or if a better price was found elsewhere. Research from Avvio.com [shows](https://www.avvio.com/2022-cancellation-rate-trends/) that revenue lost due to  hotel room cancellations increased 33% from 2019 to 2022.\n",
    "\n",
    "The goal of this analysis is to use past information about a particular guest (i.e. have they cancelled in the past?), along with information about their stay and requests (i.e. room type, length of stay), to predict whether the guest is likely to cancel their reservation or not show up at all. \n",
    "\n",
    "Being able to predict whether a guest is likely to cancel would be a huge benefit to the hotel. Having an idea of potential cancellations would allow management to better plan for staffing, food budgets, and other commodities that depend on guest levels. \n",
    "\n",
    "Precision is important in this analysis as we want to minimize the number of false positives (when the model predicts that a guest will cancel but the guest does not actually cancel) to ensure a high level of customer service for guests. "
   ]
  },
  {
   "cell_type": "markdown",
   "metadata": {},
   "source": [
    "# The Data"
   ]
  },
  {
   "cell_type": "markdown",
   "metadata": {},
   "source": [
    "Importing the data and running preliminary descriptive analysis shows that there are 36,275 data entries. There are no null values in the dataset. There are a total of 19 columns including a unique identifier column `Booking_ID` and the target column `booking_status`.\n",
    "\n",
    "The dataset features are primarily numerical with three object columns: `type_of_meal_plan`, `room_type_reserved`, `market_segment_type`.\n",
    "\n",
    "\n",
    "Notable missing features:\n",
    "- Hotel rating/stars\n",
    "- Hotel Location\n",
    "- Size of hotel/number of rooms the hotel has\n",
    "\n",
    "\n",
    "\n",
    "The average hotel stay is for two adult guests with no children for a long weekend (1 week night and 2 weekend nights) booked about 3 months in advance. The average hotel room price is about $103."
   ]
  },
  {
   "cell_type": "code",
   "execution_count": null,
   "metadata": {
    "ExecuteTime": {
     "end_time": "2023-03-31T19:59:53.383619Z",
     "start_time": "2023-03-31T19:59:53.383619Z"
    }
   },
   "outputs": [],
   "source": [
    "df = pd.read_csv('./Data/Hotel Reservations.csv')"
   ]
  },
  {
   "cell_type": "code",
   "execution_count": null,
   "metadata": {
    "ExecuteTime": {
     "end_time": "2023-03-31T19:59:53.385123Z",
     "start_time": "2023-03-31T19:59:53.385123Z"
    }
   },
   "outputs": [],
   "source": [
    "df.head(3)"
   ]
  },
  {
   "cell_type": "code",
   "execution_count": null,
   "metadata": {
    "ExecuteTime": {
     "end_time": "2023-03-31T19:59:53.386128Z",
     "start_time": "2023-03-31T19:59:53.386128Z"
    }
   },
   "outputs": [],
   "source": [
    "df.describe()"
   ]
  },
  {
   "cell_type": "code",
   "execution_count": null,
   "metadata": {
    "ExecuteTime": {
     "end_time": "2023-03-31T19:59:53.386128Z",
     "start_time": "2023-03-31T19:59:53.386128Z"
    }
   },
   "outputs": [],
   "source": [
    "df.info()"
   ]
  },
  {
   "cell_type": "markdown",
   "metadata": {},
   "source": [
    "### Adding new feature `total_stay`"
   ]
  },
  {
   "cell_type": "code",
   "execution_count": null,
   "metadata": {
    "ExecuteTime": {
     "end_time": "2023-03-31T19:59:53.387127Z",
     "start_time": "2023-03-31T19:59:53.387127Z"
    }
   },
   "outputs": [],
   "source": [
    "df['total_stay'] = df['no_of_week_nights'] + df['no_of_weekend_nights']"
   ]
  },
  {
   "cell_type": "code",
   "execution_count": null,
   "metadata": {
    "ExecuteTime": {
     "end_time": "2023-03-31T19:59:53.387127Z",
     "start_time": "2023-03-31T19:59:53.387127Z"
    }
   },
   "outputs": [],
   "source": [
    "df.head()"
   ]
  },
  {
   "cell_type": "markdown",
   "metadata": {},
   "source": [
    "## Changing dtype for use later on with scaling. "
   ]
  },
  {
   "cell_type": "markdown",
   "metadata": {},
   "source": [
    "I only want to scale continuous features and will convert them to float type to select just those features later on."
   ]
  },
  {
   "cell_type": "code",
   "execution_count": null,
   "metadata": {
    "ExecuteTime": {
     "end_time": "2023-03-31T19:59:53.388128Z",
     "start_time": "2023-03-31T19:59:53.388128Z"
    }
   },
   "outputs": [],
   "source": [
    "cols_to_float = ['no_of_weekend_nights', 'no_of_week_nights', 'lead_time', \n",
    "                 'no_of_previous_cancellations', 'no_of_previous_bookings_not_canceled',\n",
    "                 'avg_price_per_room', 'no_of_special_requests', 'total_stay']"
   ]
  },
  {
   "cell_type": "code",
   "execution_count": null,
   "metadata": {
    "ExecuteTime": {
     "end_time": "2023-03-31T19:59:53.389127Z",
     "start_time": "2023-03-31T19:59:53.389127Z"
    }
   },
   "outputs": [],
   "source": [
    "for col in cols_to_float:\n",
    "    df[col] = df[col].astype(float)"
   ]
  },
  {
   "cell_type": "code",
   "execution_count": null,
   "metadata": {
    "ExecuteTime": {
     "end_time": "2023-03-31T19:59:53.389127Z",
     "start_time": "2023-03-31T19:59:53.389127Z"
    }
   },
   "outputs": [],
   "source": [
    "df.info()"
   ]
  },
  {
   "cell_type": "markdown",
   "metadata": {},
   "source": [
    "## Data Visualizations"
   ]
  },
  {
   "cell_type": "code",
   "execution_count": null,
   "metadata": {
    "ExecuteTime": {
     "end_time": "2023-03-31T19:59:53.390127Z",
     "start_time": "2023-03-31T19:59:53.390127Z"
    }
   },
   "outputs": [],
   "source": [
    "plot_df_cols = [col for col in df.columns if col not in ['Booking_ID', 'booking_status']]"
   ]
  },
  {
   "cell_type": "code",
   "execution_count": null,
   "metadata": {
    "ExecuteTime": {
     "end_time": "2023-03-31T19:59:53.390127Z",
     "start_time": "2023-03-31T19:59:53.390127Z"
    }
   },
   "outputs": [],
   "source": [
    "# setting up an empty dictionary to store data\n",
    "plot_df_dict = {}\n",
    "\n",
    "# creating a dictionary with dataframes of each col and booking status\n",
    "for i, col in enumerate(plot_df_cols):\n",
    "    # creating temp df for each column and the percent of cancel/non-cancel\n",
    "    temp_df = df[[col, 'booking_status']].value_counts(normalize=True).unstack()\n",
    "    # getting rid of column name\n",
    "    temp_df.columns.name = None\n",
    "    # setting any frames with nan to zero\n",
    "    temp_df.fillna(0, inplace=True)\n",
    "    # adding the new df to the dictionary with the column name\n",
    "    plot_df_dict[col] = temp_df"
   ]
  },
  {
   "cell_type": "code",
   "execution_count": null,
   "metadata": {
    "ExecuteTime": {
     "end_time": "2023-03-31T19:59:53.391127Z",
     "start_time": "2023-03-31T19:59:53.391127Z"
    }
   },
   "outputs": [],
   "source": [
    "# Removing any dataframes with more than 12 rows to better visualize\n",
    "new_plot_df_dict = {}\n",
    "for k, v in plot_df_dict.items():\n",
    "    if len(v)<=12:\n",
    "        new_plot_df_dict[k] = v"
   ]
  },
  {
   "cell_type": "markdown",
   "metadata": {},
   "source": [
    "### Plotting the Ratio of Cancellations to total bookings for each feature "
   ]
  },
  {
   "cell_type": "markdown",
   "metadata": {},
   "source": [
    "**Each feature plotted here has 12 or less categories. Any features with more categories or continuous data are plotted later on.**"
   ]
  },
  {
   "cell_type": "markdown",
   "metadata": {},
   "source": [
    "Things of note:\n",
    "\n",
    "- `no_of_adults`: Singe adults and groups of 4 have the lowest cancellation rates\n",
    "- `no_of_children`: Doesnt appear to have much variation between the groups. While 10 children doesnt have any cancellations, there are very rarely groups with 10 children\n",
    "- `no_of_weekend_nights`: We can see that 0 and 1 weekend (two weekend nights) have the lowest cancellation rates, as more weekend nights are added, the cancellation rate increases \n",
    "- `type_of_meal_plan`: Meal plan 2 is the outlier here with almost half of all guests who selected that plan having cancelled their reservation. Without know more about the meal plan, its tough to say how to interpret it: could it be family style meals, vegetarian meals, or something else?\n",
    "- `required_car_parking_space`: Those who request a car space are only likely to cancel at a rate of about 10% while those who do not require a parking space are likely to cancel about a third of the time.\n",
    "- `room_type_reserved`: Similar to meal plan, its difficult to infer too much out of the data without knowing more about the rooms. We can see that those who book room type 6 have the highest cancellation rate (above 40%) while those booking room 7 have the lowest cancellation rate (about 23%). Is this confirming data that we already have (family rooms vs rooms for an individual) or giving us more information?\n",
    "- `arrival_year`: confirms the statistic that cancellation rates are on the rise. Only about 15% of guests in the dataset cancelled their reservation in 2017 while about 35% cancelled in 2018.\n",
    "- `arrival_month`: We can see that winter months have the lowest cancellations and summer months have the highest. This makes sense as people tend to travel in winter months more often because of holidays and would be more likely to stick with their reservations. Summer travel could be largely based on vacations rather than holidays and thus more flexible and likely for cancellation.\n",
    "- `market_segment_type`: This largely makes sense, those with complementary stays are highly unlikely to cancel. Online booking is the easiest method to book and cancel a reservation and has the highest number of cancellations. The corporate segment is also one to note, those booking business trips are much less likely to cancel than any other paid booking.\n",
    "- `repeated_guests`: Guests who have stayed with the hotel before are far less likely to cancel their reservation (only about 2%) while about a third of first time guests cancel their reservations. \n",
    "- `no_of_previous_cancellations`: This one is a little surprising, despite the outlier of 13 previous cancellations, guests who have cancelled in the past are actually less likely to cancel than guests who have not previously cancelled. It could be that the guest still needed to make the trip but needed to cancel and reschedule for a different date.\n",
    "- `no_of_special_requests`: This clearly shows how cancellations are reduced with the more special requests a guest makes. About 43% of guests without special requests end up cancelling their reservation. Making the requests could confirm intent that the guest truly intends to stay and they had the foresight to make requests ahead of time."
   ]
  },
  {
   "cell_type": "code",
   "execution_count": null,
   "metadata": {
    "ExecuteTime": {
     "end_time": "2023-03-31T19:59:53.392128Z",
     "start_time": "2023-03-31T19:59:53.392128Z"
    }
   },
   "outputs": [],
   "source": [
    "# setting up a chart to plot all of the data\n",
    "fig, ax = plt.subplots(nrows=6, ncols=2, figsize=(10,22))\n",
    "\n",
    "# plotting the ratio of cancellations to total bookings in each category\n",
    "for i, (key, value) in enumerate(new_plot_df_dict.items()):\n",
    "    row=i//2\n",
    "    col= i%2\n",
    "    temp_ax = ax[row, col]\n",
    "    temp_ax.set_title(key)\n",
    "    \n",
    "    plot_df = (value['Canceled']/(value['Canceled'] +value['Not_Canceled']))\n",
    "    \n",
    "    plot_df.plot(kind='bar', ax=temp_ax, rot=30)\n",
    "    fig.suptitle('Cancellation Rates', size='40', y=1.0)\n",
    "    fig.tight_layout()"
   ]
  },
  {
   "cell_type": "markdown",
   "metadata": {},
   "source": [
    "### Plotting the Ratio of Cancellations to total bookings for each feature with len > 12"
   ]
  },
  {
   "cell_type": "code",
   "execution_count": null,
   "metadata": {
    "ExecuteTime": {
     "end_time": "2023-03-31T19:59:53.392128Z",
     "start_time": "2023-03-31T19:59:53.392128Z"
    }
   },
   "outputs": [],
   "source": [
    "long_plot_dict = {}\n",
    "for key, value in plot_df_dict.items():\n",
    "    if len(value) > 12:\n",
    "        long_plot_dict[key] = value"
   ]
  },
  {
   "cell_type": "code",
   "execution_count": null,
   "metadata": {
    "ExecuteTime": {
     "end_time": "2023-03-31T19:59:53.393127Z",
     "start_time": "2023-03-31T19:59:53.393127Z"
    }
   },
   "outputs": [],
   "source": [
    "# list(long_plot_dict.keys())"
   ]
  },
  {
   "cell_type": "markdown",
   "metadata": {},
   "source": [
    "## No. of Weeknights"
   ]
  },
  {
   "cell_type": "code",
   "execution_count": null,
   "metadata": {
    "ExecuteTime": {
     "end_time": "2023-03-31T19:59:53.393127Z",
     "start_time": "2023-03-31T19:59:53.393127Z"
    }
   },
   "outputs": [],
   "source": [
    "week_nights_df = long_plot_dict['no_of_week_nights']"
   ]
  },
  {
   "cell_type": "markdown",
   "metadata": {},
   "source": [
    "### Weeknights proportional"
   ]
  },
  {
   "cell_type": "code",
   "execution_count": null,
   "metadata": {
    "ExecuteTime": {
     "end_time": "2023-03-31T19:59:53.394126Z",
     "start_time": "2023-03-31T19:59:53.394126Z"
    }
   },
   "outputs": [],
   "source": [
    "prop_week_nights_df = (week_nights_df['Canceled']/\n",
    "                           (week_nights_df['Canceled'] \n",
    "                            +week_nights_df['Not_Canceled']))"
   ]
  },
  {
   "cell_type": "code",
   "execution_count": null,
   "metadata": {
    "ExecuteTime": {
     "end_time": "2023-03-31T19:59:53.394126Z",
     "start_time": "2023-03-31T19:59:53.394126Z"
    }
   },
   "outputs": [],
   "source": [
    "fig, ax = plt.subplots(figsize=(15,15))\n",
    "prop_week_nights_df.plot(ax=ax)\n",
    "ax.set_title('Cancelation rate for # weeknights')\n",
    "ax.set_ylabel('Cancellation Rate');"
   ]
  },
  {
   "cell_type": "markdown",
   "metadata": {},
   "source": [
    "## Booking Lead Time"
   ]
  },
  {
   "cell_type": "markdown",
   "metadata": {},
   "source": [
    "Looking at lead time between booking and staying:"
   ]
  },
  {
   "cell_type": "code",
   "execution_count": null,
   "metadata": {
    "ExecuteTime": {
     "end_time": "2023-03-31T19:59:53.395128Z",
     "start_time": "2023-03-31T19:59:53.395128Z"
    }
   },
   "outputs": [],
   "source": [
    "lead_time_df = long_plot_dict['lead_time'].T"
   ]
  },
  {
   "cell_type": "code",
   "execution_count": null,
   "metadata": {
    "ExecuteTime": {
     "end_time": "2023-03-31T19:59:53.396176Z",
     "start_time": "2023-03-31T19:59:53.396176Z"
    }
   },
   "outputs": [],
   "source": [
    "fig, ax = plt.subplots(figsize=(15,15))\n",
    "# slicing the dataframe to remove outliers\n",
    "lead_time_df.T.iloc[:-20].plot(ax=ax)\n",
    "ax.set_title('booking lead time')\n",
    "ax.set_ylabel('Percentage');\n",
    "\n",
    "# lead_time_df.T.iloc[:-20].plot(figsize=(15,15));"
   ]
  },
  {
   "cell_type": "markdown",
   "metadata": {},
   "source": [
    "Anything Booked over about 150 days has a higher likelylihood of being canceled than being not canceled. The hotel might look into limiting how far in advance reservations can be made. \n",
    "\n",
    "This makes sense as the further from the date of the stay a room was booked, the more time there is for plans to change."
   ]
  },
  {
   "cell_type": "markdown",
   "metadata": {},
   "source": [
    "#### Probably delete this, buckets don't tell as good of a story"
   ]
  },
  {
   "cell_type": "code",
   "execution_count": null,
   "metadata": {
    "ExecuteTime": {
     "end_time": "2023-03-31T19:59:53.396176Z",
     "start_time": "2023-03-31T19:59:53.396176Z"
    }
   },
   "outputs": [],
   "source": [
    "# clean_lead_df = pd.DataFrame()\n",
    "# clean_lead_df['0-3 Months'] = lead_time_df.iloc[:, :91].sum(axis=1)\n",
    "# clean_lead_df['4-6 Months'] = lead_time_df.iloc[:, 91:181].sum(axis=1)\n",
    "# clean_lead_df['7-9 Months'] = lead_time_df.iloc[:, 181:271].sum(axis=1)\n",
    "# clean_lead_df['10 Months+'] = lead_time_df.iloc[:, 271:].sum(axis=1)"
   ]
  },
  {
   "cell_type": "code",
   "execution_count": null,
   "metadata": {
    "ExecuteTime": {
     "end_time": "2023-03-31T19:59:53.397176Z",
     "start_time": "2023-03-31T19:59:53.397176Z"
    }
   },
   "outputs": [],
   "source": [
    "# clean_lead_df = clean_lead_df.T\n",
    "# clean_lead_df.plot(kind='bar', rot=30);"
   ]
  },
  {
   "cell_type": "markdown",
   "metadata": {},
   "source": [
    "### Lead time proportional"
   ]
  },
  {
   "cell_type": "code",
   "execution_count": null,
   "metadata": {
    "ExecuteTime": {
     "end_time": "2023-03-31T19:59:53.397176Z",
     "start_time": "2023-03-31T19:59:53.397176Z"
    }
   },
   "outputs": [],
   "source": [
    "prop_lead = (lead_time_df.T['Canceled']/\n",
    "                           (lead_time_df.T['Canceled'] \n",
    "                            +lead_time_df.T['Not_Canceled']))"
   ]
  },
  {
   "cell_type": "markdown",
   "metadata": {},
   "source": [
    "#### Adding a simple moving average for 10 periods"
   ]
  },
  {
   "cell_type": "code",
   "execution_count": null,
   "metadata": {
    "ExecuteTime": {
     "end_time": "2023-03-31T19:59:53.398177Z",
     "start_time": "2023-03-31T19:59:53.398177Z"
    }
   },
   "outputs": [],
   "source": [
    "prop_lead = pd.DataFrame(prop_lead).rename(columns={0:'lead_time'})\n",
    "prop_lead.index.name = None"
   ]
  },
  {
   "cell_type": "code",
   "execution_count": null,
   "metadata": {
    "ExecuteTime": {
     "end_time": "2023-03-31T19:59:53.398177Z",
     "start_time": "2023-03-31T19:59:53.398177Z"
    }
   },
   "outputs": [],
   "source": [
    "prop_lead['SMA10'] = prop_lead['lead_time'].rolling(10).mean()"
   ]
  },
  {
   "cell_type": "code",
   "execution_count": null,
   "metadata": {
    "ExecuteTime": {
     "end_time": "2023-03-31T19:59:53.399177Z",
     "start_time": "2023-03-31T19:59:53.399177Z"
    }
   },
   "outputs": [],
   "source": [
    "prop_lead"
   ]
  },
  {
   "cell_type": "code",
   "execution_count": null,
   "metadata": {
    "ExecuteTime": {
     "end_time": "2023-03-31T19:59:53.400176Z",
     "start_time": "2023-03-31T19:59:53.400176Z"
    }
   },
   "outputs": [],
   "source": [
    "fig, ax = plt.subplots(figsize=(15,15))\n",
    "# prop_lead['lead_time'].plot(ax=ax)\n",
    "prop_lead['SMA10'].plot(ax=ax, linewidth=4, style='-', label='10-Day Avg'),\n",
    "ax.axvline(150, c='black',  linestyle='-.')\n",
    "ax.axhline(y=prop_lead['SMA10'].iloc[:151].mean(), \n",
    "           xmax=(150/prop_lead.index.max()),\n",
    "          label=f'<150 Mean: {round(prop_lead[\"SMA10\"].iloc[:151].mean(), 2)}',\n",
    "          color='green',\n",
    "          linestyle='--')\n",
    "ax.axhline(y=prop_lead['SMA10'].iloc[151:].mean(), \n",
    "           xmin=(150/prop_lead.index.max()),\n",
    "          label=f'>150 Mean: {round(prop_lead[\"SMA10\"].iloc[151:].mean(), 2)}',\n",
    "          color='red',\n",
    "          linestyle='--')\n",
    "ax.set_title('Cancelation rate for booking lead time')\n",
    "ax.set_ylabel('Cancellation Rate')\n",
    "ax.set_xlabel('Days Booked Ahead of Stay')\n",
    "ax.legend();\n",
    "\n"
   ]
  },
  {
   "cell_type": "markdown",
   "metadata": {},
   "source": [
    "## Arrival Date"
   ]
  },
  {
   "cell_type": "markdown",
   "metadata": {},
   "source": [
    "\n",
    "This is unlikely to have much of an effect on the data as a stand alone but is likely to be worth keeping when crossed with month and other columns."
   ]
  },
  {
   "cell_type": "code",
   "execution_count": null,
   "metadata": {
    "ExecuteTime": {
     "end_time": "2023-03-31T19:59:53.400176Z",
     "start_time": "2023-03-31T19:59:53.400176Z"
    }
   },
   "outputs": [],
   "source": [
    "long_plot_dict['arrival_date'].plot();"
   ]
  },
  {
   "cell_type": "code",
   "execution_count": null,
   "metadata": {
    "ExecuteTime": {
     "end_time": "2023-03-31T19:59:53.401177Z",
     "start_time": "2023-03-31T19:59:53.401177Z"
    }
   },
   "outputs": [],
   "source": [
    "arrival_day_df = long_plot_dict['arrival_date']"
   ]
  },
  {
   "cell_type": "code",
   "execution_count": null,
   "metadata": {
    "ExecuteTime": {
     "end_time": "2023-03-31T19:59:53.402177Z",
     "start_time": "2023-03-31T19:59:53.402177Z"
    }
   },
   "outputs": [],
   "source": [
    "arrival_day_df = (arrival_day_df['Canceled']/\n",
    "                           (arrival_day_df['Canceled'] \n",
    "                            +arrival_day_df['Not_Canceled']))"
   ]
  },
  {
   "cell_type": "code",
   "execution_count": null,
   "metadata": {
    "ExecuteTime": {
     "end_time": "2023-03-31T19:59:53.402177Z",
     "start_time": "2023-03-31T19:59:53.402177Z"
    }
   },
   "outputs": [],
   "source": [
    "arrival_day_df.plot();"
   ]
  },
  {
   "cell_type": "markdown",
   "metadata": {},
   "source": [
    "## no_of_previous_bookings_not_canceled"
   ]
  },
  {
   "cell_type": "markdown",
   "metadata": {},
   "source": [
    "## avg_price_per_room"
   ]
  },
  {
   "cell_type": "code",
   "execution_count": null,
   "metadata": {
    "ExecuteTime": {
     "end_time": "2023-03-31T19:59:53.403176Z",
     "start_time": "2023-03-31T19:59:53.403176Z"
    }
   },
   "outputs": [],
   "source": [
    "price_df = long_plot_dict['avg_price_per_room']"
   ]
  },
  {
   "cell_type": "code",
   "execution_count": null,
   "metadata": {
    "ExecuteTime": {
     "end_time": "2023-03-31T19:59:53.404176Z",
     "start_time": "2023-03-31T19:59:53.404176Z"
    }
   },
   "outputs": [],
   "source": [
    "price_df.plot();"
   ]
  },
  {
   "cell_type": "code",
   "execution_count": null,
   "metadata": {
    "ExecuteTime": {
     "end_time": "2023-03-31T19:59:53.404176Z",
     "start_time": "2023-03-31T19:59:53.404176Z"
    }
   },
   "outputs": [],
   "source": [
    "price_df.reset_index()[:-10].set_index('avg_price_per_room').plot();"
   ]
  },
  {
   "cell_type": "markdown",
   "metadata": {},
   "source": [
    "### Binning to see if it clears things up"
   ]
  },
  {
   "cell_type": "code",
   "execution_count": null,
   "metadata": {
    "ExecuteTime": {
     "end_time": "2023-03-31T19:59:53.405177Z",
     "start_time": "2023-03-31T19:59:53.405177Z"
    }
   },
   "outputs": [],
   "source": [
    "bin_price_df = price_df.T"
   ]
  },
  {
   "cell_type": "code",
   "execution_count": null,
   "metadata": {
    "ExecuteTime": {
     "end_time": "2023-03-31T19:59:53.405177Z",
     "start_time": "2023-03-31T19:59:53.405177Z"
    }
   },
   "outputs": [],
   "source": [
    "bin_price_df.loc[:, 200:]"
   ]
  },
  {
   "cell_type": "code",
   "execution_count": null,
   "metadata": {
    "ExecuteTime": {
     "end_time": "2023-03-31T19:59:53.406189Z",
     "start_time": "2023-03-31T19:59:53.406189Z"
    }
   },
   "outputs": [],
   "source": [
    "clean_price_df = pd.DataFrame()\n",
    "clean_price_df['\\$0-\\$50'] = bin_price_df.loc[:, :50].sum(axis=1)\n",
    "clean_price_df['\\$50-\\$100'] = bin_price_df.loc[:, 50:100].sum(axis=1)\n",
    "clean_price_df['\\$100-\\$150'] = bin_price_df.loc[:, 100:150].sum(axis=1)\n",
    "clean_price_df['\\$150-\\$200'] = bin_price_df.loc[:, 150:200].sum(axis=1)\n",
    "clean_price_df['\\$200+'] = bin_price_df.loc[:, 200:].sum(axis=1)"
   ]
  },
  {
   "cell_type": "code",
   "execution_count": null,
   "metadata": {
    "ExecuteTime": {
     "end_time": "2023-03-31T19:59:53.407190Z",
     "start_time": "2023-03-31T19:59:53.407190Z"
    }
   },
   "outputs": [],
   "source": [
    "clean_price_df"
   ]
  },
  {
   "cell_type": "code",
   "execution_count": null,
   "metadata": {
    "ExecuteTime": {
     "end_time": "2023-03-31T19:59:53.407190Z",
     "start_time": "2023-03-31T19:59:53.407190Z"
    }
   },
   "outputs": [],
   "source": [
    "clean_price_df.T.plot(kind='bar', rot=30);"
   ]
  },
  {
   "cell_type": "markdown",
   "metadata": {},
   "source": [
    "### Proportional"
   ]
  },
  {
   "cell_type": "markdown",
   "metadata": {},
   "source": [
    "**Proportional without binning**"
   ]
  },
  {
   "cell_type": "code",
   "execution_count": null,
   "metadata": {
    "ExecuteTime": {
     "end_time": "2023-03-31T19:59:53.408190Z",
     "start_time": "2023-03-31T19:59:53.408190Z"
    }
   },
   "outputs": [],
   "source": [
    "prop_price_df = (price_df['Canceled']/\n",
    "                           (price_df['Canceled'] \n",
    "                            +price_df['Not_Canceled']))"
   ]
  },
  {
   "cell_type": "code",
   "execution_count": null,
   "metadata": {
    "ExecuteTime": {
     "end_time": "2023-03-31T19:59:53.409189Z",
     "start_time": "2023-03-31T19:59:53.409189Z"
    }
   },
   "outputs": [],
   "source": [
    "prop_price_df.plot();"
   ]
  },
  {
   "cell_type": "markdown",
   "metadata": {},
   "source": [
    "**Proportional with binning**"
   ]
  },
  {
   "cell_type": "code",
   "execution_count": null,
   "metadata": {
    "ExecuteTime": {
     "end_time": "2023-03-31T19:59:53.409189Z",
     "start_time": "2023-03-31T19:59:53.409189Z"
    }
   },
   "outputs": [],
   "source": [
    "clean_price_df_t = clean_price_df.T.copy()"
   ]
  },
  {
   "cell_type": "code",
   "execution_count": null,
   "metadata": {
    "ExecuteTime": {
     "end_time": "2023-03-31T19:59:53.410189Z",
     "start_time": "2023-03-31T19:59:53.410189Z"
    }
   },
   "outputs": [],
   "source": [
    "prop_clean_price_df = (clean_price_df_t['Canceled']/\n",
    "                           (clean_price_df_t['Canceled'] \n",
    "                            +clean_price_df_t['Not_Canceled']))"
   ]
  },
  {
   "cell_type": "code",
   "execution_count": null,
   "metadata": {
    "ExecuteTime": {
     "end_time": "2023-03-31T19:59:53.410189Z",
     "start_time": "2023-03-31T19:59:53.410189Z"
    }
   },
   "outputs": [],
   "source": [
    "fig, ax = plt.subplots(figsize=(10,10))\n",
    "prop_clean_price_df.plot(kind='bar', rot=30, ax=ax)\n",
    "\n",
    "ax.set_title('Hotel Cancellation Rate by Price')\n",
    "ax.set_xlabel('Avg Room Price')\n",
    "ax.set_ylabel('Cancellation Rate');"
   ]
  },
  {
   "cell_type": "markdown",
   "metadata": {},
   "source": [
    "This plot shows that as hotel room prices increase, the likelihood of cancellation increases as well. Maximum cancellations occurred in the highest bucket of room price with prices ranging from \\\\$100-\\$150 coming in at a close second."
   ]
  },
  {
   "cell_type": "markdown",
   "metadata": {},
   "source": [
    "## Value Counts of string cols"
   ]
  },
  {
   "cell_type": "code",
   "execution_count": null,
   "metadata": {
    "ExecuteTime": {
     "end_time": "2023-03-31T19:59:53.411190Z",
     "start_time": "2023-03-31T19:59:53.411190Z"
    }
   },
   "outputs": [],
   "source": [
    "# df['type_of_meal_plan'].value_counts()"
   ]
  },
  {
   "cell_type": "code",
   "execution_count": null,
   "metadata": {
    "ExecuteTime": {
     "end_time": "2023-03-31T19:59:53.412189Z",
     "start_time": "2023-03-31T19:59:53.412189Z"
    }
   },
   "outputs": [],
   "source": [
    "# df['room_type_reserved'].value_counts()"
   ]
  },
  {
   "cell_type": "code",
   "execution_count": null,
   "metadata": {
    "ExecuteTime": {
     "end_time": "2023-03-31T19:59:53.412189Z",
     "start_time": "2023-03-31T19:59:53.412189Z"
    }
   },
   "outputs": [],
   "source": [
    "# df['market_segment_type'].value_counts()"
   ]
  },
  {
   "cell_type": "markdown",
   "metadata": {},
   "source": [
    "### Let's take a look at a breakdown of the target var."
   ]
  },
  {
   "cell_type": "code",
   "execution_count": null,
   "metadata": {
    "ExecuteTime": {
     "end_time": "2023-03-31T19:59:53.413189Z",
     "start_time": "2023-03-31T19:59:53.413189Z"
    }
   },
   "outputs": [],
   "source": [
    "df['booking_status'].value_counts()"
   ]
  },
  {
   "cell_type": "markdown",
   "metadata": {},
   "source": [
    "Lets recode these to numerical values.\n",
    "\n",
    "- 0 for not_canceled\n",
    "- 1 for canceled"
   ]
  },
  {
   "cell_type": "code",
   "execution_count": null,
   "metadata": {
    "ExecuteTime": {
     "end_time": "2023-03-31T19:59:53.414189Z",
     "start_time": "2023-03-31T19:59:53.414189Z"
    }
   },
   "outputs": [],
   "source": [
    "df['booking_status'] = df['booking_status'].map({'Not_Canceled':0, 'Canceled':1})"
   ]
  },
  {
   "cell_type": "code",
   "execution_count": null,
   "metadata": {
    "ExecuteTime": {
     "end_time": "2023-03-31T19:59:53.414189Z",
     "start_time": "2023-03-31T19:59:53.414189Z"
    }
   },
   "outputs": [],
   "source": [
    "df"
   ]
  },
  {
   "cell_type": "markdown",
   "metadata": {},
   "source": [
    "# Setting up a pipeline"
   ]
  },
  {
   "cell_type": "code",
   "execution_count": null,
   "metadata": {
    "ExecuteTime": {
     "end_time": "2023-03-31T19:59:53.415190Z",
     "start_time": "2023-03-31T19:59:53.415190Z"
    }
   },
   "outputs": [],
   "source": [
    "float_pipe = Pipeline([\n",
    "    ('ss', StandardScaler())\n",
    "])"
   ]
  },
  {
   "cell_type": "code",
   "execution_count": null,
   "metadata": {
    "ExecuteTime": {
     "end_time": "2023-03-31T19:59:53.415190Z",
     "start_time": "2023-03-31T19:59:53.415190Z"
    }
   },
   "outputs": [],
   "source": [
    "cat_pipe = Pipeline([\n",
    "    ('ohe', OneHotEncoder(drop='first', sparse=False))\n",
    "])"
   ]
  },
  {
   "cell_type": "code",
   "execution_count": null,
   "metadata": {
    "ExecuteTime": {
     "end_time": "2023-03-31T19:59:53.416340Z",
     "start_time": "2023-03-31T19:59:53.416340Z"
    }
   },
   "outputs": [],
   "source": [
    "ColTrans = ColumnTransformer(transformers=[\n",
    "    ('float_pip', float_pipe, selector(dtype_include=float)),\n",
    "    ('cat_pipe', cat_pipe, selector(dtype_include=object))\n",
    "], remainder='passthrough')"
   ]
  },
  {
   "cell_type": "markdown",
   "metadata": {},
   "source": [
    "# Try some basic models"
   ]
  },
  {
   "cell_type": "code",
   "execution_count": null,
   "metadata": {
    "ExecuteTime": {
     "end_time": "2023-03-31T19:59:53.416340Z",
     "start_time": "2023-03-31T19:59:53.416340Z"
    }
   },
   "outputs": [],
   "source": [
    "# Reseting plot theme so that confusion matrix looks normal\n",
    "sns.reset_orig()\n",
    "%matplotlib inline"
   ]
  },
  {
   "cell_type": "markdown",
   "metadata": {},
   "source": [
    "## First lets split the data"
   ]
  },
  {
   "cell_type": "code",
   "execution_count": null,
   "metadata": {
    "ExecuteTime": {
     "end_time": "2023-03-31T19:59:53.417339Z",
     "start_time": "2023-03-31T19:59:53.417339Z"
    }
   },
   "outputs": [],
   "source": [
    "df.info()"
   ]
  },
  {
   "cell_type": "code",
   "execution_count": null,
   "metadata": {
    "ExecuteTime": {
     "end_time": "2023-03-31T19:59:53.418339Z",
     "start_time": "2023-03-31T19:59:53.418339Z"
    }
   },
   "outputs": [],
   "source": [
    "X = df.drop(['Booking_ID', 'booking_status'], axis=1)\n",
    "y = df['booking_status']"
   ]
  },
  {
   "cell_type": "code",
   "execution_count": null,
   "metadata": {
    "ExecuteTime": {
     "end_time": "2023-03-31T19:59:53.418339Z",
     "start_time": "2023-03-31T19:59:53.418339Z"
    }
   },
   "outputs": [],
   "source": [
    "X_train, X_test, y_train, y_test = train_test_split(X, y, random_state=42)"
   ]
  },
  {
   "cell_type": "code",
   "execution_count": null,
   "metadata": {
    "ExecuteTime": {
     "end_time": "2023-03-31T19:59:53.419340Z",
     "start_time": "2023-03-31T19:59:53.419340Z"
    }
   },
   "outputs": [],
   "source": [
    "score_card = pd.DataFrame(columns=['Name', 'Accuracy', 'Precision', 'Recall', \n",
    "                                   'F1 Score', 'ROC/AUC Score'])\n",
    "\n",
    "cv_score_card = pd.DataFrame(columns=['Name', 'Train Accuracy', 'Test Accuracy',\n",
    "                                      'Train Precision', 'Test Precision',\n",
    "                                      'Train Recall', 'Test Recall',\n",
    "                                      'Train F1 Score', 'Test F1 Score',\n",
    "                                      'Train ROC/AUC Score', 'Test ROC/AUC Score'])"
   ]
  },
  {
   "cell_type": "markdown",
   "metadata": {},
   "source": [
    "## Dummy Model"
   ]
  },
  {
   "cell_type": "code",
   "execution_count": null,
   "metadata": {
    "ExecuteTime": {
     "end_time": "2023-03-31T19:59:53.420340Z",
     "start_time": "2023-03-31T19:59:53.420340Z"
    }
   },
   "outputs": [],
   "source": [
    "dummy_model = Pipeline([\n",
    "    ('ColTrans', ColTrans),\n",
    "    ('dummy', DummyClassifier(strategy='most_frequent', random_state=42))\n",
    "])"
   ]
  },
  {
   "cell_type": "code",
   "execution_count": null,
   "metadata": {
    "ExecuteTime": {
     "end_time": "2023-03-31T19:59:53.420340Z",
     "start_time": "2023-03-31T19:59:53.420340Z"
    }
   },
   "outputs": [],
   "source": [
    "dummy_model = DummyClassifier(strategy='most_frequent', random_state=42)"
   ]
  },
  {
   "cell_type": "code",
   "execution_count": null,
   "metadata": {
    "ExecuteTime": {
     "end_time": "2023-03-31T19:59:53.421339Z",
     "start_time": "2023-03-31T19:59:53.421339Z"
    }
   },
   "outputs": [],
   "source": [
    "score_card = score_model(dummy_model, \n",
    "                         'Dummy Model',\n",
    "                         score_card,\n",
    "                         X_train,\n",
    "                         X_test,\n",
    "                         y_train,\n",
    "                         y_test)"
   ]
  },
  {
   "cell_type": "code",
   "execution_count": null,
   "metadata": {
    "ExecuteTime": {
     "end_time": "2023-03-31T19:59:53.421339Z",
     "start_time": "2023-03-31T19:59:53.421339Z"
    }
   },
   "outputs": [],
   "source": [
    "score_card"
   ]
  },
  {
   "cell_type": "code",
   "execution_count": null,
   "metadata": {
    "ExecuteTime": {
     "end_time": "2023-03-31T19:59:53.422340Z",
     "start_time": "2023-03-31T19:59:53.422340Z"
    }
   },
   "outputs": [],
   "source": [
    "y_test.value_counts(normalize=True)"
   ]
  },
  {
   "cell_type": "markdown",
   "metadata": {},
   "source": [
    "OK, dummy model is predicting as expected. Let's try some other models."
   ]
  },
  {
   "cell_type": "markdown",
   "metadata": {},
   "source": [
    "## Logistic Regression"
   ]
  },
  {
   "cell_type": "code",
   "execution_count": null,
   "metadata": {
    "ExecuteTime": {
     "end_time": "2023-03-31T19:59:53.422340Z",
     "start_time": "2023-03-31T19:59:53.422340Z"
    }
   },
   "outputs": [],
   "source": [
    "log_reg = Pipeline([\n",
    "    ('ColTrans', ColTrans),\n",
    "    ('logreg', LogisticRegression(random_state=42))\n",
    "])"
   ]
  },
  {
   "cell_type": "code",
   "execution_count": null,
   "metadata": {
    "ExecuteTime": {
     "end_time": "2023-03-31T19:59:53.423339Z",
     "start_time": "2023-03-31T19:59:53.423339Z"
    },
    "scrolled": false
   },
   "outputs": [],
   "source": [
    "score_card = score_model(log_reg, \n",
    "                        'Logistic Regression',\n",
    "                        score_card,\n",
    "                        X_train,\n",
    "                        X_test,\n",
    "                        y_train,\n",
    "                        y_test)"
   ]
  },
  {
   "cell_type": "code",
   "execution_count": null,
   "metadata": {
    "ExecuteTime": {
     "end_time": "2023-03-31T19:59:53.423339Z",
     "start_time": "2023-03-31T19:59:53.423339Z"
    }
   },
   "outputs": [],
   "source": [
    "score_card"
   ]
  },
  {
   "cell_type": "code",
   "execution_count": null,
   "metadata": {
    "ExecuteTime": {
     "end_time": "2023-03-31T19:59:53.424340Z",
     "start_time": "2023-03-31T19:59:53.424340Z"
    }
   },
   "outputs": [],
   "source": [
    "cv_score_card = cv_score(log_reg,\n",
    "                        'Logistic Regression',\n",
    "                        cv_score_card,\n",
    "                        X_train,\n",
    "                        y_train)"
   ]
  },
  {
   "cell_type": "code",
   "execution_count": null,
   "metadata": {
    "ExecuteTime": {
     "end_time": "2023-03-31T19:59:53.424340Z",
     "start_time": "2023-03-31T19:59:53.424340Z"
    }
   },
   "outputs": [],
   "source": [
    "cv_score_card"
   ]
  },
  {
   "cell_type": "markdown",
   "metadata": {},
   "source": [
    "## Trying something new"
   ]
  },
  {
   "cell_type": "code",
   "execution_count": null,
   "metadata": {
    "ExecuteTime": {
     "end_time": "2023-03-31T19:59:53.425340Z",
     "start_time": "2023-03-31T19:59:53.425340Z"
    },
    "scrolled": false
   },
   "outputs": [],
   "source": [
    "# Define the parameters for the learning curve\n",
    "train_sizes, train_scores, test_scores = learning_curve(\n",
    "    log_reg, X, y, train_sizes=np.linspace(0.5, 1.0, 5),\n",
    "    scoring='accuracy', cv=5\n",
    ")\n",
    "\n",
    "# Compute the mean and standard deviation of the training and test scores\n",
    "train_scores_mean = np.mean(train_scores, axis=1)\n",
    "train_scores_std = np.std(train_scores, axis=1)\n",
    "test_scores_mean = np.mean(test_scores, axis=1)\n",
    "test_scores_std = np.std(test_scores, axis=1)\n",
    "\n",
    "# Plot the learning curve\n",
    "plt.figure(figsize=(8,6))\n",
    "plt.plot(train_sizes, train_scores_mean, label='Training score')\n",
    "plt.fill_between(train_sizes, train_scores_mean - train_scores_std,\n",
    "                 train_scores_mean + train_scores_std, alpha=0.1)\n",
    "plt.plot(train_sizes, test_scores_mean, label='Cross-validation score')\n",
    "plt.fill_between(train_sizes, test_scores_mean - test_scores_std,\n",
    "                 test_scores_mean + test_scores_std, alpha=0.1)\n",
    "plt.title('Learning curve')\n",
    "plt.xlabel('Training examples')\n",
    "plt.ylabel('Score')\n",
    "plt.legend(loc='best')\n",
    "plt.show()"
   ]
  },
  {
   "cell_type": "markdown",
   "metadata": {},
   "source": [
    "The resulting plot shows the training and cross-validation scores as a function of the number of training examples. The gap between the two curves indicates the degree of overfitting or underfitting of the model. If the curves converge at a high score, the model is well-fitted."
   ]
  },
  {
   "cell_type": "markdown",
   "metadata": {},
   "source": [
    "## XGBoost"
   ]
  },
  {
   "attachments": {
    "image.png": {
     "image/png": "[encoded data removed]"
    }
   },
   "cell_type": "markdown",
   "metadata": {},
   "source": [
    "XGB performed much better before setting up a pipeline...\n",
    "![image.png](attachment:image.png)"
   ]
  },
  {
   "cell_type": "code",
   "execution_count": null,
   "metadata": {
    "ExecuteTime": {
     "end_time": "2023-03-31T19:59:53.425340Z",
     "start_time": "2023-03-31T19:59:53.425340Z"
    }
   },
   "outputs": [],
   "source": [
    "xgb_model = Pipeline([\n",
    "    ('ColTrans', ColTrans),\n",
    "    ('xgb', XGBClassifier(random_state=42))\n",
    "])"
   ]
  },
  {
   "cell_type": "code",
   "execution_count": null,
   "metadata": {
    "ExecuteTime": {
     "end_time": "2023-03-31T19:59:53.427429Z",
     "start_time": "2023-03-31T19:59:53.427429Z"
    }
   },
   "outputs": [],
   "source": [
    "score_card = score_model(xgb_model, \n",
    "                         'XGBoost',\n",
    "                         score_card,\n",
    "                         X_train,\n",
    "                         X_test,\n",
    "                         y_train,\n",
    "                         y_test)"
   ]
  },
  {
   "cell_type": "code",
   "execution_count": null,
   "metadata": {
    "ExecuteTime": {
     "end_time": "2023-03-31T19:59:53.427429Z",
     "start_time": "2023-03-31T19:59:53.427429Z"
    }
   },
   "outputs": [],
   "source": [
    "score_card"
   ]
  },
  {
   "cell_type": "markdown",
   "metadata": {},
   "source": [
    "### Cross-Val Results"
   ]
  },
  {
   "cell_type": "code",
   "execution_count": null,
   "metadata": {
    "ExecuteTime": {
     "end_time": "2023-03-31T19:59:53.428429Z",
     "start_time": "2023-03-31T19:59:53.428429Z"
    }
   },
   "outputs": [],
   "source": [
    "cv_score_card = cv_score(xgb_model,\n",
    "                        'XGBoost',\n",
    "                        cv_score_card,\n",
    "                        X_train,\n",
    "                        y_train)"
   ]
  },
  {
   "cell_type": "code",
   "execution_count": null,
   "metadata": {
    "ExecuteTime": {
     "end_time": "2023-03-31T19:59:53.429429Z",
     "start_time": "2023-03-31T19:59:53.429429Z"
    }
   },
   "outputs": [],
   "source": [
    "cv_score_card"
   ]
  },
  {
   "cell_type": "markdown",
   "metadata": {},
   "source": [
    "## Trying something new"
   ]
  },
  {
   "cell_type": "markdown",
   "metadata": {},
   "source": [
    "https://scikit-optimize.github.io/stable/install.html"
   ]
  },
  {
   "cell_type": "code",
   "execution_count": null,
   "metadata": {
    "ExecuteTime": {
     "end_time": "2023-03-31T19:59:53.429429Z",
     "start_time": "2023-03-31T19:59:53.429429Z"
    }
   },
   "outputs": [],
   "source": [
    "from sklearn.model_selection import GridSearchCV, RandomizedSearchCV"
   ]
  },
  {
   "cell_type": "code",
   "execution_count": null,
   "metadata": {
    "ExecuteTime": {
     "end_time": "2023-03-31T19:59:53.430429Z",
     "start_time": "2023-03-31T19:59:53.430429Z"
    }
   },
   "outputs": [],
   "source": [
    "xgb_model = Pipeline([\n",
    "    ('ColTrans', ColTrans),\n",
    "    ('xgb', XGBClassifier(random_state=42))\n",
    "])"
   ]
  },
  {
   "cell_type": "code",
   "execution_count": null,
   "metadata": {
    "ExecuteTime": {
     "end_time": "2023-03-31T19:59:53.430429Z",
     "start_time": "2023-03-31T19:59:53.430429Z"
    }
   },
   "outputs": [],
   "source": [
    "xgb_params = {\n",
    "    'xgb__booster': ['gbtree', 'gblinear', 'dart'],\n",
    "    'xgb__learning_rate':[.1, .05, .2, .3],\n",
    "    'xgb__n_estimators':[100, 200, 300, 400]\n",
    "}\n",
    "xgb_gs = RandomizedSearchCV(estimator=xgb_model, \n",
    "                      param_distributions=xgb_params, \n",
    "                      cv=5, \n",
    "                      verbose=1)\n",
    "\n",
    "xgb_gs.fit(X_train, y_train);"
   ]
  },
  {
   "cell_type": "code",
   "execution_count": null,
   "metadata": {
    "ExecuteTime": {
     "end_time": "2023-03-31T19:59:53.431429Z",
     "start_time": "2023-03-31T19:59:53.431429Z"
    }
   },
   "outputs": [],
   "source": [
    "xgb_gs.best_params_"
   ]
  },
  {
   "cell_type": "code",
   "execution_count": null,
   "metadata": {
    "ExecuteTime": {
     "end_time": "2023-03-31T19:59:53.432429Z",
     "start_time": "2023-03-31T19:59:53.432429Z"
    }
   },
   "outputs": [],
   "source": [
    "xgb_gs.best_params_"
   ]
  },
  {
   "cell_type": "code",
   "execution_count": null,
   "metadata": {
    "ExecuteTime": {
     "end_time": "2023-03-31T19:59:53.432429Z",
     "start_time": "2023-03-31T19:59:53.432429Z"
    }
   },
   "outputs": [],
   "source": [
    "gs_estimators = xgb_gs.best_estimator_"
   ]
  },
  {
   "cell_type": "code",
   "execution_count": null,
   "metadata": {
    "ExecuteTime": {
     "end_time": "2023-03-31T19:59:53.433430Z",
     "start_time": "2023-03-31T19:59:53.433430Z"
    }
   },
   "outputs": [],
   "source": [
    "# Define the parameters for the learning curve\n",
    "train_sizes, train_scores, test_scores = learning_curve(\n",
    "    gs_estimators, X, y, train_sizes=np.linspace(0.5, 1.0, 5),\n",
    "    scoring='accuracy', cv=5\n",
    ")\n",
    "\n",
    "# Compute the mean and standard deviation of the training and test scores\n",
    "train_scores_mean = np.mean(train_scores, axis=1)\n",
    "train_scores_std = np.std(train_scores, axis=1)\n",
    "test_scores_mean = np.mean(test_scores, axis=1)\n",
    "test_scores_std = np.std(test_scores, axis=1)\n",
    "\n",
    "# Plot the learning curve\n",
    "plt.figure(figsize=(8,6))\n",
    "plt.plot(train_sizes, train_scores_mean, label='Training score')\n",
    "plt.fill_between(train_sizes, train_scores_mean - train_scores_std,\n",
    "                 train_scores_mean + train_scores_std, alpha=0.1)\n",
    "plt.plot(train_sizes, test_scores_mean, label='Cross-validation score')\n",
    "plt.fill_between(train_sizes, test_scores_mean - test_scores_std,\n",
    "                 test_scores_mean + test_scores_std, alpha=0.1)\n",
    "plt.title('Learning curve')\n",
    "plt.xlabel('Training examples')\n",
    "plt.ylabel('Score')\n",
    "plt.legend(loc='best')\n",
    "plt.show()"
   ]
  },
  {
   "cell_type": "code",
   "execution_count": null,
   "metadata": {},
   "outputs": [],
   "source": []
  },
  {
   "cell_type": "markdown",
   "metadata": {},
   "source": [
    "## XGB Random Forest"
   ]
  },
  {
   "cell_type": "code",
   "execution_count": null,
   "metadata": {
    "ExecuteTime": {
     "end_time": "2023-03-31T19:59:53.433430Z",
     "start_time": "2023-03-31T19:59:53.433430Z"
    }
   },
   "outputs": [],
   "source": [
    "xgbrf_model = Pipeline([\n",
    "    ('ColTrans', ColTrans),\n",
    "    ('xgbrf', XGBRFClassifier(random_state=42))\n",
    "])"
   ]
  },
  {
   "cell_type": "code",
   "execution_count": null,
   "metadata": {
    "ExecuteTime": {
     "end_time": "2023-03-31T19:59:53.434935Z",
     "start_time": "2023-03-31T19:59:53.434935Z"
    }
   },
   "outputs": [],
   "source": [
    "score_card = score_model(xgbrf_model, \n",
    "                         'XGB Random Forest',\n",
    "                         score_card,\n",
    "                         X_train,\n",
    "                         X_test,\n",
    "                         y_train,\n",
    "                         y_test)"
   ]
  },
  {
   "cell_type": "code",
   "execution_count": null,
   "metadata": {
    "ExecuteTime": {
     "end_time": "2023-03-31T19:59:53.435000Z",
     "start_time": "2023-03-31T19:59:53.435000Z"
    }
   },
   "outputs": [],
   "source": [
    "score_card"
   ]
  },
  {
   "cell_type": "markdown",
   "metadata": {},
   "source": [
    "## Random Forest"
   ]
  },
  {
   "cell_type": "code",
   "execution_count": null,
   "metadata": {
    "ExecuteTime": {
     "end_time": "2023-03-31T19:59:53.435943Z",
     "start_time": "2023-03-31T19:59:53.435943Z"
    }
   },
   "outputs": [],
   "source": [
    "rf_model = Pipeline([\n",
    "    ('ColTrans', ColTrans),\n",
    "    ('rf', RandomForestClassifier(random_state=42))\n",
    "])"
   ]
  },
  {
   "cell_type": "code",
   "execution_count": null,
   "metadata": {
    "ExecuteTime": {
     "end_time": "2023-03-31T19:59:53.436939Z",
     "start_time": "2023-03-31T19:59:53.436939Z"
    }
   },
   "outputs": [],
   "source": [
    "score_card = score_model(rf_model, \n",
    "                         'Random Forest',\n",
    "                         score_card,\n",
    "                         X_train,\n",
    "                         X_test,\n",
    "                         y_train,\n",
    "                         y_test)"
   ]
  },
  {
   "cell_type": "code",
   "execution_count": null,
   "metadata": {
    "ExecuteTime": {
     "end_time": "2023-03-31T19:59:53.437939Z",
     "start_time": "2023-03-31T19:59:53.437939Z"
    }
   },
   "outputs": [],
   "source": [
    "score_card"
   ]
  },
  {
   "cell_type": "markdown",
   "metadata": {},
   "source": [
    "## SVC"
   ]
  },
  {
   "cell_type": "code",
   "execution_count": null,
   "metadata": {
    "ExecuteTime": {
     "end_time": "2023-03-31T19:59:53.437939Z",
     "start_time": "2023-03-31T19:59:53.437939Z"
    }
   },
   "outputs": [],
   "source": [
    "SVC_model = Pipeline([\n",
    "    ('ColTrans', ColTrans),\n",
    "    ('svc', SVC(random_state=42))\n",
    "])"
   ]
  },
  {
   "cell_type": "code",
   "execution_count": null,
   "metadata": {
    "ExecuteTime": {
     "end_time": "2023-03-31T19:59:53.438939Z",
     "start_time": "2023-03-31T19:59:53.438939Z"
    }
   },
   "outputs": [],
   "source": [
    "score_card = score_model(SVC_model, \n",
    "                         'SVC',\n",
    "                         score_card,\n",
    "                         X_train,\n",
    "                         X_test,\n",
    "                         y_train,\n",
    "                         y_test)"
   ]
  },
  {
   "cell_type": "code",
   "execution_count": null,
   "metadata": {
    "ExecuteTime": {
     "end_time": "2023-03-31T19:59:53.439940Z",
     "start_time": "2023-03-31T19:59:53.439940Z"
    }
   },
   "outputs": [],
   "source": [
    "score_card"
   ]
  },
  {
   "cell_type": "code",
   "execution_count": null,
   "metadata": {
    "ExecuteTime": {
     "end_time": "2023-03-31T19:59:53.439940Z",
     "start_time": "2023-03-31T19:59:53.439940Z"
    }
   },
   "outputs": [],
   "source": [
    "SVC_model.fit(X_train, y_train);"
   ]
  },
  {
   "cell_type": "code",
   "execution_count": null,
   "metadata": {
    "ExecuteTime": {
     "end_time": "2023-03-31T19:59:53.440940Z",
     "start_time": "2023-03-31T19:59:53.440940Z"
    }
   },
   "outputs": [],
   "source": [
    "SVC_model.score(X_test, y_test)"
   ]
  },
  {
   "cell_type": "markdown",
   "metadata": {},
   "source": [
    "SVC Doesnt work well. Need to troubleshoot and see what's up."
   ]
  },
  {
   "cell_type": "markdown",
   "metadata": {},
   "source": [
    "### SVC Gridsearch"
   ]
  },
  {
   "cell_type": "code",
   "execution_count": null,
   "metadata": {
    "ExecuteTime": {
     "end_time": "2023-03-31T19:59:53.440940Z",
     "start_time": "2023-03-31T19:59:53.440940Z"
    }
   },
   "outputs": [],
   "source": [
    "svc_params = {\n",
    "    'svc__kernel':['linear', 'poly', 'rbf', 'sigmoid']\n",
    "}"
   ]
  },
  {
   "cell_type": "code",
   "execution_count": null,
   "metadata": {
    "ExecuteTime": {
     "end_time": "2023-03-31T19:59:53.441939Z",
     "start_time": "2023-03-31T19:59:53.441939Z"
    }
   },
   "outputs": [],
   "source": [
    "svc_gs = GridSearchCV(SVC_model,\n",
    "                      param_grid=svc_params,\n",
    "                      cv=5,\n",
    "                      verbose=1,\n",
    "                      n_jobs=3)"
   ]
  },
  {
   "cell_type": "code",
   "execution_count": null,
   "metadata": {
    "ExecuteTime": {
     "end_time": "2023-03-31T19:59:53.442939Z",
     "start_time": "2023-03-31T19:59:53.442939Z"
    },
    "scrolled": false
   },
   "outputs": [],
   "source": [
    "svc_gs.fit(X_train, y_train);"
   ]
  },
  {
   "cell_type": "code",
   "execution_count": null,
   "metadata": {
    "ExecuteTime": {
     "end_time": "2023-03-31T19:59:53.442939Z",
     "start_time": "2023-03-31T19:59:53.442939Z"
    }
   },
   "outputs": [],
   "source": [
    "svc_gs.best_params_"
   ]
  },
  {
   "cell_type": "code",
   "execution_count": null,
   "metadata": {
    "ExecuteTime": {
     "end_time": "2023-03-31T19:59:53.443940Z",
     "start_time": "2023-03-31T19:59:53.443940Z"
    }
   },
   "outputs": [],
   "source": [
    "svc_gs.best_score_"
   ]
  },
  {
   "cell_type": "code",
   "execution_count": null,
   "metadata": {
    "ExecuteTime": {
     "end_time": "2023-03-31T19:59:53.443940Z",
     "start_time": "2023-03-31T19:59:53.443940Z"
    }
   },
   "outputs": [],
   "source": [
    "svc_gs.cv_results_"
   ]
  },
  {
   "cell_type": "markdown",
   "metadata": {},
   "source": [
    "The linear model is the only one that performed well at all. Lets try another attempt at GS."
   ]
  },
  {
   "cell_type": "markdown",
   "metadata": {},
   "source": [
    "### SVC GridSearch 2"
   ]
  },
  {
   "cell_type": "code",
   "execution_count": null,
   "metadata": {
    "ExecuteTime": {
     "end_time": "2023-03-31T19:59:53.444940Z",
     "start_time": "2023-03-31T19:59:53.444940Z"
    }
   },
   "outputs": [],
   "source": [
    "svc_params2 = {\n",
    "    'svc__kernel':['linear'],\n",
    "    'svc__shrinking':[True, False],\n",
    "    'svc__class_weight':['balanced', None],\n",
    "    'svc__C':[1, .5, 1.5]\n",
    "}"
   ]
  },
  {
   "cell_type": "code",
   "execution_count": null,
   "metadata": {
    "ExecuteTime": {
     "end_time": "2023-03-31T19:59:53.445997Z",
     "start_time": "2023-03-31T19:59:53.445997Z"
    }
   },
   "outputs": [],
   "source": [
    "svc_gs2 = GridSearchCV(SVC_model,\n",
    "                      param_grid=svc_params2,\n",
    "                      cv=5,\n",
    "                      verbose=1,\n",
    "                      n_jobs=3)"
   ]
  },
  {
   "cell_type": "code",
   "execution_count": null,
   "metadata": {
    "ExecuteTime": {
     "end_time": "2023-03-31T19:59:53.445997Z",
     "start_time": "2023-03-31T19:59:53.445997Z"
    }
   },
   "outputs": [],
   "source": [
    "svc_gs2.fit(X_train, y_train);"
   ]
  },
  {
   "cell_type": "code",
   "execution_count": null,
   "metadata": {
    "ExecuteTime": {
     "end_time": "2023-03-31T19:59:53.446997Z",
     "start_time": "2023-03-31T19:59:53.446997Z"
    }
   },
   "outputs": [],
   "source": [
    "svc_gs2.best_params_"
   ]
  },
  {
   "cell_type": "code",
   "execution_count": null,
   "metadata": {
    "ExecuteTime": {
     "end_time": "2023-03-31T19:59:53.446997Z",
     "start_time": "2023-03-31T19:59:53.446997Z"
    }
   },
   "outputs": [],
   "source": [
    "svc_gs2.best_score_"
   ]
  },
  {
   "cell_type": "markdown",
   "metadata": {},
   "source": [
    "### Saving best GS to Scorecard"
   ]
  },
  {
   "cell_type": "code",
   "execution_count": null,
   "metadata": {
    "ExecuteTime": {
     "end_time": "2023-03-31T19:59:53.447997Z",
     "start_time": "2023-03-31T19:59:53.447997Z"
    }
   },
   "outputs": [],
   "source": [
    "score_card = score_model(svc_gs2.best_estimator_, \n",
    "                         'SVC GS',\n",
    "                         score_card,\n",
    "                         X_train,\n",
    "                         X_test,\n",
    "                         y_train,\n",
    "                         y_test)"
   ]
  },
  {
   "cell_type": "code",
   "execution_count": null,
   "metadata": {
    "ExecuteTime": {
     "end_time": "2023-03-31T19:59:53.448996Z",
     "start_time": "2023-03-31T19:59:53.448996Z"
    }
   },
   "outputs": [],
   "source": [
    "score_card"
   ]
  },
  {
   "cell_type": "markdown",
   "metadata": {},
   "source": [
    "## NuSVC"
   ]
  },
  {
   "cell_type": "code",
   "execution_count": null,
   "metadata": {
    "ExecuteTime": {
     "end_time": "2023-03-31T19:59:53.448996Z",
     "start_time": "2023-03-31T19:59:53.448996Z"
    }
   },
   "outputs": [],
   "source": [
    "NuSVC_model = Pipeline([\n",
    "    ('ColTrans', ColTrans),\n",
    "    ('nusvc', NuSVC(random_state=42))\n",
    "])"
   ]
  },
  {
   "cell_type": "code",
   "execution_count": null,
   "metadata": {
    "ExecuteTime": {
     "end_time": "2023-03-31T19:59:53.449997Z",
     "start_time": "2023-03-31T19:59:53.449997Z"
    }
   },
   "outputs": [],
   "source": [
    "score_card = score_model(NuSVC_model, \n",
    "                         'NuSVC',\n",
    "                         score_card,\n",
    "                         X_train,\n",
    "                         X_test,\n",
    "                         y_train,\n",
    "                         y_test)"
   ]
  },
  {
   "cell_type": "code",
   "execution_count": null,
   "metadata": {
    "ExecuteTime": {
     "end_time": "2023-03-31T19:59:53.450998Z",
     "start_time": "2023-03-31T19:59:53.450998Z"
    }
   },
   "outputs": [],
   "source": [
    "score_card"
   ]
  },
  {
   "cell_type": "markdown",
   "metadata": {},
   "source": [
    "Surprisingly, untuned NuSVC performs much better than untuned standard SVC."
   ]
  },
  {
   "cell_type": "markdown",
   "metadata": {},
   "source": [
    "### GridSearch NuSVC"
   ]
  },
  {
   "cell_type": "code",
   "execution_count": null,
   "metadata": {
    "ExecuteTime": {
     "end_time": "2023-03-31T19:59:53.450998Z",
     "start_time": "2023-03-31T19:59:53.450998Z"
    }
   },
   "outputs": [],
   "source": [
    "NuSVC()"
   ]
  },
  {
   "cell_type": "code",
   "execution_count": null,
   "metadata": {
    "ExecuteTime": {
     "end_time": "2023-03-31T19:59:53.451998Z",
     "start_time": "2023-03-31T19:59:53.451998Z"
    }
   },
   "outputs": [],
   "source": [
    "nusvc_params = {\n",
    "#     'nusvc__nu': [.25, .5, .75],\n",
    "    'nusvc__kernel':['linear', 'poly', 'rbf', 'sigmoid'],\n",
    "    'nusvc__degree': [1,2,3,4,5],\n",
    "#     'nusvc__gamma': ['scale', 'auto'],\n",
    "#     'nusvc__shrinking':[True, False],\n",
    "#     'nusvc__class_weight':['balanced', None]\n",
    "}"
   ]
  },
  {
   "cell_type": "code",
   "execution_count": null,
   "metadata": {
    "ExecuteTime": {
     "end_time": "2023-03-31T19:59:53.451998Z",
     "start_time": "2023-03-31T19:59:53.451998Z"
    }
   },
   "outputs": [],
   "source": [
    "nusvc_gs = GridSearchCV(NuSVC_model,\n",
    "                        param_grid=nusvc_params,\n",
    "                        cv=5,\n",
    "                        verbose=1,\n",
    "                        n_jobs=4)"
   ]
  },
  {
   "cell_type": "code",
   "execution_count": null,
   "metadata": {
    "ExecuteTime": {
     "end_time": "2023-03-31T19:59:53.452997Z",
     "start_time": "2023-03-31T19:59:53.452997Z"
    }
   },
   "outputs": [],
   "source": [
    "nusvc_gs.fit(X_train, y_train);"
   ]
  },
  {
   "cell_type": "code",
   "execution_count": null,
   "metadata": {
    "ExecuteTime": {
     "end_time": "2023-03-31T19:59:53.452997Z",
     "start_time": "2023-03-31T19:59:53.452997Z"
    }
   },
   "outputs": [],
   "source": [
    "nusvc_gs.best_params_"
   ]
  },
  {
   "cell_type": "code",
   "execution_count": null,
   "metadata": {
    "ExecuteTime": {
     "end_time": "2023-03-31T19:59:53.453997Z",
     "start_time": "2023-03-31T19:59:53.453997Z"
    }
   },
   "outputs": [],
   "source": [
    "nusvc_gs.best_score_"
   ]
  },
  {
   "cell_type": "code",
   "execution_count": null,
   "metadata": {},
   "outputs": [],
   "source": []
  },
  {
   "cell_type": "code",
   "execution_count": null,
   "metadata": {
    "ExecuteTime": {
     "end_time": "2023-03-31T19:59:53.453997Z",
     "start_time": "2023-03-31T19:59:53.453997Z"
    }
   },
   "outputs": [],
   "source": [
    "score_card = score_model(nusvc_gs.best_estimator_, \n",
    "                         'NuSVC GS',\n",
    "                         score_card,\n",
    "                         X_train,\n",
    "                         X_test,\n",
    "                         y_train,\n",
    "                         y_test)"
   ]
  },
  {
   "cell_type": "code",
   "execution_count": null,
   "metadata": {
    "ExecuteTime": {
     "end_time": "2023-03-31T19:59:53.454997Z",
     "start_time": "2023-03-31T19:59:53.454997Z"
    }
   },
   "outputs": [],
   "source": [
    "score_card"
   ]
  },
  {
   "cell_type": "code",
   "execution_count": null,
   "metadata": {},
   "outputs": [],
   "source": []
  },
  {
   "cell_type": "markdown",
   "metadata": {},
   "source": [
    "## Deep Learning/Neural Network"
   ]
  },
  {
   "cell_type": "code",
   "execution_count": null,
   "metadata": {},
   "outputs": [],
   "source": []
  },
  {
   "cell_type": "code",
   "execution_count": null,
   "metadata": {},
   "outputs": [],
   "source": []
  },
  {
   "cell_type": "code",
   "execution_count": null,
   "metadata": {},
   "outputs": [],
   "source": []
  },
  {
   "cell_type": "code",
   "execution_count": null,
   "metadata": {},
   "outputs": [],
   "source": []
  },
  {
   "cell_type": "code",
   "execution_count": null,
   "metadata": {},
   "outputs": [],
   "source": []
  },
  {
   "cell_type": "code",
   "execution_count": null,
   "metadata": {},
   "outputs": [],
   "source": []
  },
  {
   "cell_type": "code",
   "execution_count": null,
   "metadata": {},
   "outputs": [],
   "source": []
  },
  {
   "cell_type": "markdown",
   "metadata": {},
   "source": [
    "# Saving Functions just in case changes need made"
   ]
  },
  {
   "cell_type": "code",
   "execution_count": null,
   "metadata": {
    "ExecuteTime": {
     "end_time": "2023-03-31T19:59:37.603087Z",
     "start_time": "2023-03-31T19:52:55.585Z"
    }
   },
   "outputs": [],
   "source": [
    "# # Making a function to automate results\n",
    "# def score_model(model, \n",
    "#                 model_name, \n",
    "#                 X_train=X_train, \n",
    "#                 X_test=X_test, \n",
    "#                 y_train=y_train, \n",
    "#                 y_test=y_test,\n",
    "#                 normalize=None):\n",
    "    \n",
    "#     '''\n",
    "#     Input an sklearn model and model name (string).\n",
    "#     Returns a Confusion Matrix and classification Reports for\n",
    "#     train and test sets.    \n",
    "#     '''\n",
    "    \n",
    "#     #Check if model is already fit\n",
    "#     try:\n",
    "#         check_is_fitted(model)\n",
    "#         fit = True\n",
    "#     except:\n",
    "#         fit = False\n",
    "    \n",
    "#     #fit the model\n",
    "#     if fit == False:\n",
    "#         model.fit(X_train, y_train)\n",
    "    \n",
    "#     # setting up the plot\n",
    "#     fig, ax = plt.subplots(1,2, figsize=(12,6))\n",
    "#     fig.suptitle(f'{model_name} Results', size=25)\n",
    "    \n",
    "    \n",
    "#     #Train Confusion Matrix\n",
    "#     plot_confusion_matrix(model, \n",
    "#                           X_train, \n",
    "#                           y_train, \n",
    "#                           ax=ax[0], \n",
    "#                           normalize=normalize)\n",
    "#     ax[0].set_title('Train Results', size=15)\n",
    "\n",
    "#     # Test Confusion Matrix\n",
    "#     plot_confusion_matrix(model, \n",
    "#                           X_test, \n",
    "#                           y_test, \n",
    "#                           ax=ax[1],\n",
    "#                           normalize=normalize)\n",
    "#     ax[1].set_title('Test Results', size=15)\n",
    "\n",
    "\n",
    "#     # Classification Reports\n",
    "#     # Train\n",
    "#     train_scores = classification_report(y_train, model.predict(X_train))\n",
    "#     print('Train Report:\\n')\n",
    "#     print(train_scores)\n",
    "    \n",
    "#     # Test\n",
    "#     test_scores = classification_report(y_test, model.predict(X_test))\n",
    "#     print('Test Report:\\n')\n",
    "#     print(test_scores)"
   ]
  },
  {
   "cell_type": "code",
   "execution_count": null,
   "metadata": {
    "ExecuteTime": {
     "end_time": "2023-03-31T19:59:37.604087Z",
     "start_time": "2023-03-31T19:52:55.586Z"
    }
   },
   "outputs": [],
   "source": [
    "# def cv_score(model, \n",
    "#              model_name,\n",
    "#              cv_score_card = None,\n",
    "#              X_train=None, \n",
    "#              y_train=None):\n",
    "    \n",
    "    \n",
    "#     # setting up crossval function with custom score list\n",
    "#     cv = cross_validate(model,\n",
    "#                        X_train,\n",
    "#                        y_train,\n",
    "#                        scoring={'accuracy':'accuracy', \n",
    "#                                 'precision':'precision', \n",
    "#                                 'recall':'recall', \n",
    "#                                 'f1':'f1', \n",
    "#                                 'roc_auc':'roc_auc'},\n",
    "#                                 return_train_score=True)\n",
    "    \n",
    "#     # creating dict from results\n",
    "#     cv_results_dict = {'Name': model_name, \n",
    "#                        'Train Accuracy':cv['train_accuracy'].mean(),\n",
    "#                        'Test Accuracy':cv['test_accuracy'].mean(),\n",
    "#                        'Train Precision': cv['train_precision'].mean(),\n",
    "#                        'Test Precision': cv['test_precision'].mean(),\n",
    "#                        'Train Recall': cv['train_recall'].mean(),\n",
    "#                        'Test Recall': cv['test_recall'].mean(),\n",
    "#                        'Train F1 Score': cv['train_f1'].mean(),\n",
    "#                        'Test F1 Score': cv['test_f1'].mean(),\n",
    "#                        'Train ROC/AUC Score': cv['train_roc_auc'].mean(),\n",
    "#                        'Test ROC/AUC Score': cv['test_roc_auc'].mean()}\n",
    "    \n",
    "    \n",
    "#     # checking for overfit\n",
    "#     if abs(cv_results_dict['Train Accuracy'] - cv_results_dict['Test Accuracy']) > .5 or\\\n",
    "#        abs(cv_results_dict['Train Precision'] - cv_results_dict['Test Precision']) > .5 or\\\n",
    "#        abs(cv_results_dict['Train Recall'] - cv_results_dict['Test Recall']) > .5 or\\\n",
    "#        abs(cv_results_dict['Train F1 Score'] - cv_results_dict['Test F1 Score']) > .5 or\\\n",
    "#        abs(cv_results_dict['Train ROC/AUC Score'] - cv_results_dict['Test ROC/AUC Score']) > .5:\n",
    "#            cv_results_dict['Overfit?'] = 'True'\n",
    "#     else:\n",
    "#         cv_results_dict['Overfit?'] = 'False'\n",
    "    \n",
    "    \n",
    "    \n",
    "    \n",
    "#     if type(cv_score_card) == pd.core.frame.DataFrame:\n",
    "#         cv_score_card = cv_score_card.append(cv_results_dict, ignore_index=True)\n",
    "#         return(cv_score_card.drop_duplicates())\n",
    "#     else:\n",
    "#         print(pd.DataFrame([cv_score_card]))"
   ]
  },
  {
   "cell_type": "code",
   "execution_count": null,
   "metadata": {
    "ExecuteTime": {
     "end_time": "2023-03-31T19:59:37.604087Z",
     "start_time": "2023-03-31T19:52:55.587Z"
    }
   },
   "outputs": [],
   "source": [
    "# learning_curve()"
   ]
  },
  {
   "cell_type": "code",
   "execution_count": null,
   "metadata": {
    "ExecuteTime": {
     "end_time": "2023-03-31T19:59:37.605089Z",
     "start_time": "2023-03-31T19:52:55.590Z"
    },
    "scrolled": false
   },
   "outputs": [],
   "source": [
    "# Define the parameters for the learning curve\n",
    "train_sizes, train_scores, test_scores = learning_curve(\n",
    "    log_reg, X, y, train_sizes=np.linspace(0.1, 1.0, 10),\n",
    "    scoring='accuracy', cv=5\n",
    ")\n",
    "\n",
    "# Compute the mean and standard deviation of the training and test scores\n",
    "train_scores_mean = np.mean(train_scores, axis=1)\n",
    "train_scores_std = np.std(train_scores, axis=1)\n",
    "test_scores_mean = np.mean(test_scores, axis=1)\n",
    "test_scores_std = np.std(test_scores, axis=1)\n",
    "\n",
    "# Plot the learning curve\n",
    "plt.figure(figsize=(8,6))\n",
    "plt.plot(train_sizes, train_scores_mean, label='Training score')\n",
    "plt.fill_between(train_sizes, train_scores_mean - train_scores_std,\n",
    "                 train_scores_mean + train_scores_std, alpha=0.1)\n",
    "plt.plot(train_sizes, test_scores_mean, label='Cross-validation score')\n",
    "plt.fill_between(train_sizes, test_scores_mean - test_scores_std,\n",
    "                 test_scores_mean + test_scores_std, alpha=0.1)\n",
    "plt.title('Learning curve')\n",
    "plt.xlabel('Training examples')\n",
    "plt.ylabel('Score')\n",
    "plt.legend(loc='best')\n",
    "plt.show()"
   ]
  },
  {
   "cell_type": "code",
   "execution_count": null,
   "metadata": {},
   "outputs": [],
   "source": []
  }
 ],
 "metadata": {
  "kernelspec": {
   "display_name": "Python (tensorflow)",
   "language": "python",
   "name": "tf"
  },
  "language_info": {
   "codemirror_mode": {
    "name": "ipython",
    "version": 3
   },
   "file_extension": ".py",
   "mimetype": "text/x-python",
   "name": "python",
   "nbconvert_exporter": "python",
   "pygments_lexer": "ipython3",
   "version": "3.9.15"
  },
  "toc": {
   "base_numbering": 1,
   "nav_menu": {},
   "number_sections": true,
   "sideBar": false,
   "skip_h1_title": false,
   "title_cell": "Table of Contents",
   "title_sidebar": "Contents",
   "toc_cell": true,
   "toc_position": {},
   "toc_section_display": true,
   "toc_window_display": false
  },
  "varInspector": {
   "cols": {
    "lenName": 16,
    "lenType": 16,
    "lenVar": 40
   },
   "kernels_config": {
    "python": {
     "delete_cmd_postfix": "",
     "delete_cmd_prefix": "del ",
     "library": "var_list.py",
     "varRefreshCmd": "print(var_dic_list())"
    },
    "r": {
     "delete_cmd_postfix": ") ",
     "delete_cmd_prefix": "rm(",
     "library": "var_list.r",
     "varRefreshCmd": "cat(var_dic_list()) "
    }
   },
   "types_to_exclude": [
    "module",
    "function",
    "builtin_function_or_method",
    "instance",
    "_Feature"
   ],
   "window_display": false
  }
 },
 "nbformat": 4,
 "nbformat_minor": 4
}
